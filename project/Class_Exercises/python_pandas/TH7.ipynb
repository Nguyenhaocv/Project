{
  "cells": [
    {
      "cell_type": "markdown",
      "metadata": {
        "id": "eNxMh14mhT99"
      },
      "source": [
        "Dữ liệu bài này được lấy từ https://www.kaggle.com/rtatman/animal-bites\n",
        "\n",
        "Thông tin các cột:\n",
        "- bite_date: Ngày nạn nhân bị cắn\n",
        "- SpeciesIDDesc: Loài của con vật gây vết cắn (ví dụ chó, mèo, ...)\n",
        "- BreedIDDesc: Giống nếu có (ví dụ giống PIT BULL của loài chó)\n",
        "- GenderIDDesc: Giới tính của con vật\n",
        "- color: Màu sắc con vật\n",
        "- vaccination_yrs: Số năm kể từ lần cuối con vật được tiêm ngừa\n",
        "- vaccination_date: Lần cuối con vật được tiêm ngừa\n",
        "- victim_zip: Mã zipcode của nạn nhân\n",
        "- AdvIssuedYNDesc: Nạn nhân có nhận được lời khuyên từ bác sĩ\n",
        "- WhereBittenIDDesc: Vị trí bị cắn\n",
        "- quarantine_date: Ngày con vật bị nhốt lại nếu có\n",
        "- DispositionIDDesc: Hành động của nhà chức trách với con vật\n",
        "- head_sent_date: Ngày con vật được đưa đến phòng nghiên cứu để kiểm tra bệnh dại nếu có\n",
        "- release_date: Ngày con vật được thả ra nếu có\n",
        "- ResultsIDDesc: Kết quả kiểm tra bệnh dại nếu có"
      ]
    },
    {
      "cell_type": "markdown",
      "metadata": {
        "id": "uuSvhBlIhT-B"
      },
      "source": [
        "*Câu 1*\n",
        "\n",
        "a) Đọc file Health_animalBites.csv và lưu vào biến `bites`.\n",
        "\n",
        "b) Thực hiện các chuyển đổi dữ liệu cần thiết. Để xử lý lỗi, tìm hiểu tham số errors. Đặt lại tham số errors thành chuỗi ký tự thích hợp để chuyển các giá trị lỗi về NaT. https://pandas.pydata.org/docs/reference/api/pandas.to_datetime.html"
      ]
    },
    {
      "cell_type": "code",
      "execution_count": null,
      "metadata": {
        "id": "eS_4f47shT-C"
      },
      "outputs": [],
      "source": [
        "# Import libraries\n",
        "import pandas as pd\n",
        "import numpy as np"
      ]
    },
    {
      "cell_type": "code",
      "execution_count": null,
      "metadata": {
        "colab": {
          "base_uri": "https://localhost:8080/",
          "height": 835
        },
        "id": "V1EsKs79hT-b",
        "outputId": "d7b4378e-0305-45c8-cb20-061d17b1dc8f"
      },
      "outputs": [
        {
          "output_type": "execute_result",
          "data": {
            "text/html": [
              "\n",
              "  <div id=\"df-d9b72d87-a04a-436e-adc5-5cea0585cc5c\">\n",
              "    <div class=\"colab-df-container\">\n",
              "      <div>\n",
              "<style scoped>\n",
              "    .dataframe tbody tr th:only-of-type {\n",
              "        vertical-align: middle;\n",
              "    }\n",
              "\n",
              "    .dataframe tbody tr th {\n",
              "        vertical-align: top;\n",
              "    }\n",
              "\n",
              "    .dataframe thead th {\n",
              "        text-align: right;\n",
              "    }\n",
              "</style>\n",
              "<table border=\"1\" class=\"dataframe\">\n",
              "  <thead>\n",
              "    <tr style=\"text-align: right;\">\n",
              "      <th></th>\n",
              "      <th>bite_date</th>\n",
              "      <th>SpeciesIDDesc</th>\n",
              "      <th>BreedIDDesc</th>\n",
              "      <th>GenderIDDesc</th>\n",
              "      <th>color</th>\n",
              "      <th>vaccination_yrs</th>\n",
              "      <th>vaccination_date</th>\n",
              "      <th>victim_zip</th>\n",
              "      <th>AdvIssuedYNDesc</th>\n",
              "      <th>WhereBittenIDDesc</th>\n",
              "      <th>quarantine_date</th>\n",
              "      <th>DispositionIDDesc</th>\n",
              "      <th>head_sent_date</th>\n",
              "      <th>release_date</th>\n",
              "      <th>ResultsIDDesc</th>\n",
              "    </tr>\n",
              "  </thead>\n",
              "  <tbody>\n",
              "    <tr>\n",
              "      <th>0</th>\n",
              "      <td>1985-05-05 00:00:00</td>\n",
              "      <td>DOG</td>\n",
              "      <td>NaN</td>\n",
              "      <td>FEMALE</td>\n",
              "      <td>LIG. BROWN</td>\n",
              "      <td>1.0</td>\n",
              "      <td>1985-06-20 00:00:00</td>\n",
              "      <td>40229</td>\n",
              "      <td>NO</td>\n",
              "      <td>BODY</td>\n",
              "      <td>1985-05-05 00:00:00</td>\n",
              "      <td>UNKNOWN</td>\n",
              "      <td>NaN</td>\n",
              "      <td>NaN</td>\n",
              "      <td>UNKNOWN</td>\n",
              "    </tr>\n",
              "    <tr>\n",
              "      <th>1</th>\n",
              "      <td>1986-02-12 00:00:00</td>\n",
              "      <td>DOG</td>\n",
              "      <td>NaN</td>\n",
              "      <td>UNKNOWN</td>\n",
              "      <td>BRO &amp; BLA</td>\n",
              "      <td>NaN</td>\n",
              "      <td>NaN</td>\n",
              "      <td>40218</td>\n",
              "      <td>NO</td>\n",
              "      <td>BODY</td>\n",
              "      <td>1986-02-12 00:00:00</td>\n",
              "      <td>UNKNOWN</td>\n",
              "      <td>NaN</td>\n",
              "      <td>NaN</td>\n",
              "      <td>UNKNOWN</td>\n",
              "    </tr>\n",
              "    <tr>\n",
              "      <th>2</th>\n",
              "      <td>1987-05-07 00:00:00</td>\n",
              "      <td>DOG</td>\n",
              "      <td>NaN</td>\n",
              "      <td>UNKNOWN</td>\n",
              "      <td>NaN</td>\n",
              "      <td>NaN</td>\n",
              "      <td>NaN</td>\n",
              "      <td>40219</td>\n",
              "      <td>NO</td>\n",
              "      <td>BODY</td>\n",
              "      <td>1990-05-07 00:00:00</td>\n",
              "      <td>UNKNOWN</td>\n",
              "      <td>NaN</td>\n",
              "      <td>NaN</td>\n",
              "      <td>UNKNOWN</td>\n",
              "    </tr>\n",
              "    <tr>\n",
              "      <th>3</th>\n",
              "      <td>1988-10-02 00:00:00</td>\n",
              "      <td>DOG</td>\n",
              "      <td>NaN</td>\n",
              "      <td>MALE</td>\n",
              "      <td>BLA &amp; BRO</td>\n",
              "      <td>NaN</td>\n",
              "      <td>NaN</td>\n",
              "      <td>NaN</td>\n",
              "      <td>NO</td>\n",
              "      <td>BODY</td>\n",
              "      <td>1990-10-02 00:00:00</td>\n",
              "      <td>UNKNOWN</td>\n",
              "      <td>NaN</td>\n",
              "      <td>NaN</td>\n",
              "      <td>UNKNOWN</td>\n",
              "    </tr>\n",
              "    <tr>\n",
              "      <th>4</th>\n",
              "      <td>1989-08-29 00:00:00</td>\n",
              "      <td>DOG</td>\n",
              "      <td>NaN</td>\n",
              "      <td>FEMALE</td>\n",
              "      <td>BLK-WHT</td>\n",
              "      <td>NaN</td>\n",
              "      <td>NaN</td>\n",
              "      <td>NaN</td>\n",
              "      <td>NO</td>\n",
              "      <td>BODY</td>\n",
              "      <td>NaN</td>\n",
              "      <td>UNKNOWN</td>\n",
              "      <td>NaN</td>\n",
              "      <td>NaN</td>\n",
              "      <td>UNKNOWN</td>\n",
              "    </tr>\n",
              "    <tr>\n",
              "      <th>...</th>\n",
              "      <td>...</td>\n",
              "      <td>...</td>\n",
              "      <td>...</td>\n",
              "      <td>...</td>\n",
              "      <td>...</td>\n",
              "      <td>...</td>\n",
              "      <td>...</td>\n",
              "      <td>...</td>\n",
              "      <td>...</td>\n",
              "      <td>...</td>\n",
              "      <td>...</td>\n",
              "      <td>...</td>\n",
              "      <td>...</td>\n",
              "      <td>...</td>\n",
              "      <td>...</td>\n",
              "    </tr>\n",
              "    <tr>\n",
              "      <th>8998</th>\n",
              "      <td>2017-09-05 00:00:00</td>\n",
              "      <td>DOG</td>\n",
              "      <td>NaN</td>\n",
              "      <td>NaN</td>\n",
              "      <td>NaN</td>\n",
              "      <td>NaN</td>\n",
              "      <td>NaN</td>\n",
              "      <td>40243</td>\n",
              "      <td>NaN</td>\n",
              "      <td>UNKNOWN</td>\n",
              "      <td>NaN</td>\n",
              "      <td>NaN</td>\n",
              "      <td>NaN</td>\n",
              "      <td>NaN</td>\n",
              "      <td>NaN</td>\n",
              "    </tr>\n",
              "    <tr>\n",
              "      <th>8999</th>\n",
              "      <td>2017-09-07 00:00:00</td>\n",
              "      <td>DOG</td>\n",
              "      <td>POMERANIAN</td>\n",
              "      <td>MALE</td>\n",
              "      <td>RED</td>\n",
              "      <td>NaN</td>\n",
              "      <td>NaN</td>\n",
              "      <td>40204</td>\n",
              "      <td>NaN</td>\n",
              "      <td>HEAD</td>\n",
              "      <td>NaN</td>\n",
              "      <td>NaN</td>\n",
              "      <td>NaN</td>\n",
              "      <td>NaN</td>\n",
              "      <td>NaN</td>\n",
              "    </tr>\n",
              "    <tr>\n",
              "      <th>9000</th>\n",
              "      <td>2017-09-07 00:00:00</td>\n",
              "      <td>DOG</td>\n",
              "      <td>LABRADOR RETRIV</td>\n",
              "      <td>MALE</td>\n",
              "      <td>BROWN</td>\n",
              "      <td>NaN</td>\n",
              "      <td>NaN</td>\n",
              "      <td>47130</td>\n",
              "      <td>NaN</td>\n",
              "      <td>UNKNOWN</td>\n",
              "      <td>NaN</td>\n",
              "      <td>NaN</td>\n",
              "      <td>NaN</td>\n",
              "      <td>NaN</td>\n",
              "      <td>NaN</td>\n",
              "    </tr>\n",
              "    <tr>\n",
              "      <th>9001</th>\n",
              "      <td>2017-09-07 00:00:00</td>\n",
              "      <td>DOG</td>\n",
              "      <td>LABRADOR RETRIV</td>\n",
              "      <td>FEMALE</td>\n",
              "      <td>BLK WHT</td>\n",
              "      <td>NaN</td>\n",
              "      <td>NaN</td>\n",
              "      <td>40229</td>\n",
              "      <td>NaN</td>\n",
              "      <td>BODY</td>\n",
              "      <td>NaN</td>\n",
              "      <td>NaN</td>\n",
              "      <td>NaN</td>\n",
              "      <td>NaN</td>\n",
              "      <td>NaN</td>\n",
              "    </tr>\n",
              "    <tr>\n",
              "      <th>9002</th>\n",
              "      <td>2017-09-07 00:00:00</td>\n",
              "      <td>DOG</td>\n",
              "      <td>BOXER</td>\n",
              "      <td>NaN</td>\n",
              "      <td>BRN BLK</td>\n",
              "      <td>NaN</td>\n",
              "      <td>NaN</td>\n",
              "      <td>40229</td>\n",
              "      <td>NaN</td>\n",
              "      <td>BODY</td>\n",
              "      <td>NaN</td>\n",
              "      <td>NaN</td>\n",
              "      <td>NaN</td>\n",
              "      <td>NaN</td>\n",
              "      <td>NaN</td>\n",
              "    </tr>\n",
              "  </tbody>\n",
              "</table>\n",
              "<p>9003 rows × 15 columns</p>\n",
              "</div>\n",
              "      <button class=\"colab-df-convert\" onclick=\"convertToInteractive('df-d9b72d87-a04a-436e-adc5-5cea0585cc5c')\"\n",
              "              title=\"Convert this dataframe to an interactive table.\"\n",
              "              style=\"display:none;\">\n",
              "        \n",
              "  <svg xmlns=\"http://www.w3.org/2000/svg\" height=\"24px\"viewBox=\"0 0 24 24\"\n",
              "       width=\"24px\">\n",
              "    <path d=\"M0 0h24v24H0V0z\" fill=\"none\"/>\n",
              "    <path d=\"M18.56 5.44l.94 2.06.94-2.06 2.06-.94-2.06-.94-.94-2.06-.94 2.06-2.06.94zm-11 1L8.5 8.5l.94-2.06 2.06-.94-2.06-.94L8.5 2.5l-.94 2.06-2.06.94zm10 10l.94 2.06.94-2.06 2.06-.94-2.06-.94-.94-2.06-.94 2.06-2.06.94z\"/><path d=\"M17.41 7.96l-1.37-1.37c-.4-.4-.92-.59-1.43-.59-.52 0-1.04.2-1.43.59L10.3 9.45l-7.72 7.72c-.78.78-.78 2.05 0 2.83L4 21.41c.39.39.9.59 1.41.59.51 0 1.02-.2 1.41-.59l7.78-7.78 2.81-2.81c.8-.78.8-2.07 0-2.86zM5.41 20L4 18.59l7.72-7.72 1.47 1.35L5.41 20z\"/>\n",
              "  </svg>\n",
              "      </button>\n",
              "      \n",
              "  <style>\n",
              "    .colab-df-container {\n",
              "      display:flex;\n",
              "      flex-wrap:wrap;\n",
              "      gap: 12px;\n",
              "    }\n",
              "\n",
              "    .colab-df-convert {\n",
              "      background-color: #E8F0FE;\n",
              "      border: none;\n",
              "      border-radius: 50%;\n",
              "      cursor: pointer;\n",
              "      display: none;\n",
              "      fill: #1967D2;\n",
              "      height: 32px;\n",
              "      padding: 0 0 0 0;\n",
              "      width: 32px;\n",
              "    }\n",
              "\n",
              "    .colab-df-convert:hover {\n",
              "      background-color: #E2EBFA;\n",
              "      box-shadow: 0px 1px 2px rgba(60, 64, 67, 0.3), 0px 1px 3px 1px rgba(60, 64, 67, 0.15);\n",
              "      fill: #174EA6;\n",
              "    }\n",
              "\n",
              "    [theme=dark] .colab-df-convert {\n",
              "      background-color: #3B4455;\n",
              "      fill: #D2E3FC;\n",
              "    }\n",
              "\n",
              "    [theme=dark] .colab-df-convert:hover {\n",
              "      background-color: #434B5C;\n",
              "      box-shadow: 0px 1px 3px 1px rgba(0, 0, 0, 0.15);\n",
              "      filter: drop-shadow(0px 1px 2px rgba(0, 0, 0, 0.3));\n",
              "      fill: #FFFFFF;\n",
              "    }\n",
              "  </style>\n",
              "\n",
              "      <script>\n",
              "        const buttonEl =\n",
              "          document.querySelector('#df-d9b72d87-a04a-436e-adc5-5cea0585cc5c button.colab-df-convert');\n",
              "        buttonEl.style.display =\n",
              "          google.colab.kernel.accessAllowed ? 'block' : 'none';\n",
              "\n",
              "        async function convertToInteractive(key) {\n",
              "          const element = document.querySelector('#df-d9b72d87-a04a-436e-adc5-5cea0585cc5c');\n",
              "          const dataTable =\n",
              "            await google.colab.kernel.invokeFunction('convertToInteractive',\n",
              "                                                     [key], {});\n",
              "          if (!dataTable) return;\n",
              "\n",
              "          const docLinkHtml = 'Like what you see? Visit the ' +\n",
              "            '<a target=\"_blank\" href=https://colab.research.google.com/notebooks/data_table.ipynb>data table notebook</a>'\n",
              "            + ' to learn more about interactive tables.';\n",
              "          element.innerHTML = '';\n",
              "          dataTable['output_type'] = 'display_data';\n",
              "          await google.colab.output.renderOutput(dataTable, element);\n",
              "          const docLink = document.createElement('div');\n",
              "          docLink.innerHTML = docLinkHtml;\n",
              "          element.appendChild(docLink);\n",
              "        }\n",
              "      </script>\n",
              "    </div>\n",
              "  </div>\n",
              "  "
            ],
            "text/plain": [
              "                bite_date SpeciesIDDesc  ... release_date ResultsIDDesc\n",
              "0     1985-05-05 00:00:00           DOG  ...          NaN       UNKNOWN\n",
              "1     1986-02-12 00:00:00           DOG  ...          NaN       UNKNOWN\n",
              "2     1987-05-07 00:00:00           DOG  ...          NaN       UNKNOWN\n",
              "3     1988-10-02 00:00:00           DOG  ...          NaN       UNKNOWN\n",
              "4     1989-08-29 00:00:00           DOG  ...          NaN       UNKNOWN\n",
              "...                   ...           ...  ...          ...           ...\n",
              "8998  2017-09-05 00:00:00           DOG  ...          NaN           NaN\n",
              "8999  2017-09-07 00:00:00           DOG  ...          NaN           NaN\n",
              "9000  2017-09-07 00:00:00           DOG  ...          NaN           NaN\n",
              "9001  2017-09-07 00:00:00           DOG  ...          NaN           NaN\n",
              "9002  2017-09-07 00:00:00           DOG  ...          NaN           NaN\n",
              "\n",
              "[9003 rows x 15 columns]"
            ]
          },
          "metadata": {},
          "execution_count": 6
        }
      ],
      "source": [
        "bites = pd.read_csv('https://raw.githubusercontent.com/vb-ym/MIS_Hutech/master/HK1B_21_22/Week_6/Health_AnimalBites.csv')\n",
        "bites"
      ]
    },
    {
      "cell_type": "code",
      "execution_count": null,
      "metadata": {
        "colab": {
          "base_uri": "https://localhost:8080/"
        },
        "id": "1zhnxE8ohT-d",
        "outputId": "c57f0696-cd4d-4ba3-dc6b-6d925ff40977"
      },
      "outputs": [
        {
          "output_type": "execute_result",
          "data": {
            "text/plain": [
              "bite_date            datetime64[ns]\n",
              "SpeciesIDDesc                object\n",
              "BreedIDDesc                  object\n",
              "GenderIDDesc                 object\n",
              "color                        object\n",
              "vaccination_yrs             float64\n",
              "vaccination_date     datetime64[ns]\n",
              "victim_zip                   object\n",
              "AdvIssuedYNDesc              object\n",
              "WhereBittenIDDesc            object\n",
              "quarantine_date      datetime64[ns]\n",
              "DispositionIDDesc            object\n",
              "head_sent_date       datetime64[ns]\n",
              "release_date         datetime64[ns]\n",
              "ResultsIDDesc                object\n",
              "dtype: object"
            ]
          },
          "metadata": {},
          "execution_count": 14
        }
      ],
      "source": [
        "bites = bites.assign(bite_date = pd.to_datetime(data['bite_date'],errors = 'coerce'))\n",
        "bites = bites.assign(vaccination_date = pd.to_datetime(data['vaccination_date'],errors = 'coerce'))\n",
        "bites = bites.assign(quarantine_date = pd.to_datetime(data['quarantine_date'],errors = 'coerce'))\n",
        "bites = bites.assign(head_sent_date = pd.to_datetime(data['head_sent_date'],errors = 'coerce'))\n",
        "bites = bites.assign(release_date = pd.to_datetime(data['release_date'],errors = 'coerce'))\n",
        "bites.dtypes"
      ]
    },
    {
      "cell_type": "markdown",
      "metadata": {
        "id": "haXkMTbUhT-e"
      },
      "source": [
        "*Câu 2*\n",
        "\n",
        "a) Lọc ra các dòng từ DataFrame `bites` không có giá trị NaN ở các cột SpeciesIDDesc và BreedIDDesc và lưu vào biến mới là `species`.\n",
        "\n",
        "b) Trong DataFrame `species` có những loài nào? Mỗi loài có bao nhiêu giống?"
      ]
    },
    {
      "cell_type": "code",
      "execution_count": null,
      "metadata": {
        "id": "em3Py1DWhT-g"
      },
      "outputs": [],
      "source": [
        "species = bites[pd.notna(bites.SpeciesIDDesc) & pd.notna(bites.BreedIDDesc)]\n",
        "species"
      ]
    },
    {
      "cell_type": "code",
      "execution_count": null,
      "metadata": {
        "colab": {
          "base_uri": "https://localhost:8080/"
        },
        "id": "lUCitJFYhT-h",
        "outputId": "f727ab2d-d33f-4af8-9640-4ad86fa315f8"
      },
      "outputs": [
        {
          "output_type": "stream",
          "name": "stdout",
          "text": [
            "['DOG' 'CAT'] \n",
            "\n"
          ]
        },
        {
          "output_type": "execute_result",
          "data": {
            "text/plain": [
              "array(['DOG GERM SHEPHERD', 'DOG DACHSHUND', 'DOG PIT BULL',\n",
              "       'DOG SHIH TZU', 'DOG COCKER SPAINEL', 'DOG CHICHAUHUA',\n",
              "       'DOG BEAGLE', 'DOG CHOW CHOW', 'DOG OTHER', 'DOG BOXER',\n",
              "       'DOG AAUST. TERR.', 'DOG GOLD RETRIEVER', 'DOG LABRADOR RETRIV',\n",
              "       'DOG BULLMASTIFF', 'DOG BORDER COLLIE', 'DOG POMERANIAN',\n",
              "       'DOG YORKSHIRE TERRIER', 'DOG GREYHOUND', 'DOG ROTTWEILER',\n",
              "       'DOG AMER. BULL DOG', 'DOG DALMATIAN', 'DOG HUSKY', 'DOG BULL DOG',\n",
              "       'DOG MASTIF', 'DOG GREAT PYRENEESE', 'DOG GREAT DANE',\n",
              "       'DOG POODLE', 'DOG SIBERAN HUSKY', 'DOG WEIMARANER', 'DOG CORGI',\n",
              "       'DOG BOSTON TERRIER', 'DOG SCHNAUZER', 'DOG BASSET HOUND',\n",
              "       'DOG MIN PIN', 'DOG WELSH CORGI', 'DOG AM BULLDOG', 'DOG SAMOYED',\n",
              "       'DOG MALTASE', 'DOG AKITA', 'DOG SHELTIE', 'DOG LHASA APSO',\n",
              "       'DOG SAINT BERNARD', 'DOG AIREDALE TER.', 'DOG AM. ESKIMO',\n",
              "       'DOG BICHON FRISE', 'DOG PUG', 'DOG DOBERMAN', 'DOG DOTSON',\n",
              "       'DOG NEW FOUNDLAND', 'DOG BERNESEN MT.', 'DOG HAVANESE',\n",
              "       'DOG ENGLISH SETTER', 'DOG SHAR-PEI', 'DOG COCKAPOO',\n",
              "       'DOG OLD ENG SHP DOG', 'DOG WESTIE', 'DOG BOUVIER',\n",
              "       'DOG RAT TERRIER', 'DOG SHEEP DOG', 'DOG HEELER', 'DOG PEKINGESE',\n",
              "       'DOG FOX TERRIER MIX', 'DOG ENGLISH BULLDOG',\n",
              "       'DOG BORDER COLLIE M', 'DOG BASANJI', 'DOG PYRENES',\n",
              "       'DOG BLOOD HOUND', 'DOG COLLIE', 'DOG ALASK. MALAMUTE',\n",
              "       'DOG BRITNEY SPANIEL', 'DOG BICHON FRESE', 'DOG FOX TERRIER',\n",
              "       'DOG BLUE HEELER', 'DOG CATAHOULA', 'DOG CANE CORSO',\n",
              "       'DOG IRISH SETTER', 'DOG ENGLISH SHEPARD', 'DOG ENG. MASTIFF',\n",
              "       'DOG BLACK LAB', 'DOG SCOTTISH TER.', 'DOG LAKELAND TER.',\n",
              "       'DOG COON HOUND', 'DOG CHOCOLATE LAB.', 'DOG BOX TERRIER',\n",
              "       'DOG CATTLE DOG', 'DOG SPITZ', 'DOG TOY POODLE',\n",
              "       'DOG FRENCH BULLDOG', 'DOG BRIARD', 'DOG ST BERNARD', 'CAT OTHER',\n",
              "       'DOG GOLDEN LAB', 'DOG TOY FOX TERRIER', 'DOG RED HEELER',\n",
              "       'DOG WEINER DOG', 'DOG MALAMUTE', 'DOG IRISH SPANIEL',\n",
              "       'DOG BESINJI', 'DOG BEARDED COLLIE', 'DOG STAN POODLE',\n",
              "       'CAT BEAGLE', 'DOG AMER FOX HOUND', 'DOG IRISH WOLFHOUND'],\n",
              "      dtype=object)"
            ]
          },
          "metadata": {},
          "execution_count": 225
        }
      ],
      "source": [
        "print(species.SpeciesIDDesc.unique(),'\\n')\n",
        "a = 0\n",
        "w = species['SpeciesIDDesc'] + \" \" + species['BreedIDDesc']\n",
        "w.unique()"
      ]
    },
    {
      "cell_type": "markdown",
      "metadata": {
        "id": "uH7zZvPFhT-i"
      },
      "source": [
        "*Câu 3*\n",
        "\n",
        "a) Trong DataFrame `species`, giống chó nào là phổ biến nhất?\n",
        "\n",
        "b) Trong những con chó có màu đen, giống chó nào là phổ biến nhất?"
      ]
    },
    {
      "cell_type": "code",
      "execution_count": null,
      "metadata": {
        "colab": {
          "base_uri": "https://localhost:8080/"
        },
        "id": "4sbRjtwLhT-k",
        "outputId": "01363aed-35a9-4d4b-ff8b-2ca1c259d30c"
      },
      "outputs": [
        {
          "output_type": "execute_result",
          "data": {
            "text/plain": [
              "PIT BULL    1101\n",
              "Name: BreedIDDesc, dtype: int64"
            ]
          },
          "metadata": {},
          "execution_count": 195
        }
      ],
      "source": [
        "species.BreedIDDesc.value_counts().head(1)"
      ]
    },
    {
      "cell_type": "code",
      "execution_count": null,
      "metadata": {
        "colab": {
          "base_uri": "https://localhost:8080/"
        },
        "id": "EwRQnrYJhT-k",
        "outputId": "bdcf4f5c-d162-404b-babf-a7aff20b2d16"
      },
      "outputs": [
        {
          "output_type": "execute_result",
          "data": {
            "text/plain": [
              "LABRADOR RETRIV    13\n",
              "Name: BreedIDDesc, dtype: int64"
            ]
          },
          "metadata": {},
          "execution_count": 222
        }
      ],
      "source": [
        "species.BreedIDDesc[species.color == 'BLK'].value_counts().head(1)"
      ]
    },
    {
      "cell_type": "markdown",
      "metadata": {
        "id": "R_eyrsXbhT-n"
      },
      "source": [
        "*Câu 4*\n",
        "\n",
        "a) Trở lại với DataFrame `bites`, trong năm 2015 có bao nhiêu vụ cắn người đã được ghi nhận?\n",
        "\n",
        "b) Trong số các vụ cắn này, in thông tin những vụ __không__ được xác nhận là gây ra bởi chó hoặc mèo."
      ]
    },
    {
      "cell_type": "code",
      "execution_count": null,
      "metadata": {
        "colab": {
          "base_uri": "https://localhost:8080/"
        },
        "id": "pa8Y36F6hT-p",
        "outputId": "27a1cc3f-8277-4724-e0c0-6c1c74120e2f"
      },
      "outputs": [
        {
          "output_type": "execute_result",
          "data": {
            "text/plain": [
              "985"
            ]
          },
          "metadata": {},
          "execution_count": 154
        }
      ],
      "source": [
        "len(bites[(bites['bite_date'] >= '2015') & (bites['bite_date'] < '2016')])"
      ]
    },
    {
      "cell_type": "code",
      "execution_count": null,
      "metadata": {
        "colab": {
          "base_uri": "https://localhost:8080/",
          "height": 1000
        },
        "id": "WBbTlzgQhT-q",
        "outputId": "f7963b5a-d4c3-4af7-8d8b-42be500319d4"
      },
      "outputs": [
        {
          "output_type": "execute_result",
          "data": {
            "text/html": [
              "\n",
              "  <div id=\"df-90825474-7fbf-48d0-b7d6-c31509629a4c\">\n",
              "    <div class=\"colab-df-container\">\n",
              "      <div>\n",
              "<style scoped>\n",
              "    .dataframe tbody tr th:only-of-type {\n",
              "        vertical-align: middle;\n",
              "    }\n",
              "\n",
              "    .dataframe tbody tr th {\n",
              "        vertical-align: top;\n",
              "    }\n",
              "\n",
              "    .dataframe thead th {\n",
              "        text-align: right;\n",
              "    }\n",
              "</style>\n",
              "<table border=\"1\" class=\"dataframe\">\n",
              "  <thead>\n",
              "    <tr style=\"text-align: right;\">\n",
              "      <th></th>\n",
              "      <th>bite_date</th>\n",
              "      <th>SpeciesIDDesc</th>\n",
              "      <th>BreedIDDesc</th>\n",
              "      <th>GenderIDDesc</th>\n",
              "      <th>color</th>\n",
              "      <th>vaccination_yrs</th>\n",
              "      <th>vaccination_date</th>\n",
              "      <th>victim_zip</th>\n",
              "      <th>AdvIssuedYNDesc</th>\n",
              "      <th>WhereBittenIDDesc</th>\n",
              "      <th>quarantine_date</th>\n",
              "      <th>DispositionIDDesc</th>\n",
              "      <th>head_sent_date</th>\n",
              "      <th>release_date</th>\n",
              "      <th>ResultsIDDesc</th>\n",
              "      <th>species</th>\n",
              "    </tr>\n",
              "  </thead>\n",
              "  <tbody>\n",
              "    <tr>\n",
              "      <th>1413</th>\n",
              "      <td>2015-01-30</td>\n",
              "      <td>BAT</td>\n",
              "      <td>NaN</td>\n",
              "      <td>NaN</td>\n",
              "      <td>NaN</td>\n",
              "      <td>NaN</td>\n",
              "      <td>NaT</td>\n",
              "      <td>NaN</td>\n",
              "      <td>NO</td>\n",
              "      <td>UNKNOWN</td>\n",
              "      <td>NaT</td>\n",
              "      <td>NaN</td>\n",
              "      <td>2015-01-30</td>\n",
              "      <td>NaT</td>\n",
              "      <td>NEGATIVE</td>\n",
              "      <td>NaN</td>\n",
              "    </tr>\n",
              "    <tr>\n",
              "      <th>1418</th>\n",
              "      <td>2015-05-05</td>\n",
              "      <td>BAT</td>\n",
              "      <td>NaN</td>\n",
              "      <td>NaN</td>\n",
              "      <td>NaN</td>\n",
              "      <td>NaN</td>\n",
              "      <td>NaT</td>\n",
              "      <td>40203</td>\n",
              "      <td>NaN</td>\n",
              "      <td>NaN</td>\n",
              "      <td>NaT</td>\n",
              "      <td>NaN</td>\n",
              "      <td>2015-05-05</td>\n",
              "      <td>NaT</td>\n",
              "      <td>POSITIVE</td>\n",
              "      <td>NaN</td>\n",
              "    </tr>\n",
              "    <tr>\n",
              "      <th>1435</th>\n",
              "      <td>2015-07-04</td>\n",
              "      <td>BAT</td>\n",
              "      <td>NaN</td>\n",
              "      <td>NaN</td>\n",
              "      <td>NaN</td>\n",
              "      <td>NaN</td>\n",
              "      <td>NaT</td>\n",
              "      <td>40243</td>\n",
              "      <td>NaN</td>\n",
              "      <td>NaN</td>\n",
              "      <td>NaT</td>\n",
              "      <td>NaN</td>\n",
              "      <td>2015-07-04</td>\n",
              "      <td>NaT</td>\n",
              "      <td>NEGATIVE</td>\n",
              "      <td>NaN</td>\n",
              "    </tr>\n",
              "    <tr>\n",
              "      <th>1442</th>\n",
              "      <td>2015-08-17</td>\n",
              "      <td>BAT</td>\n",
              "      <td>NaN</td>\n",
              "      <td>NaN</td>\n",
              "      <td>NaN</td>\n",
              "      <td>NaN</td>\n",
              "      <td>NaT</td>\n",
              "      <td>40207</td>\n",
              "      <td>NaN</td>\n",
              "      <td>BODY</td>\n",
              "      <td>NaT</td>\n",
              "      <td>NaN</td>\n",
              "      <td>2015-08-17</td>\n",
              "      <td>NaT</td>\n",
              "      <td>NEGATIVE</td>\n",
              "      <td>NaN</td>\n",
              "    </tr>\n",
              "    <tr>\n",
              "      <th>1445</th>\n",
              "      <td>2015-11-03</td>\n",
              "      <td>BAT</td>\n",
              "      <td>NaN</td>\n",
              "      <td>NaN</td>\n",
              "      <td>NaN</td>\n",
              "      <td>NaN</td>\n",
              "      <td>NaT</td>\n",
              "      <td>40211</td>\n",
              "      <td>NaN</td>\n",
              "      <td>NaN</td>\n",
              "      <td>NaT</td>\n",
              "      <td>NaN</td>\n",
              "      <td>2015-11-03</td>\n",
              "      <td>NaT</td>\n",
              "      <td>NEGATIVE</td>\n",
              "      <td>NaN</td>\n",
              "    </tr>\n",
              "    <tr>\n",
              "      <th>1447</th>\n",
              "      <td>2015-12-11</td>\n",
              "      <td>BAT</td>\n",
              "      <td>NaN</td>\n",
              "      <td>NaN</td>\n",
              "      <td>NaN</td>\n",
              "      <td>NaN</td>\n",
              "      <td>NaT</td>\n",
              "      <td>40299</td>\n",
              "      <td>NaN</td>\n",
              "      <td>BODY</td>\n",
              "      <td>NaT</td>\n",
              "      <td>NaN</td>\n",
              "      <td>2015-12-11</td>\n",
              "      <td>NaT</td>\n",
              "      <td>NEGATIVE</td>\n",
              "      <td>NaN</td>\n",
              "    </tr>\n",
              "    <tr>\n",
              "      <th>6207</th>\n",
              "      <td>2015-01-10</td>\n",
              "      <td>NaN</td>\n",
              "      <td>NaN</td>\n",
              "      <td>NaN</td>\n",
              "      <td>WHITE BROW</td>\n",
              "      <td>NaN</td>\n",
              "      <td>NaT</td>\n",
              "      <td>NaN</td>\n",
              "      <td>NaN</td>\n",
              "      <td>UNKNOWN</td>\n",
              "      <td>NaT</td>\n",
              "      <td>NaN</td>\n",
              "      <td>NaT</td>\n",
              "      <td>NaT</td>\n",
              "      <td>NaN</td>\n",
              "      <td>NaN</td>\n",
              "    </tr>\n",
              "    <tr>\n",
              "      <th>6213</th>\n",
              "      <td>2015-01-01</td>\n",
              "      <td>FERRET</td>\n",
              "      <td>NaN</td>\n",
              "      <td>NaN</td>\n",
              "      <td>NaN</td>\n",
              "      <td>1.0</td>\n",
              "      <td>2015-01-27</td>\n",
              "      <td>40207</td>\n",
              "      <td>NaN</td>\n",
              "      <td>BODY</td>\n",
              "      <td>NaT</td>\n",
              "      <td>NaN</td>\n",
              "      <td>NaT</td>\n",
              "      <td>NaT</td>\n",
              "      <td>NaN</td>\n",
              "      <td>NaN</td>\n",
              "    </tr>\n",
              "    <tr>\n",
              "      <th>6226</th>\n",
              "      <td>2015-01-18</td>\n",
              "      <td>BAT</td>\n",
              "      <td>NaN</td>\n",
              "      <td>UNKNOWN</td>\n",
              "      <td>BROWN</td>\n",
              "      <td>NaN</td>\n",
              "      <td>NaT</td>\n",
              "      <td>NaN</td>\n",
              "      <td>NaN</td>\n",
              "      <td>BODY</td>\n",
              "      <td>NaT</td>\n",
              "      <td>NaN</td>\n",
              "      <td>NaT</td>\n",
              "      <td>NaT</td>\n",
              "      <td>NaN</td>\n",
              "      <td>NaN</td>\n",
              "    </tr>\n",
              "    <tr>\n",
              "      <th>6368</th>\n",
              "      <td>2015-03-20</td>\n",
              "      <td>NaN</td>\n",
              "      <td>NaN</td>\n",
              "      <td>NaN</td>\n",
              "      <td>NaN</td>\n",
              "      <td>NaN</td>\n",
              "      <td>NaT</td>\n",
              "      <td>45014</td>\n",
              "      <td>NaN</td>\n",
              "      <td>BODY</td>\n",
              "      <td>NaT</td>\n",
              "      <td>NaN</td>\n",
              "      <td>NaT</td>\n",
              "      <td>NaT</td>\n",
              "      <td>NaN</td>\n",
              "      <td>NaN</td>\n",
              "    </tr>\n",
              "    <tr>\n",
              "      <th>6465</th>\n",
              "      <td>2015-04-22</td>\n",
              "      <td>NaN</td>\n",
              "      <td>NaN</td>\n",
              "      <td>NaN</td>\n",
              "      <td>NaN</td>\n",
              "      <td>NaN</td>\n",
              "      <td>NaT</td>\n",
              "      <td>NaN</td>\n",
              "      <td>NaN</td>\n",
              "      <td>BODY</td>\n",
              "      <td>NaT</td>\n",
              "      <td>NaN</td>\n",
              "      <td>NaT</td>\n",
              "      <td>NaT</td>\n",
              "      <td>NaN</td>\n",
              "      <td>NaN</td>\n",
              "    </tr>\n",
              "    <tr>\n",
              "      <th>6471</th>\n",
              "      <td>2015-04-24</td>\n",
              "      <td>NaN</td>\n",
              "      <td>NaN</td>\n",
              "      <td>NaN</td>\n",
              "      <td>NaN</td>\n",
              "      <td>NaN</td>\n",
              "      <td>NaT</td>\n",
              "      <td>NaN</td>\n",
              "      <td>NaN</td>\n",
              "      <td>BODY</td>\n",
              "      <td>NaT</td>\n",
              "      <td>NaN</td>\n",
              "      <td>NaT</td>\n",
              "      <td>2015-05-07</td>\n",
              "      <td>NaN</td>\n",
              "      <td>NaN</td>\n",
              "    </tr>\n",
              "    <tr>\n",
              "      <th>6716</th>\n",
              "      <td>2015-07-01</td>\n",
              "      <td>NaN</td>\n",
              "      <td>NaN</td>\n",
              "      <td>UNKNOWN</td>\n",
              "      <td>NaN</td>\n",
              "      <td>NaN</td>\n",
              "      <td>NaT</td>\n",
              "      <td>40205</td>\n",
              "      <td>NaN</td>\n",
              "      <td>UNKNOWN</td>\n",
              "      <td>NaT</td>\n",
              "      <td>NaN</td>\n",
              "      <td>NaT</td>\n",
              "      <td>NaT</td>\n",
              "      <td>NaN</td>\n",
              "      <td>NaN</td>\n",
              "    </tr>\n",
              "    <tr>\n",
              "      <th>6848</th>\n",
              "      <td>2015-08-16</td>\n",
              "      <td>BAT</td>\n",
              "      <td>NaN</td>\n",
              "      <td>NaN</td>\n",
              "      <td>NaN</td>\n",
              "      <td>NaN</td>\n",
              "      <td>NaT</td>\n",
              "      <td>40206</td>\n",
              "      <td>NaN</td>\n",
              "      <td>BODY</td>\n",
              "      <td>NaT</td>\n",
              "      <td>NaN</td>\n",
              "      <td>NaT</td>\n",
              "      <td>NaT</td>\n",
              "      <td>NaN</td>\n",
              "      <td>NaN</td>\n",
              "    </tr>\n",
              "    <tr>\n",
              "      <th>6927</th>\n",
              "      <td>2015-09-17</td>\n",
              "      <td>HORSE</td>\n",
              "      <td>NaN</td>\n",
              "      <td>NaN</td>\n",
              "      <td>BROWN</td>\n",
              "      <td>NaN</td>\n",
              "      <td>NaT</td>\n",
              "      <td>40220</td>\n",
              "      <td>NaN</td>\n",
              "      <td>UNKNOWN</td>\n",
              "      <td>NaT</td>\n",
              "      <td>NaN</td>\n",
              "      <td>NaT</td>\n",
              "      <td>NaT</td>\n",
              "      <td>NaN</td>\n",
              "      <td>NaN</td>\n",
              "    </tr>\n",
              "    <tr>\n",
              "      <th>6928</th>\n",
              "      <td>2015-09-17</td>\n",
              "      <td>NaN</td>\n",
              "      <td>NaN</td>\n",
              "      <td>NaN</td>\n",
              "      <td>NaN</td>\n",
              "      <td>NaN</td>\n",
              "      <td>NaT</td>\n",
              "      <td>40218</td>\n",
              "      <td>NaN</td>\n",
              "      <td>BODY</td>\n",
              "      <td>NaT</td>\n",
              "      <td>NaN</td>\n",
              "      <td>NaT</td>\n",
              "      <td>NaT</td>\n",
              "      <td>NaN</td>\n",
              "      <td>NaN</td>\n",
              "    </tr>\n",
              "    <tr>\n",
              "      <th>7028</th>\n",
              "      <td>2015-10-25</td>\n",
              "      <td>RACCOON</td>\n",
              "      <td>NaN</td>\n",
              "      <td>NaN</td>\n",
              "      <td>NaN</td>\n",
              "      <td>NaN</td>\n",
              "      <td>NaT</td>\n",
              "      <td>40241</td>\n",
              "      <td>NaN</td>\n",
              "      <td>NaN</td>\n",
              "      <td>NaT</td>\n",
              "      <td>NaN</td>\n",
              "      <td>NaT</td>\n",
              "      <td>NaT</td>\n",
              "      <td>NEGATIVE</td>\n",
              "      <td>NaN</td>\n",
              "    </tr>\n",
              "    <tr>\n",
              "      <th>7048</th>\n",
              "      <td>2015-11-04</td>\n",
              "      <td>RACCOON</td>\n",
              "      <td>NaN</td>\n",
              "      <td>NaN</td>\n",
              "      <td>BLK GRAY</td>\n",
              "      <td>NaN</td>\n",
              "      <td>NaT</td>\n",
              "      <td>40204</td>\n",
              "      <td>YES</td>\n",
              "      <td>BODY</td>\n",
              "      <td>NaT</td>\n",
              "      <td>NaN</td>\n",
              "      <td>NaT</td>\n",
              "      <td>NaT</td>\n",
              "      <td>NaN</td>\n",
              "      <td>NaN</td>\n",
              "    </tr>\n",
              "    <tr>\n",
              "      <th>7071</th>\n",
              "      <td>2015-11-14</td>\n",
              "      <td>NaN</td>\n",
              "      <td>NaN</td>\n",
              "      <td>NaN</td>\n",
              "      <td>NaN</td>\n",
              "      <td>NaN</td>\n",
              "      <td>NaT</td>\n",
              "      <td>40223</td>\n",
              "      <td>YES</td>\n",
              "      <td>BODY</td>\n",
              "      <td>NaT</td>\n",
              "      <td>NaN</td>\n",
              "      <td>NaT</td>\n",
              "      <td>NaT</td>\n",
              "      <td>NaN</td>\n",
              "      <td>NaN</td>\n",
              "    </tr>\n",
              "  </tbody>\n",
              "</table>\n",
              "</div>\n",
              "      <button class=\"colab-df-convert\" onclick=\"convertToInteractive('df-90825474-7fbf-48d0-b7d6-c31509629a4c')\"\n",
              "              title=\"Convert this dataframe to an interactive table.\"\n",
              "              style=\"display:none;\">\n",
              "        \n",
              "  <svg xmlns=\"http://www.w3.org/2000/svg\" height=\"24px\"viewBox=\"0 0 24 24\"\n",
              "       width=\"24px\">\n",
              "    <path d=\"M0 0h24v24H0V0z\" fill=\"none\"/>\n",
              "    <path d=\"M18.56 5.44l.94 2.06.94-2.06 2.06-.94-2.06-.94-.94-2.06-.94 2.06-2.06.94zm-11 1L8.5 8.5l.94-2.06 2.06-.94-2.06-.94L8.5 2.5l-.94 2.06-2.06.94zm10 10l.94 2.06.94-2.06 2.06-.94-2.06-.94-.94-2.06-.94 2.06-2.06.94z\"/><path d=\"M17.41 7.96l-1.37-1.37c-.4-.4-.92-.59-1.43-.59-.52 0-1.04.2-1.43.59L10.3 9.45l-7.72 7.72c-.78.78-.78 2.05 0 2.83L4 21.41c.39.39.9.59 1.41.59.51 0 1.02-.2 1.41-.59l7.78-7.78 2.81-2.81c.8-.78.8-2.07 0-2.86zM5.41 20L4 18.59l7.72-7.72 1.47 1.35L5.41 20z\"/>\n",
              "  </svg>\n",
              "      </button>\n",
              "      \n",
              "  <style>\n",
              "    .colab-df-container {\n",
              "      display:flex;\n",
              "      flex-wrap:wrap;\n",
              "      gap: 12px;\n",
              "    }\n",
              "\n",
              "    .colab-df-convert {\n",
              "      background-color: #E8F0FE;\n",
              "      border: none;\n",
              "      border-radius: 50%;\n",
              "      cursor: pointer;\n",
              "      display: none;\n",
              "      fill: #1967D2;\n",
              "      height: 32px;\n",
              "      padding: 0 0 0 0;\n",
              "      width: 32px;\n",
              "    }\n",
              "\n",
              "    .colab-df-convert:hover {\n",
              "      background-color: #E2EBFA;\n",
              "      box-shadow: 0px 1px 2px rgba(60, 64, 67, 0.3), 0px 1px 3px 1px rgba(60, 64, 67, 0.15);\n",
              "      fill: #174EA6;\n",
              "    }\n",
              "\n",
              "    [theme=dark] .colab-df-convert {\n",
              "      background-color: #3B4455;\n",
              "      fill: #D2E3FC;\n",
              "    }\n",
              "\n",
              "    [theme=dark] .colab-df-convert:hover {\n",
              "      background-color: #434B5C;\n",
              "      box-shadow: 0px 1px 3px 1px rgba(0, 0, 0, 0.15);\n",
              "      filter: drop-shadow(0px 1px 2px rgba(0, 0, 0, 0.3));\n",
              "      fill: #FFFFFF;\n",
              "    }\n",
              "  </style>\n",
              "\n",
              "      <script>\n",
              "        const buttonEl =\n",
              "          document.querySelector('#df-90825474-7fbf-48d0-b7d6-c31509629a4c button.colab-df-convert');\n",
              "        buttonEl.style.display =\n",
              "          google.colab.kernel.accessAllowed ? 'block' : 'none';\n",
              "\n",
              "        async function convertToInteractive(key) {\n",
              "          const element = document.querySelector('#df-90825474-7fbf-48d0-b7d6-c31509629a4c');\n",
              "          const dataTable =\n",
              "            await google.colab.kernel.invokeFunction('convertToInteractive',\n",
              "                                                     [key], {});\n",
              "          if (!dataTable) return;\n",
              "\n",
              "          const docLinkHtml = 'Like what you see? Visit the ' +\n",
              "            '<a target=\"_blank\" href=https://colab.research.google.com/notebooks/data_table.ipynb>data table notebook</a>'\n",
              "            + ' to learn more about interactive tables.';\n",
              "          element.innerHTML = '';\n",
              "          dataTable['output_type'] = 'display_data';\n",
              "          await google.colab.output.renderOutput(dataTable, element);\n",
              "          const docLink = document.createElement('div');\n",
              "          docLink.innerHTML = docLinkHtml;\n",
              "          element.appendChild(docLink);\n",
              "        }\n",
              "      </script>\n",
              "    </div>\n",
              "  </div>\n",
              "  "
            ],
            "text/plain": [
              "      bite_date SpeciesIDDesc BreedIDDesc  ... release_date ResultsIDDesc  species\n",
              "1413 2015-01-30           BAT         NaN  ...          NaT      NEGATIVE      NaN\n",
              "1418 2015-05-05           BAT         NaN  ...          NaT      POSITIVE      NaN\n",
              "1435 2015-07-04           BAT         NaN  ...          NaT      NEGATIVE      NaN\n",
              "1442 2015-08-17           BAT         NaN  ...          NaT      NEGATIVE      NaN\n",
              "1445 2015-11-03           BAT         NaN  ...          NaT      NEGATIVE      NaN\n",
              "1447 2015-12-11           BAT         NaN  ...          NaT      NEGATIVE      NaN\n",
              "6207 2015-01-10           NaN         NaN  ...          NaT           NaN      NaN\n",
              "6213 2015-01-01        FERRET         NaN  ...          NaT           NaN      NaN\n",
              "6226 2015-01-18           BAT         NaN  ...          NaT           NaN      NaN\n",
              "6368 2015-03-20           NaN         NaN  ...          NaT           NaN      NaN\n",
              "6465 2015-04-22           NaN         NaN  ...          NaT           NaN      NaN\n",
              "6471 2015-04-24           NaN         NaN  ...   2015-05-07           NaN      NaN\n",
              "6716 2015-07-01           NaN         NaN  ...          NaT           NaN      NaN\n",
              "6848 2015-08-16           BAT         NaN  ...          NaT           NaN      NaN\n",
              "6927 2015-09-17         HORSE         NaN  ...          NaT           NaN      NaN\n",
              "6928 2015-09-17           NaN         NaN  ...          NaT           NaN      NaN\n",
              "7028 2015-10-25       RACCOON         NaN  ...          NaT      NEGATIVE      NaN\n",
              "7048 2015-11-04       RACCOON         NaN  ...          NaT           NaN      NaN\n",
              "7071 2015-11-14           NaN         NaN  ...          NaT           NaN      NaN\n",
              "\n",
              "[19 rows x 16 columns]"
            ]
          },
          "metadata": {},
          "execution_count": 189
        }
      ],
      "source": [
        "q = bites[(bites['bite_date'] >= '2015') & (bites['bite_date'] < '2016')]\n",
        "q[(q['SpeciesIDDesc'] != 'DOG') & (q['SpeciesIDDesc'] != 'CAT')]"
      ]
    },
    {
      "cell_type": "markdown",
      "metadata": {
        "id": "Wtmjy1KGhT-r"
      },
      "source": [
        "*Câu 5*\n",
        "\n",
        "a) Liệt kê các vị trí cắn trong data, không tính giá trị NaN và UNKNOWN.\n",
        "\n",
        "b) Loài vật nào __không__ được ghi nhận đã cắn vào đầu nạn nhân?\n",
        "\n",
        "Gợi ý:\n",
        "\n",
        "Cách 1: Dùng `~` để đảo giá trị True False và hàm `isin()`.\n",
        "\n",
        "Cách 2: Dùng `set`. Set trong Python có thể trừ nhau để lọc các giá trị khác biệt."
      ]
    },
    {
      "cell_type": "code",
      "execution_count": null,
      "metadata": {
        "colab": {
          "base_uri": "https://localhost:8080/"
        },
        "id": "2fX8ovE9hT-s",
        "outputId": "9d08a12d-4d7d-4e8e-d6f6-56cbb1e9c783"
      },
      "outputs": [
        {
          "output_type": "stream",
          "name": "stdout",
          "text": [
            "các vị trí cắn: ['BODY', 'HEAD']\n"
          ]
        }
      ],
      "source": [
        "k = bites[~bites['WhereBittenIDDesc'].isnull()]\n",
        "lst = []\n",
        "for i in k.WhereBittenIDDesc.unique():\n",
        "  if i != 'UNKNOWN':\n",
        "    lst.append(i)\n",
        "print('các vị trí cắn:',lst)\n"
      ]
    },
    {
      "cell_type": "code",
      "execution_count": null,
      "metadata": {
        "colab": {
          "base_uri": "https://localhost:8080/"
        },
        "id": "QPtc84GEhT-t",
        "outputId": "9a4f04e3-e737-4753-e7ff-8f262008f066"
      },
      "outputs": [
        {
          "output_type": "execute_result",
          "data": {
            "text/plain": [
              "{'BAT',\n",
              " 'CAT',\n",
              " 'DOG',\n",
              " 'FERRET',\n",
              " 'HORSE',\n",
              " 'OTHER',\n",
              " 'RABBIT',\n",
              " 'RACCOON',\n",
              " 'SKUNK',\n",
              " nan}"
            ]
          },
          "metadata": {},
          "execution_count": 117
        }
      ],
      "source": [
        "set(bites['SpeciesIDDesc'][bites.WhereBittenIDDesc != 'HEAD'])"
      ]
    },
    {
      "cell_type": "markdown",
      "metadata": {
        "id": "mNoht9vdhT-t"
      },
      "source": [
        "*Câu 6*\n",
        "\n",
        "a) Trong dữ liệu, có bao nhiêu con vật âm tính với bệnh dại (NEGATIVE) đã bị giết (KILLED) hoặc chết (DIED)? Gợi ý: Sử dụng `&` và `|`.\n",
        "\n",
        "b) Trong khoảng thời gian từ 2010 đến 2015 chó chiếm bao nhiêu phần trăm số vụ cắn người trong dữ liệu?"
      ]
    },
    {
      "cell_type": "code",
      "execution_count": null,
      "metadata": {
        "colab": {
          "base_uri": "https://localhost:8080/"
        },
        "id": "xIjpdkShhT-u",
        "outputId": "abb40a43-ca79-484c-9811-624545f721a3"
      },
      "outputs": [
        {
          "output_type": "execute_result",
          "data": {
            "text/plain": [
              "17"
            ]
          },
          "metadata": {},
          "execution_count": 126
        }
      ],
      "source": [
        "len(bites[(bites['ResultsIDDesc'] == 'NEGATIVE') & (bites['DispositionIDDesc'] == 'KILLED') | (bites['DispositionIDDesc'] == 'DIED')])"
      ]
    },
    {
      "cell_type": "code",
      "execution_count": null,
      "metadata": {
        "colab": {
          "base_uri": "https://localhost:8080/"
        },
        "id": "9kIAsNaohT-w",
        "outputId": "c445356a-8cc3-4da3-835d-13e81c832585"
      },
      "outputs": [
        {
          "output_type": "stream",
          "name": "stdout",
          "text": [
            "9.91 %\n"
          ]
        }
      ],
      "source": [
        "print(round((len(bites[(bites.bite_date >= '2010') & (bites['bite_date'] < '2011') & (bites['SpeciesIDDesc'] == 'DOG')]) / len(bites)) * 100,2),'%')"
      ]
    },
    {
      "cell_type": "markdown",
      "metadata": {
        "id": "NSUtlEkyhT-x"
      },
      "source": [
        "*Câu 7*\n",
        "\n",
        "a) Tính số năm tiêm ngừa trung bình của các con vật (không tính các dòng có giá trị `NaN` tại cột này).\n",
        "\n",
        "b) Trong năm 2017 có bao nhiêu vụ tấn công trong đó con vật tấn công là chó `BOXER`?"
      ]
    },
    {
      "cell_type": "code",
      "execution_count": null,
      "metadata": {
        "colab": {
          "base_uri": "https://localhost:8080/"
        },
        "id": "p-oNgI8DhT-y",
        "outputId": "62f10c94-2bab-400e-a1dc-8f0ed2a9e237"
      },
      "outputs": [
        {
          "output_type": "execute_result",
          "data": {
            "text/plain": [
              "1.45"
            ]
          },
          "metadata": {},
          "execution_count": 166
        }
      ],
      "source": [
        "v = bites[~bites['vaccination_yrs'].isnull()]\n",
        "round(v['vaccination_yrs'].mean(),2)"
      ]
    },
    {
      "cell_type": "code",
      "execution_count": null,
      "metadata": {
        "colab": {
          "base_uri": "https://localhost:8080/"
        },
        "id": "Jgj5_ZdohT-z",
        "outputId": "9a29909a-c3ab-4eb7-922d-08e018a06738"
      },
      "outputs": [
        {
          "output_type": "execute_result",
          "data": {
            "text/plain": [
              "33"
            ]
          },
          "metadata": {},
          "execution_count": 169
        }
      ],
      "source": [
        "len(bites[(bites['BreedIDDesc'] == 'BOXER') & (bites['bite_date'] >= '2017') & (bites['bite_date'] < '2018')])"
      ]
    },
    {
      "cell_type": "markdown",
      "metadata": {
        "id": "-2ChELKnhT-z"
      },
      "source": [
        "*Câu 8*\n",
        "\n",
        "Trong các năm từ 2010 đến 2016, __giống__ nào của __loài__ nào đã gây ra nhiều vụ cắn nhất? Không tính các dòng có giá trị `NaN` hoặc `UNKNOWN` tại 2 cột này. Gợi ý: Nên chia thành nhiều bước."
      ]
    },
    {
      "cell_type": "code",
      "execution_count": null,
      "metadata": {
        "colab": {
          "base_uri": "https://localhost:8080/"
        },
        "id": "rKnC-WCjhT-1",
        "outputId": "16152975-ba01-4f2a-a561-d325dc8f1d68"
      },
      "outputs": [
        {
          "output_type": "execute_result",
          "data": {
            "text/plain": [
              "PIT BULL    915\n",
              "Name: BreedIDDesc, dtype: int64"
            ]
          },
          "metadata": {},
          "execution_count": 239
        }
      ],
      "source": [
        "n = bites.BreedIDDesc[(bites['bite_date'] >= '2010') & (bites['bite_date'] < '2017')].value_counts()\n",
        "n.head(1)"
      ]
    },
    {
      "cell_type": "markdown",
      "metadata": {
        "id": "PwE5S3ErhT-1"
      },
      "source": [
        "*Câu 9*\n",
        "\n",
        "a) Có bao nhiêu con vật đã được ghi nhận ngày được đưa đến phòng nghiên cứu?\n",
        "\n",
        "b) Trong số các con vật này thì chó chiếm bao nhiêu phần trăm?"
      ]
    },
    {
      "cell_type": "code",
      "execution_count": null,
      "metadata": {
        "colab": {
          "base_uri": "https://localhost:8080/"
        },
        "id": "c8MPDamphT-5",
        "outputId": "19964535-777a-408e-f8fe-6bd6a8df7efa"
      },
      "outputs": [
        {
          "output_type": "execute_result",
          "data": {
            "text/plain": [
              "395"
            ]
          },
          "metadata": {},
          "execution_count": 176
        }
      ],
      "source": [
        "len(bites[~bites['head_sent_date'].isnull()])"
      ]
    },
    {
      "cell_type": "code",
      "execution_count": null,
      "metadata": {
        "colab": {
          "base_uri": "https://localhost:8080/"
        },
        "id": "i4PKl5fYhT-6",
        "outputId": "89855511-a965-4ea8-e7d4-3ce59291a1d7"
      },
      "outputs": [
        {
          "output_type": "stream",
          "name": "stdout",
          "text": [
            "85.93 %\n"
          ]
        }
      ],
      "source": [
        "b = bites[~bites['vaccination_yrs'].isnull()]\n",
        "print(round((len(b[b['SpeciesIDDesc'] == 'DOG']) / len(b)) * 100,2),\"%\")"
      ]
    },
    {
      "cell_type": "markdown",
      "metadata": {
        "id": "D39Srbc0hT-7"
      },
      "source": [
        "*Câu 10*\n",
        "\n",
        "a) Có bao nhiêu con chó đã được ghi nhận ngày thả?\n",
        "\n",
        "b) Trong số đó có bao nhiêu con được ghi nhận đã chích ngừa ít nhất 1 năm?"
      ]
    },
    {
      "cell_type": "code",
      "execution_count": null,
      "metadata": {
        "colab": {
          "base_uri": "https://localhost:8080/"
        },
        "id": "ZpMTGapAhT--",
        "outputId": "15868b56-cd29-41b5-e3b0-c4c1ffbea9b3"
      },
      "outputs": [
        {
          "output_type": "execute_result",
          "data": {
            "text/plain": [
              "1249"
            ]
          },
          "metadata": {},
          "execution_count": 182
        }
      ],
      "source": [
        "r = bites[~bites['release_date'].isnull()]\n",
        "len(r[r['SpeciesIDDesc'] == 'DOG'])"
      ]
    },
    {
      "cell_type": "code",
      "execution_count": null,
      "metadata": {
        "colab": {
          "base_uri": "https://localhost:8080/"
        },
        "id": "wRUvy0WEhT-_",
        "outputId": "afada1d3-2245-432b-d537-021e6068a150"
      },
      "outputs": [
        {
          "output_type": "execute_result",
          "data": {
            "text/plain": [
              "943"
            ]
          },
          "metadata": {},
          "execution_count": 184
        }
      ],
      "source": [
        "len(r[(r['SpeciesIDDesc'] == 'DOG') & (r['vaccination_yrs'] >= 1)])"
      ]
    }
  ],
  "metadata": {
    "kernelspec": {
      "display_name": "Python 3",
      "language": "python",
      "name": "python3"
    },
    "language_info": {
      "codemirror_mode": {
        "name": "ipython",
        "version": 3
      },
      "file_extension": ".py",
      "mimetype": "text/x-python",
      "name": "python",
      "nbconvert_exporter": "python",
      "pygments_lexer": "ipython3",
      "version": "3.7.6"
    },
    "colab": {
      "provenance": []
    }
  },
  "nbformat": 4,
  "nbformat_minor": 0
}