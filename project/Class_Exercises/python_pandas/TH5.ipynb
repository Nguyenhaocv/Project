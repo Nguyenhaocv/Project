{
  "nbformat": 4,
  "nbformat_minor": 0,
  "metadata": {
    "colab": {
      "provenance": []
    },
    "kernelspec": {
      "name": "python3",
      "display_name": "Python 3"
    }
  },
  "cells": [
    {
      "cell_type": "markdown",
      "metadata": {
        "id": "PPHNGnzHHDXG"
      },
      "source": [
        "# Dữ liệu\n",
        "Dữ liệu cho bài thực hành này được tổng hợp từ [MyAnimeList](https://myanimelist.net/) được lưu trong file [anime_info.csv](https://raw.githubusercontent.com/Levytan/mis_hutech/master/data/anime_info.csv) và bao gồm các cột:\n",
        "* `anime_id`: mã số của anime trên [MyAnimeList](https://myanimelist.net/).\n",
        "* `title` : tựa của anime.\n",
        "* `type` : hình thức phát hành (TV Series, Movie, OVA, ...).\n",
        "* `source` : nguyên tác của anime (Manga, Light Novel, Game, ...).\n",
        "* `episodes` : số tập.\n",
        "* `duration_min` : thời lượng mỗi tập (tính bằng phút).\n",
        "* `score` : điểm của anime trên [MyAnimeList](https://myanimelist.net/), tổng hợp từ đánh giá có người dùng.\n",
        "* `studio` : hãng sản xuất.\n",
        "* `genre` : thể loại phim.\n",
        "* `start` : ngày bắt đầu phát hành.\n",
        "* `finish` : ngày kết thúc phát hành."
      ]
    },
    {
      "cell_type": "markdown",
      "metadata": {
        "id": "47LkimmwN3eg"
      },
      "source": [
        "# Bài tập"
      ]
    },
    {
      "cell_type": "code",
      "source": [
        "import pandas as pd\n",
        "import numpy as np"
      ],
      "metadata": {
        "id": "nvn84ydOggTy"
      },
      "execution_count": 2,
      "outputs": []
    },
    {
      "cell_type": "markdown",
      "metadata": {
        "id": "zwBzHoF5N5QQ"
      },
      "source": [
        "**Câu 1**: Đọc dữ liệu từ file csv và lưu dưới tên `anime_data`."
      ]
    },
    {
      "cell_type": "code",
      "metadata": {
        "id": "ut8dRn9fG6Rl",
        "colab": {
          "base_uri": "https://localhost:8080/",
          "height": 628
        },
        "outputId": "ebaa3613-ccad-4a07-8d95-3ab7de07de61"
      },
      "source": [
        "anime_data = pd.read_csv('https://raw.githubusercontent.com/vb-ym/MIS_Hutech/master/HK1B_21_22/Week_4/anime_info.csv',index_col = 'anime_id')\n",
        "anime_data"
      ],
      "execution_count": 3,
      "outputs": [
        {
          "output_type": "execute_result",
          "data": {
            "text/plain": [
              "                                                      title type  \\\n",
              "anime_id                                                           \n",
              "11013                                         Inu x Boku SS   TV   \n",
              "2104                                       Seto no Hanayome   TV   \n",
              "5262                                     Shugo Chara!! Doki   TV   \n",
              "721                                           Princess Tutu   TV   \n",
              "12365                                   Bakuman. 3rd Season   TV   \n",
              "...                                                     ...  ...   \n",
              "37894                                    Ling Yu 4th Season  ONA   \n",
              "37886                           Wo Shi Jiang Xiaobai (2018)  ONA   \n",
              "37255                 Genki Genki Non-tan: Obake Mura Meiro  OVA   \n",
              "35229                                   Mr. Men Little Miss  ONA   \n",
              "36315     Mushi Mushi Mura no Nakama-tachi: Minna Ii Tok...  OVA   \n",
              "\n",
              "                source  episodes  duration_min  score  \\\n",
              "anime_id                                                \n",
              "11013            Manga        12          24.0   7.63   \n",
              "2104             Manga        26          24.0   7.89   \n",
              "5262             Manga        51          24.0   7.55   \n",
              "721           Original        38          16.0   8.21   \n",
              "12365            Manga        25          24.0   8.67   \n",
              "...                ...       ...           ...    ...   \n",
              "37894            Novel        12          13.0   7.53   \n",
              "37886         Original         1           0.0   0.00   \n",
              "37255         Original         1          35.0   4.20   \n",
              "35229     Picture book         0           2.0   4.57   \n",
              "36315         Original         1          13.0   7.00   \n",
              "\n",
              "                              studio  \\\n",
              "anime_id                               \n",
              "11013               David Production   \n",
              "2104                           Gonzo   \n",
              "5262                       Satelight   \n",
              "721                   Hal Film Maker   \n",
              "12365                      J.C.Staff   \n",
              "...                              ...   \n",
              "37894     Haoliners Animation League   \n",
              "37886                 2:10 Animation   \n",
              "37255               Polygon Pictures   \n",
              "35229                         Sanrio   \n",
              "36315                 Toei Animation   \n",
              "\n",
              "                                             genre       start      finish  \n",
              "anime_id                                                                    \n",
              "11013       Comedy, Supernatural, Romance, Shounen  2012-01-13  2012-03-30  \n",
              "2104      Comedy, Parody, Romance, School, Shounen  2007-04-02  2007-10-01  \n",
              "5262                 Comedy, Magic, School, Shoujo  2008-10-04  2009-09-25  \n",
              "721         Comedy, Drama, Magic, Romance, Fantasy  2002-08-16  2003-05-23  \n",
              "12365              Comedy, Drama, Romance, Shounen  2012-10-06  2013-03-30  \n",
              "...                                            ...         ...         ...  \n",
              "37894                                      Fantasy  2016-12-08  2017-02-23  \n",
              "37886                Slice of Life, Drama, Romance  2018-05-25  2018-05-25  \n",
              "37255                                  Music, Kids  2015-06-03  2015-06-03  \n",
              "35229                                         Kids  2013-11-29         NaN  \n",
              "36315                                         Kids         NaN         NaN  \n",
              "\n",
              "[6311 rows x 10 columns]"
            ],
            "text/html": [
              "\n",
              "  <div id=\"df-c0da07e2-e210-4965-8f21-0b45266a6ec9\" class=\"colab-df-container\">\n",
              "    <div>\n",
              "<style scoped>\n",
              "    .dataframe tbody tr th:only-of-type {\n",
              "        vertical-align: middle;\n",
              "    }\n",
              "\n",
              "    .dataframe tbody tr th {\n",
              "        vertical-align: top;\n",
              "    }\n",
              "\n",
              "    .dataframe thead th {\n",
              "        text-align: right;\n",
              "    }\n",
              "</style>\n",
              "<table border=\"1\" class=\"dataframe\">\n",
              "  <thead>\n",
              "    <tr style=\"text-align: right;\">\n",
              "      <th></th>\n",
              "      <th>title</th>\n",
              "      <th>type</th>\n",
              "      <th>source</th>\n",
              "      <th>episodes</th>\n",
              "      <th>duration_min</th>\n",
              "      <th>score</th>\n",
              "      <th>studio</th>\n",
              "      <th>genre</th>\n",
              "      <th>start</th>\n",
              "      <th>finish</th>\n",
              "    </tr>\n",
              "    <tr>\n",
              "      <th>anime_id</th>\n",
              "      <th></th>\n",
              "      <th></th>\n",
              "      <th></th>\n",
              "      <th></th>\n",
              "      <th></th>\n",
              "      <th></th>\n",
              "      <th></th>\n",
              "      <th></th>\n",
              "      <th></th>\n",
              "      <th></th>\n",
              "    </tr>\n",
              "  </thead>\n",
              "  <tbody>\n",
              "    <tr>\n",
              "      <th>11013</th>\n",
              "      <td>Inu x Boku SS</td>\n",
              "      <td>TV</td>\n",
              "      <td>Manga</td>\n",
              "      <td>12</td>\n",
              "      <td>24.0</td>\n",
              "      <td>7.63</td>\n",
              "      <td>David Production</td>\n",
              "      <td>Comedy, Supernatural, Romance, Shounen</td>\n",
              "      <td>2012-01-13</td>\n",
              "      <td>2012-03-30</td>\n",
              "    </tr>\n",
              "    <tr>\n",
              "      <th>2104</th>\n",
              "      <td>Seto no Hanayome</td>\n",
              "      <td>TV</td>\n",
              "      <td>Manga</td>\n",
              "      <td>26</td>\n",
              "      <td>24.0</td>\n",
              "      <td>7.89</td>\n",
              "      <td>Gonzo</td>\n",
              "      <td>Comedy, Parody, Romance, School, Shounen</td>\n",
              "      <td>2007-04-02</td>\n",
              "      <td>2007-10-01</td>\n",
              "    </tr>\n",
              "    <tr>\n",
              "      <th>5262</th>\n",
              "      <td>Shugo Chara!! Doki</td>\n",
              "      <td>TV</td>\n",
              "      <td>Manga</td>\n",
              "      <td>51</td>\n",
              "      <td>24.0</td>\n",
              "      <td>7.55</td>\n",
              "      <td>Satelight</td>\n",
              "      <td>Comedy, Magic, School, Shoujo</td>\n",
              "      <td>2008-10-04</td>\n",
              "      <td>2009-09-25</td>\n",
              "    </tr>\n",
              "    <tr>\n",
              "      <th>721</th>\n",
              "      <td>Princess Tutu</td>\n",
              "      <td>TV</td>\n",
              "      <td>Original</td>\n",
              "      <td>38</td>\n",
              "      <td>16.0</td>\n",
              "      <td>8.21</td>\n",
              "      <td>Hal Film Maker</td>\n",
              "      <td>Comedy, Drama, Magic, Romance, Fantasy</td>\n",
              "      <td>2002-08-16</td>\n",
              "      <td>2003-05-23</td>\n",
              "    </tr>\n",
              "    <tr>\n",
              "      <th>12365</th>\n",
              "      <td>Bakuman. 3rd Season</td>\n",
              "      <td>TV</td>\n",
              "      <td>Manga</td>\n",
              "      <td>25</td>\n",
              "      <td>24.0</td>\n",
              "      <td>8.67</td>\n",
              "      <td>J.C.Staff</td>\n",
              "      <td>Comedy, Drama, Romance, Shounen</td>\n",
              "      <td>2012-10-06</td>\n",
              "      <td>2013-03-30</td>\n",
              "    </tr>\n",
              "    <tr>\n",
              "      <th>...</th>\n",
              "      <td>...</td>\n",
              "      <td>...</td>\n",
              "      <td>...</td>\n",
              "      <td>...</td>\n",
              "      <td>...</td>\n",
              "      <td>...</td>\n",
              "      <td>...</td>\n",
              "      <td>...</td>\n",
              "      <td>...</td>\n",
              "      <td>...</td>\n",
              "    </tr>\n",
              "    <tr>\n",
              "      <th>37894</th>\n",
              "      <td>Ling Yu 4th Season</td>\n",
              "      <td>ONA</td>\n",
              "      <td>Novel</td>\n",
              "      <td>12</td>\n",
              "      <td>13.0</td>\n",
              "      <td>7.53</td>\n",
              "      <td>Haoliners Animation League</td>\n",
              "      <td>Fantasy</td>\n",
              "      <td>2016-12-08</td>\n",
              "      <td>2017-02-23</td>\n",
              "    </tr>\n",
              "    <tr>\n",
              "      <th>37886</th>\n",
              "      <td>Wo Shi Jiang Xiaobai (2018)</td>\n",
              "      <td>ONA</td>\n",
              "      <td>Original</td>\n",
              "      <td>1</td>\n",
              "      <td>0.0</td>\n",
              "      <td>0.00</td>\n",
              "      <td>2:10 Animation</td>\n",
              "      <td>Slice of Life, Drama, Romance</td>\n",
              "      <td>2018-05-25</td>\n",
              "      <td>2018-05-25</td>\n",
              "    </tr>\n",
              "    <tr>\n",
              "      <th>37255</th>\n",
              "      <td>Genki Genki Non-tan: Obake Mura Meiro</td>\n",
              "      <td>OVA</td>\n",
              "      <td>Original</td>\n",
              "      <td>1</td>\n",
              "      <td>35.0</td>\n",
              "      <td>4.20</td>\n",
              "      <td>Polygon Pictures</td>\n",
              "      <td>Music, Kids</td>\n",
              "      <td>2015-06-03</td>\n",
              "      <td>2015-06-03</td>\n",
              "    </tr>\n",
              "    <tr>\n",
              "      <th>35229</th>\n",
              "      <td>Mr. Men Little Miss</td>\n",
              "      <td>ONA</td>\n",
              "      <td>Picture book</td>\n",
              "      <td>0</td>\n",
              "      <td>2.0</td>\n",
              "      <td>4.57</td>\n",
              "      <td>Sanrio</td>\n",
              "      <td>Kids</td>\n",
              "      <td>2013-11-29</td>\n",
              "      <td>NaN</td>\n",
              "    </tr>\n",
              "    <tr>\n",
              "      <th>36315</th>\n",
              "      <td>Mushi Mushi Mura no Nakama-tachi: Minna Ii Tok...</td>\n",
              "      <td>OVA</td>\n",
              "      <td>Original</td>\n",
              "      <td>1</td>\n",
              "      <td>13.0</td>\n",
              "      <td>7.00</td>\n",
              "      <td>Toei Animation</td>\n",
              "      <td>Kids</td>\n",
              "      <td>NaN</td>\n",
              "      <td>NaN</td>\n",
              "    </tr>\n",
              "  </tbody>\n",
              "</table>\n",
              "<p>6311 rows × 10 columns</p>\n",
              "</div>\n",
              "    <div class=\"colab-df-buttons\">\n",
              "\n",
              "  <div class=\"colab-df-container\">\n",
              "    <button class=\"colab-df-convert\" onclick=\"convertToInteractive('df-c0da07e2-e210-4965-8f21-0b45266a6ec9')\"\n",
              "            title=\"Convert this dataframe to an interactive table.\"\n",
              "            style=\"display:none;\">\n",
              "\n",
              "  <svg xmlns=\"http://www.w3.org/2000/svg\" height=\"24px\" viewBox=\"0 -960 960 960\">\n",
              "    <path d=\"M120-120v-720h720v720H120Zm60-500h600v-160H180v160Zm220 220h160v-160H400v160Zm0 220h160v-160H400v160ZM180-400h160v-160H180v160Zm440 0h160v-160H620v160ZM180-180h160v-160H180v160Zm440 0h160v-160H620v160Z\"/>\n",
              "  </svg>\n",
              "    </button>\n",
              "\n",
              "  <style>\n",
              "    .colab-df-container {\n",
              "      display:flex;\n",
              "      gap: 12px;\n",
              "    }\n",
              "\n",
              "    .colab-df-convert {\n",
              "      background-color: #E8F0FE;\n",
              "      border: none;\n",
              "      border-radius: 50%;\n",
              "      cursor: pointer;\n",
              "      display: none;\n",
              "      fill: #1967D2;\n",
              "      height: 32px;\n",
              "      padding: 0 0 0 0;\n",
              "      width: 32px;\n",
              "    }\n",
              "\n",
              "    .colab-df-convert:hover {\n",
              "      background-color: #E2EBFA;\n",
              "      box-shadow: 0px 1px 2px rgba(60, 64, 67, 0.3), 0px 1px 3px 1px rgba(60, 64, 67, 0.15);\n",
              "      fill: #174EA6;\n",
              "    }\n",
              "\n",
              "    .colab-df-buttons div {\n",
              "      margin-bottom: 4px;\n",
              "    }\n",
              "\n",
              "    [theme=dark] .colab-df-convert {\n",
              "      background-color: #3B4455;\n",
              "      fill: #D2E3FC;\n",
              "    }\n",
              "\n",
              "    [theme=dark] .colab-df-convert:hover {\n",
              "      background-color: #434B5C;\n",
              "      box-shadow: 0px 1px 3px 1px rgba(0, 0, 0, 0.15);\n",
              "      filter: drop-shadow(0px 1px 2px rgba(0, 0, 0, 0.3));\n",
              "      fill: #FFFFFF;\n",
              "    }\n",
              "  </style>\n",
              "\n",
              "    <script>\n",
              "      const buttonEl =\n",
              "        document.querySelector('#df-c0da07e2-e210-4965-8f21-0b45266a6ec9 button.colab-df-convert');\n",
              "      buttonEl.style.display =\n",
              "        google.colab.kernel.accessAllowed ? 'block' : 'none';\n",
              "\n",
              "      async function convertToInteractive(key) {\n",
              "        const element = document.querySelector('#df-c0da07e2-e210-4965-8f21-0b45266a6ec9');\n",
              "        const dataTable =\n",
              "          await google.colab.kernel.invokeFunction('convertToInteractive',\n",
              "                                                    [key], {});\n",
              "        if (!dataTable) return;\n",
              "\n",
              "        const docLinkHtml = 'Like what you see? Visit the ' +\n",
              "          '<a target=\"_blank\" href=https://colab.research.google.com/notebooks/data_table.ipynb>data table notebook</a>'\n",
              "          + ' to learn more about interactive tables.';\n",
              "        element.innerHTML = '';\n",
              "        dataTable['output_type'] = 'display_data';\n",
              "        await google.colab.output.renderOutput(dataTable, element);\n",
              "        const docLink = document.createElement('div');\n",
              "        docLink.innerHTML = docLinkHtml;\n",
              "        element.appendChild(docLink);\n",
              "      }\n",
              "    </script>\n",
              "  </div>\n",
              "\n",
              "\n",
              "<div id=\"df-36f596fd-4ad2-453a-a32c-968c076d1303\">\n",
              "  <button class=\"colab-df-quickchart\" onclick=\"quickchart('df-36f596fd-4ad2-453a-a32c-968c076d1303')\"\n",
              "            title=\"Suggest charts.\"\n",
              "            style=\"display:none;\">\n",
              "\n",
              "<svg xmlns=\"http://www.w3.org/2000/svg\" height=\"24px\"viewBox=\"0 0 24 24\"\n",
              "     width=\"24px\">\n",
              "    <g>\n",
              "        <path d=\"M19 3H5c-1.1 0-2 .9-2 2v14c0 1.1.9 2 2 2h14c1.1 0 2-.9 2-2V5c0-1.1-.9-2-2-2zM9 17H7v-7h2v7zm4 0h-2V7h2v10zm4 0h-2v-4h2v4z\"/>\n",
              "    </g>\n",
              "</svg>\n",
              "  </button>\n",
              "\n",
              "<style>\n",
              "  .colab-df-quickchart {\n",
              "    background-color: #E8F0FE;\n",
              "    border: none;\n",
              "    border-radius: 50%;\n",
              "    cursor: pointer;\n",
              "    display: none;\n",
              "    fill: #1967D2;\n",
              "    height: 32px;\n",
              "    padding: 0 0 0 0;\n",
              "    width: 32px;\n",
              "  }\n",
              "\n",
              "  .colab-df-quickchart:hover {\n",
              "    background-color: #E2EBFA;\n",
              "    box-shadow: 0px 1px 2px rgba(60, 64, 67, 0.3), 0px 1px 3px 1px rgba(60, 64, 67, 0.15);\n",
              "    fill: #174EA6;\n",
              "  }\n",
              "\n",
              "  [theme=dark] .colab-df-quickchart {\n",
              "    background-color: #3B4455;\n",
              "    fill: #D2E3FC;\n",
              "  }\n",
              "\n",
              "  [theme=dark] .colab-df-quickchart:hover {\n",
              "    background-color: #434B5C;\n",
              "    box-shadow: 0px 1px 3px 1px rgba(0, 0, 0, 0.15);\n",
              "    filter: drop-shadow(0px 1px 2px rgba(0, 0, 0, 0.3));\n",
              "    fill: #FFFFFF;\n",
              "  }\n",
              "</style>\n",
              "\n",
              "  <script>\n",
              "    async function quickchart(key) {\n",
              "      const charts = await google.colab.kernel.invokeFunction(\n",
              "          'suggestCharts', [key], {});\n",
              "    }\n",
              "    (() => {\n",
              "      let quickchartButtonEl =\n",
              "        document.querySelector('#df-36f596fd-4ad2-453a-a32c-968c076d1303 button');\n",
              "      quickchartButtonEl.style.display =\n",
              "        google.colab.kernel.accessAllowed ? 'block' : 'none';\n",
              "    })();\n",
              "  </script>\n",
              "</div>\n",
              "    </div>\n",
              "  </div>\n"
            ]
          },
          "metadata": {},
          "execution_count": 3
        }
      ]
    },
    {
      "cell_type": "markdown",
      "metadata": {
        "id": "G-BBzoqzPHpz"
      },
      "source": [
        "**Câu 2**: Thực hiện việc chuyển đổi cần thiết."
      ]
    },
    {
      "cell_type": "code",
      "metadata": {
        "id": "LZSU81N0PMrG",
        "colab": {
          "base_uri": "https://localhost:8080/"
        },
        "outputId": "1031e6ae-b776-43ca-b795-c3a316587076"
      },
      "source": [
        "anime_data = anime_data.assign(start = pd.to_datetime(anime_data.start))\n",
        "anime_data = anime_data.assign(finish = pd.to_datetime(anime_data.finish))\n",
        "anime_data.dtypes"
      ],
      "execution_count": 4,
      "outputs": [
        {
          "output_type": "execute_result",
          "data": {
            "text/plain": [
              "title                   object\n",
              "type                    object\n",
              "source                  object\n",
              "episodes                 int64\n",
              "duration_min           float64\n",
              "score                  float64\n",
              "studio                  object\n",
              "genre                   object\n",
              "start           datetime64[ns]\n",
              "finish          datetime64[ns]\n",
              "dtype: object"
            ]
          },
          "metadata": {},
          "execution_count": 4
        }
      ]
    },
    {
      "cell_type": "markdown",
      "metadata": {
        "id": "QF4v9Sw-PdjQ"
      },
      "source": [
        "**Câu 3**: Xóa những dòng có ngày bắt đầu hoặc kết thúc là `NaT`."
      ]
    },
    {
      "cell_type": "code",
      "metadata": {
        "id": "0fSzraqzPmLL"
      },
      "source": [
        "anime_data  = anime_data.dropna(axis='index')"
      ],
      "execution_count": 5,
      "outputs": []
    },
    {
      "cell_type": "markdown",
      "metadata": {
        "id": "iFv-SUYyPmpb"
      },
      "source": [
        "**Câu 4**: Xóa những dòng có số tập là 0."
      ]
    },
    {
      "cell_type": "code",
      "metadata": {
        "id": "qwCEjjuxPszX",
        "colab": {
          "base_uri": "https://localhost:8080/"
        },
        "outputId": "a4f9b18a-a12a-4249-d336-06e827734a37"
      },
      "source": [
        "anime_data = anime_data.drop(anime_data[anime_data.episodes == 0].index,0)"
      ],
      "execution_count": 6,
      "outputs": [
        {
          "output_type": "stream",
          "name": "stderr",
          "text": [
            "<ipython-input-6-9e1c79d509c0>:1: FutureWarning: In a future version of pandas all arguments of DataFrame.drop except for the argument 'labels' will be keyword-only.\n",
            "  anime_data = anime_data.drop(anime_data[anime_data.episodes == 0].index,0)\n"
          ]
        }
      ]
    },
    {
      "cell_type": "markdown",
      "metadata": {
        "id": "j2Ccqcs7QROa"
      },
      "source": [
        "**Câu 5**: Xóa những dòng có thời lượng mỗi tập là 0."
      ]
    },
    {
      "cell_type": "code",
      "metadata": {
        "id": "BFGzgdn0QZSD",
        "colab": {
          "base_uri": "https://localhost:8080/"
        },
        "outputId": "959a51db-ddc6-4596-e608-941e2e3f347e"
      },
      "source": [
        "anime_data = anime_data.drop(anime_data[anime_data.duration_min == 0].index,0)"
      ],
      "execution_count": 7,
      "outputs": [
        {
          "output_type": "stream",
          "name": "stderr",
          "text": [
            "<ipython-input-7-0764ef913002>:1: FutureWarning: In a future version of pandas all arguments of DataFrame.drop except for the argument 'labels' will be keyword-only.\n",
            "  anime_data = anime_data.drop(anime_data[anime_data.duration_min == 0].index,0)\n"
          ]
        }
      ]
    },
    {
      "cell_type": "markdown",
      "metadata": {
        "id": "oQJ-OBh7QdC9"
      },
      "source": [
        "**Câu 6**: In ra số lượng anime còn lại sau khi thực hiện câu 3 - 5."
      ]
    },
    {
      "cell_type": "code",
      "metadata": {
        "id": "b3j3ZU8DQpGn",
        "colab": {
          "base_uri": "https://localhost:8080/"
        },
        "outputId": "f02db4fb-2252-44c7-f9b0-844027e7ffee"
      },
      "source": [
        "len(anime_data)"
      ],
      "execution_count": 8,
      "outputs": [
        {
          "output_type": "execute_result",
          "data": {
            "text/plain": [
              "5994"
            ]
          },
          "metadata": {},
          "execution_count": 8
        }
      ]
    },
    {
      "cell_type": "markdown",
      "metadata": {
        "id": "P8KqLBv1Qp5X"
      },
      "source": [
        "**Câu 7**: Thống kê số lượng anime phát hành mỗi năm (tính theo ngày bắt đầu phát hành). Năm nào có nhiều anime phát hành nhất trong bộ dữ liệu."
      ]
    },
    {
      "cell_type": "code",
      "source": [
        "anime_data.start.groupby(by = anime_data.start.dt.year).count()"
      ],
      "metadata": {
        "colab": {
          "base_uri": "https://localhost:8080/"
        },
        "id": "FkBPupXKubmU",
        "outputId": "292c85f6-1be0-4422-f45b-a2e461b67ed1"
      },
      "execution_count": 9,
      "outputs": [
        {
          "output_type": "execute_result",
          "data": {
            "text/plain": [
              "start\n",
              "1942      1\n",
              "1943      2\n",
              "1944      1\n",
              "1945      1\n",
              "1957      1\n",
              "       ... \n",
              "2014    392\n",
              "2015    441\n",
              "2016    521\n",
              "2017    459\n",
              "2018     97\n",
              "Name: start, Length: 65, dtype: int64"
            ]
          },
          "metadata": {},
          "execution_count": 9
        }
      ]
    },
    {
      "cell_type": "markdown",
      "metadata": {
        "id": "02He-T16Tsru"
      },
      "source": [
        "**Câu 8**: Thêm vào dữ liệu cột `decade` là thập kỷ phát hành của anime. Thống kê số lượng anime phát hành theo thập kỷ."
      ]
    },
    {
      "cell_type": "code",
      "metadata": {
        "id": "VEZqiltDUBpV"
      },
      "source": [
        "def thapky(x):\n",
        "  return (str(x//10)+'0s')\n",
        "anime_data['decade'] = anime_data.start.dt.year.apply(thapky)\n"
      ],
      "execution_count": 10,
      "outputs": []
    },
    {
      "cell_type": "markdown",
      "metadata": {
        "id": "LF6PokWKUJpx"
      },
      "source": [
        "**Câu 9**: Thêm vào dữ liệu cột `season` để chỉ mùa phát sóng (tính theo ngày bắt đầu phát hành) của anime với:\n",
        "\n",
        "|Ngày phát hành|Season|\n",
        "|---|---|\n",
        "|Từ 01.01 đến 31.03|Winter-Spring|\n",
        "|Từ 01.04 đến 30.06|Spring|\n",
        "|Từ 01.07 đến 30.09|Summer|\n",
        "|Từ 01.10 đến 31.12|Fall|\n",
        "\n",
        "In ra `season` có nhiều bộ anime phát hành nhất.\n"
      ]
    },
    {
      "cell_type": "code",
      "metadata": {
        "id": "7hHeFhQQVMpp",
        "colab": {
          "base_uri": "https://localhost:8080/"
        },
        "outputId": "0a509764-950e-4025-d709-787997172869"
      },
      "source": [
        "def season(thang):\n",
        "  if thang <= 3:\n",
        "    return 'Winter-Spring'\n",
        "  elif thang <=6:\n",
        "    return 'Spring'\n",
        "  elif thang <9:\n",
        "    return 'Summer'\n",
        "  else:\n",
        "    return 'Fall'\n",
        "anime_data['season'] = anime_data.start.dt.month.apply(season)\n",
        "anime_data['season'].value_counts()"
      ],
      "execution_count": 28,
      "outputs": [
        {
          "output_type": "execute_result",
          "data": {
            "text/plain": [
              "Fall             1965\n",
              "Spring           1537\n",
              "Winter-Spring    1377\n",
              "Summer           1115\n",
              "Name: season, dtype: int64"
            ]
          },
          "metadata": {},
          "execution_count": 28
        }
      ]
    },
    {
      "cell_type": "markdown",
      "metadata": {
        "id": "mOAFnxDTVSuN"
      },
      "source": [
        "**Câu 10**: Lấy ra những anime có `type` là 'TV' và dùng dữ liệu đó để trả lời các câu hỏi sau:\n",
        "1. Có bao nhiêu anime trong bộ dữ liệu đó?\n",
        "2. Anime nào có nhiều tập nhất?\n",
        "3. Có tổng cộng bao nhiêu tập phim?\n",
        "4. Tổng thời gian để xem hết các anime này? (tính theo giờ, theo ngày)\n",
        "5. Thời gian trung bình 1 tập.\n",
        "6. Tính score trung bình từng thập kỷ.\n",
        "7. Tính score trung bình theo từng `seanson` và `source`.\n",
        "8. Tính score trung bình theo từng studio.\n",
        "9. Tính ma trận hệ số tương quan giữa các cột `score`, `duration_min` và `episodes`.\n",
        "10. Thêm cột `aired_duration` là số ngày phát hành. *Gợi ý*: `(end - start) / pd.Timedelta('1 days')`.\n",
        "11. In ra anime có thời gian phát hành lâu nhất.\n",
        "12. In ra hệ số tương quan giữa `score` và `aired_duration`."
      ]
    },
    {
      "cell_type": "code",
      "metadata": {
        "id": "ODat6qOoWf2q",
        "colab": {
          "base_uri": "https://localhost:8080/"
        },
        "outputId": "bc04fa26-d0d6-4a89-95f9-c2fa9dcefa0e"
      },
      "source": [
        "AnimeTV = anime_data[anime_data.type == 'Movie']\n",
        "print('1.',len(AnimeTV),'\\n')\n"
      ],
      "execution_count": 39,
      "outputs": [
        {
          "output_type": "stream",
          "name": "stdout",
          "text": [
            "1. 859 \n",
            "\n"
          ]
        }
      ]
    },
    {
      "cell_type": "code",
      "source": [
        "print('2.',AnimeTV[['title','episodes']][AnimeTV.episodes == AnimeTV.episodes.max()],'\\n')"
      ],
      "metadata": {
        "colab": {
          "base_uri": "https://localhost:8080/"
        },
        "id": "hIvnN0RvNF4-",
        "outputId": "9ae515eb-7094-4660-93bb-af547514bd3e"
      },
      "execution_count": 61,
      "outputs": [
        {
          "output_type": "stream",
          "name": "stdout",
          "text": [
            "2.              title  episodes\n",
            "anime_id                    \n",
            "18755     Donyatsu        12 \n",
            "\n"
          ]
        }
      ]
    },
    {
      "cell_type": "code",
      "source": [
        "print('3.',AnimeTV.episodes.sum(),'\\n')"
      ],
      "metadata": {
        "colab": {
          "base_uri": "https://localhost:8080/"
        },
        "id": "c3cEXdHcNGFU",
        "outputId": "2793df6b-e8d5-4591-fb26-e26a3f2afd05"
      },
      "execution_count": 60,
      "outputs": [
        {
          "output_type": "stream",
          "name": "stdout",
          "text": [
            "3. 925 \n",
            "\n"
          ]
        }
      ]
    },
    {
      "cell_type": "code",
      "source": [
        "print('4.',(AnimeTV.episodes * AnimeTV.duration_min)*60)"
      ],
      "metadata": {
        "colab": {
          "base_uri": "https://localhost:8080/"
        },
        "id": "VQd2URngNGU2",
        "outputId": "ac71b414-fff9-4d8b-875b-5200e4fe4f53"
      },
      "execution_count": 59,
      "outputs": [
        {
          "output_type": "stream",
          "name": "stdout",
          "text": [
            "4. anime_id\n",
            "14353    1500.0\n",
            "11009     840.0\n",
            "15813    6000.0\n",
            "2199     2760.0\n",
            "15771    5340.0\n",
            "          ...  \n",
            "32153     240.0\n",
            "23003    1500.0\n",
            "37860    1440.0\n",
            "37859    1200.0\n",
            "37858     960.0\n",
            "Length: 859, dtype: float64\n"
          ]
        }
      ]
    },
    {
      "cell_type": "code",
      "source": [
        "print('5.',AnimeTV.duration_min.mean())"
      ],
      "metadata": {
        "colab": {
          "base_uri": "https://localhost:8080/"
        },
        "id": "1x1ODsNBNGfh",
        "outputId": "ebf6be06-8153-440d-e9cc-94a29d5d5bfc"
      },
      "execution_count": 58,
      "outputs": [
        {
          "output_type": "stream",
          "name": "stdout",
          "text": [
            "5. 75.15832363213039\n"
          ]
        }
      ]
    },
    {
      "cell_type": "code",
      "source": [
        "print('6.',AnimeTV.score.groupby(by=AnimeTV.decade).mean())"
      ],
      "metadata": {
        "colab": {
          "base_uri": "https://localhost:8080/"
        },
        "id": "OyBWdNjINGqS",
        "outputId": "98b2ea34-f2bf-4004-c384-365696db2851"
      },
      "execution_count": 57,
      "outputs": [
        {
          "output_type": "stream",
          "name": "stdout",
          "text": [
            "6. decade\n",
            "1940s    6.102000\n",
            "1950s    5.700000\n",
            "1960s    6.005000\n",
            "1970s    6.630000\n",
            "1980s    6.820860\n",
            "1990s    6.964286\n",
            "2000s    7.390859\n",
            "2010s    7.256235\n",
            "Name: score, dtype: float64\n"
          ]
        }
      ]
    },
    {
      "cell_type": "code",
      "source": [
        "print('7.',AnimeTV.groupby(['season','source'])['score'].mean())"
      ],
      "metadata": {
        "colab": {
          "base_uri": "https://localhost:8080/"
        },
        "id": "Vs1RhAsKNGzp",
        "outputId": "85c0dbec-9470-4d69-b07e-29167ef33234"
      },
      "execution_count": 56,
      "outputs": [
        {
          "output_type": "stream",
          "name": "stdout",
          "text": [
            "7. season         source      \n",
            "Fall           4-koma manga    6.775000\n",
            "               Book            7.120000\n",
            "               Card game       6.693333\n",
            "               Game            7.115556\n",
            "               Light novel     7.562000\n",
            "               Manga           7.410380\n",
            "               Music           7.210000\n",
            "               Novel           7.090000\n",
            "               Original        7.156750\n",
            "               Other           6.180909\n",
            "               Picture book    7.053333\n",
            "               Visual novel    7.264000\n",
            "Spring         4-koma manga    5.480000\n",
            "               Book            5.600000\n",
            "               Game            7.323333\n",
            "               Light novel     7.502000\n",
            "               Manga           7.532267\n",
            "               Music           7.420000\n",
            "               Novel           7.475000\n",
            "               Original        6.854082\n",
            "               Other           6.080000\n",
            "               Picture book    6.200000\n",
            "               Visual novel    7.635000\n",
            "               Web manga       7.400000\n",
            "Summer         4-koma manga    7.440000\n",
            "               Book            6.975000\n",
            "               Game            6.921795\n",
            "               Light novel     7.693846\n",
            "               Manga           7.189877\n",
            "               Novel           7.266667\n",
            "               Original        7.167612\n",
            "               Other           6.550000\n",
            "               Picture book    5.440000\n",
            "               Visual novel    7.040000\n",
            "Winter-Spring  Book            7.050000\n",
            "               Card game       7.235000\n",
            "               Game            6.700000\n",
            "               Light novel     7.843750\n",
            "               Manga           7.183457\n",
            "               Novel           7.046667\n",
            "               Original        7.023250\n",
            "               Other           6.730000\n",
            "               Picture book    6.500000\n",
            "               Visual novel    6.952500\n",
            "Name: score, dtype: float64\n"
          ]
        }
      ]
    },
    {
      "cell_type": "code",
      "source": [
        "print('8.',AnimeTV.score.groupby(by=AnimeTV.studio).mean())"
      ],
      "metadata": {
        "colab": {
          "base_uri": "https://localhost:8080/"
        },
        "id": "_UTlz3W1NG-z",
        "outputId": "4f98c8aa-8b3b-42f7-9d64-cb7d49f51cdc"
      },
      "execution_count": 55,
      "outputs": [
        {
          "output_type": "stream",
          "name": "stdout",
          "text": [
            "8. studio\n",
            "10Gauge         6.550000\n",
            "8bit            7.590000\n",
            "A-1 Pictures    7.875333\n",
            "A.C.G.T.        7.850000\n",
            "AIC             7.022500\n",
            "                  ...   \n",
            "Wit Studio      7.332857\n",
            "Xebec           7.582500\n",
            "Yamato Works    6.920000\n",
            "Zexcs           6.380000\n",
            "ufotable        7.889167\n",
            "Name: score, Length: 170, dtype: float64\n"
          ]
        }
      ]
    },
    {
      "cell_type": "code",
      "source": [
        "print('9.',AnimeTV[['episodes','duration_min','score']].corr)"
      ],
      "metadata": {
        "colab": {
          "base_uri": "https://localhost:8080/"
        },
        "id": "mP0aiJhFNHGD",
        "outputId": "da70f5e7-303b-4343-b400-f223fc9fc5d8"
      },
      "execution_count": 54,
      "outputs": [
        {
          "output_type": "stream",
          "name": "stdout",
          "text": [
            "9. <bound method DataFrame.corr of           episodes  duration_min  score\n",
            "anime_id                               \n",
            "14353            1          25.0   8.01\n",
            "11009            1          14.0   7.13\n",
            "15813            1         100.0   7.57\n",
            "2199             1          46.0   7.17\n",
            "15771            1          89.0   7.94\n",
            "...            ...           ...    ...\n",
            "32153            1           4.0   7.14\n",
            "23003            1          25.0   5.71\n",
            "37860            4           6.0   0.00\n",
            "37859            4           5.0   0.00\n",
            "37858            4           4.0   0.00\n",
            "\n",
            "[859 rows x 3 columns]>\n"
          ]
        }
      ]
    },
    {
      "cell_type": "code",
      "source": [
        "print('10.')\n",
        "AnimeTV['aired_duration'] = ((AnimeTV['finish'] - AnimeTV['start'])) / pd.Timedelta('1 days')\n",
        "AnimeTV[AnimeTV['aired_duration'] > 0].head()"
      ],
      "metadata": {
        "colab": {
          "base_uri": "https://localhost:8080/",
          "height": 480
        },
        "id": "6RfFzPo-NHM8",
        "outputId": "e72f84b7-c331-49dc-e0da-f9e11dc90f0b"
      },
      "execution_count": 53,
      "outputs": [
        {
          "output_type": "stream",
          "name": "stdout",
          "text": [
            "10.\n"
          ]
        },
        {
          "output_type": "stream",
          "name": "stderr",
          "text": [
            "<ipython-input-53-8ba1e4e663d0>:2: SettingWithCopyWarning: \n",
            "A value is trying to be set on a copy of a slice from a DataFrame.\n",
            "Try using .loc[row_indexer,col_indexer] = value instead\n",
            "\n",
            "See the caveats in the documentation: https://pandas.pydata.org/pandas-docs/stable/user_guide/indexing.html#returning-a-view-versus-a-copy\n",
            "  AnimeTV['aired_duration'] = ((AnimeTV['finish'] - AnimeTV['start'])) / pd.Timedelta('1 days')\n"
          ]
        },
        {
          "output_type": "execute_result",
          "data": {
            "text/plain": [
              "                                   title   type    source  episodes  \\\n",
              "anime_id                                                              \n",
              "31020     Norasco: Cinema Point Card-hen  Movie  Original        10   \n",
              "2733                            MiniPato  Movie  Original         3   \n",
              "2611                       Panda Kopanda  Movie  Original         2   \n",
              "18755                           Donyatsu  Movie     Manga        12   \n",
              "30617                        Animegatari  Movie  Original         8   \n",
              "\n",
              "          duration_min  score               studio                   genre  \\\n",
              "anime_id                                                                     \n",
              "31020              1.0   6.25     Kachidoki Studio   Comedy, Slice of Life   \n",
              "2733              10.0   6.59       Production I.G                  Parody   \n",
              "2611              36.0   6.87  Tokyo Movie Shinsha            Comedy, Kids   \n",
              "18755              2.0   6.18            Gathering  Comedy, Sci-Fi, Seinen   \n",
              "30617              1.0   6.02        W-Toon Studio                  Comedy   \n",
              "\n",
              "              start     finish decade         season  aired_duration  \n",
              "anime_id                                                              \n",
              "31020    2014-04-25 2018-03-11  2010s         Spring          1416.0  \n",
              "2733     2002-03-30 2002-04-13  2000s  Winter-Spring            14.0  \n",
              "2611     1972-12-17 1973-03-17  1970s           Fall            90.0  \n",
              "18755    2013-06-01 2013-12-20  2010s         Spring           202.0  \n",
              "30617    2015-04-17 2016-03-05  2010s         Spring           323.0  "
            ],
            "text/html": [
              "\n",
              "  <div id=\"df-b4af4eca-0de6-4be0-bf45-547093aca3f9\" class=\"colab-df-container\">\n",
              "    <div>\n",
              "<style scoped>\n",
              "    .dataframe tbody tr th:only-of-type {\n",
              "        vertical-align: middle;\n",
              "    }\n",
              "\n",
              "    .dataframe tbody tr th {\n",
              "        vertical-align: top;\n",
              "    }\n",
              "\n",
              "    .dataframe thead th {\n",
              "        text-align: right;\n",
              "    }\n",
              "</style>\n",
              "<table border=\"1\" class=\"dataframe\">\n",
              "  <thead>\n",
              "    <tr style=\"text-align: right;\">\n",
              "      <th></th>\n",
              "      <th>title</th>\n",
              "      <th>type</th>\n",
              "      <th>source</th>\n",
              "      <th>episodes</th>\n",
              "      <th>duration_min</th>\n",
              "      <th>score</th>\n",
              "      <th>studio</th>\n",
              "      <th>genre</th>\n",
              "      <th>start</th>\n",
              "      <th>finish</th>\n",
              "      <th>decade</th>\n",
              "      <th>season</th>\n",
              "      <th>aired_duration</th>\n",
              "    </tr>\n",
              "    <tr>\n",
              "      <th>anime_id</th>\n",
              "      <th></th>\n",
              "      <th></th>\n",
              "      <th></th>\n",
              "      <th></th>\n",
              "      <th></th>\n",
              "      <th></th>\n",
              "      <th></th>\n",
              "      <th></th>\n",
              "      <th></th>\n",
              "      <th></th>\n",
              "      <th></th>\n",
              "      <th></th>\n",
              "      <th></th>\n",
              "    </tr>\n",
              "  </thead>\n",
              "  <tbody>\n",
              "    <tr>\n",
              "      <th>31020</th>\n",
              "      <td>Norasco: Cinema Point Card-hen</td>\n",
              "      <td>Movie</td>\n",
              "      <td>Original</td>\n",
              "      <td>10</td>\n",
              "      <td>1.0</td>\n",
              "      <td>6.25</td>\n",
              "      <td>Kachidoki Studio</td>\n",
              "      <td>Comedy, Slice of Life</td>\n",
              "      <td>2014-04-25</td>\n",
              "      <td>2018-03-11</td>\n",
              "      <td>2010s</td>\n",
              "      <td>Spring</td>\n",
              "      <td>1416.0</td>\n",
              "    </tr>\n",
              "    <tr>\n",
              "      <th>2733</th>\n",
              "      <td>MiniPato</td>\n",
              "      <td>Movie</td>\n",
              "      <td>Original</td>\n",
              "      <td>3</td>\n",
              "      <td>10.0</td>\n",
              "      <td>6.59</td>\n",
              "      <td>Production I.G</td>\n",
              "      <td>Parody</td>\n",
              "      <td>2002-03-30</td>\n",
              "      <td>2002-04-13</td>\n",
              "      <td>2000s</td>\n",
              "      <td>Winter-Spring</td>\n",
              "      <td>14.0</td>\n",
              "    </tr>\n",
              "    <tr>\n",
              "      <th>2611</th>\n",
              "      <td>Panda Kopanda</td>\n",
              "      <td>Movie</td>\n",
              "      <td>Original</td>\n",
              "      <td>2</td>\n",
              "      <td>36.0</td>\n",
              "      <td>6.87</td>\n",
              "      <td>Tokyo Movie Shinsha</td>\n",
              "      <td>Comedy, Kids</td>\n",
              "      <td>1972-12-17</td>\n",
              "      <td>1973-03-17</td>\n",
              "      <td>1970s</td>\n",
              "      <td>Fall</td>\n",
              "      <td>90.0</td>\n",
              "    </tr>\n",
              "    <tr>\n",
              "      <th>18755</th>\n",
              "      <td>Donyatsu</td>\n",
              "      <td>Movie</td>\n",
              "      <td>Manga</td>\n",
              "      <td>12</td>\n",
              "      <td>2.0</td>\n",
              "      <td>6.18</td>\n",
              "      <td>Gathering</td>\n",
              "      <td>Comedy, Sci-Fi, Seinen</td>\n",
              "      <td>2013-06-01</td>\n",
              "      <td>2013-12-20</td>\n",
              "      <td>2010s</td>\n",
              "      <td>Spring</td>\n",
              "      <td>202.0</td>\n",
              "    </tr>\n",
              "    <tr>\n",
              "      <th>30617</th>\n",
              "      <td>Animegatari</td>\n",
              "      <td>Movie</td>\n",
              "      <td>Original</td>\n",
              "      <td>8</td>\n",
              "      <td>1.0</td>\n",
              "      <td>6.02</td>\n",
              "      <td>W-Toon Studio</td>\n",
              "      <td>Comedy</td>\n",
              "      <td>2015-04-17</td>\n",
              "      <td>2016-03-05</td>\n",
              "      <td>2010s</td>\n",
              "      <td>Spring</td>\n",
              "      <td>323.0</td>\n",
              "    </tr>\n",
              "  </tbody>\n",
              "</table>\n",
              "</div>\n",
              "    <div class=\"colab-df-buttons\">\n",
              "\n",
              "  <div class=\"colab-df-container\">\n",
              "    <button class=\"colab-df-convert\" onclick=\"convertToInteractive('df-b4af4eca-0de6-4be0-bf45-547093aca3f9')\"\n",
              "            title=\"Convert this dataframe to an interactive table.\"\n",
              "            style=\"display:none;\">\n",
              "\n",
              "  <svg xmlns=\"http://www.w3.org/2000/svg\" height=\"24px\" viewBox=\"0 -960 960 960\">\n",
              "    <path d=\"M120-120v-720h720v720H120Zm60-500h600v-160H180v160Zm220 220h160v-160H400v160Zm0 220h160v-160H400v160ZM180-400h160v-160H180v160Zm440 0h160v-160H620v160ZM180-180h160v-160H180v160Zm440 0h160v-160H620v160Z\"/>\n",
              "  </svg>\n",
              "    </button>\n",
              "\n",
              "  <style>\n",
              "    .colab-df-container {\n",
              "      display:flex;\n",
              "      gap: 12px;\n",
              "    }\n",
              "\n",
              "    .colab-df-convert {\n",
              "      background-color: #E8F0FE;\n",
              "      border: none;\n",
              "      border-radius: 50%;\n",
              "      cursor: pointer;\n",
              "      display: none;\n",
              "      fill: #1967D2;\n",
              "      height: 32px;\n",
              "      padding: 0 0 0 0;\n",
              "      width: 32px;\n",
              "    }\n",
              "\n",
              "    .colab-df-convert:hover {\n",
              "      background-color: #E2EBFA;\n",
              "      box-shadow: 0px 1px 2px rgba(60, 64, 67, 0.3), 0px 1px 3px 1px rgba(60, 64, 67, 0.15);\n",
              "      fill: #174EA6;\n",
              "    }\n",
              "\n",
              "    .colab-df-buttons div {\n",
              "      margin-bottom: 4px;\n",
              "    }\n",
              "\n",
              "    [theme=dark] .colab-df-convert {\n",
              "      background-color: #3B4455;\n",
              "      fill: #D2E3FC;\n",
              "    }\n",
              "\n",
              "    [theme=dark] .colab-df-convert:hover {\n",
              "      background-color: #434B5C;\n",
              "      box-shadow: 0px 1px 3px 1px rgba(0, 0, 0, 0.15);\n",
              "      filter: drop-shadow(0px 1px 2px rgba(0, 0, 0, 0.3));\n",
              "      fill: #FFFFFF;\n",
              "    }\n",
              "  </style>\n",
              "\n",
              "    <script>\n",
              "      const buttonEl =\n",
              "        document.querySelector('#df-b4af4eca-0de6-4be0-bf45-547093aca3f9 button.colab-df-convert');\n",
              "      buttonEl.style.display =\n",
              "        google.colab.kernel.accessAllowed ? 'block' : 'none';\n",
              "\n",
              "      async function convertToInteractive(key) {\n",
              "        const element = document.querySelector('#df-b4af4eca-0de6-4be0-bf45-547093aca3f9');\n",
              "        const dataTable =\n",
              "          await google.colab.kernel.invokeFunction('convertToInteractive',\n",
              "                                                    [key], {});\n",
              "        if (!dataTable) return;\n",
              "\n",
              "        const docLinkHtml = 'Like what you see? Visit the ' +\n",
              "          '<a target=\"_blank\" href=https://colab.research.google.com/notebooks/data_table.ipynb>data table notebook</a>'\n",
              "          + ' to learn more about interactive tables.';\n",
              "        element.innerHTML = '';\n",
              "        dataTable['output_type'] = 'display_data';\n",
              "        await google.colab.output.renderOutput(dataTable, element);\n",
              "        const docLink = document.createElement('div');\n",
              "        docLink.innerHTML = docLinkHtml;\n",
              "        element.appendChild(docLink);\n",
              "      }\n",
              "    </script>\n",
              "  </div>\n",
              "\n",
              "\n",
              "<div id=\"df-cd4eaf05-df1a-4438-816b-c97dae2b8ed2\">\n",
              "  <button class=\"colab-df-quickchart\" onclick=\"quickchart('df-cd4eaf05-df1a-4438-816b-c97dae2b8ed2')\"\n",
              "            title=\"Suggest charts.\"\n",
              "            style=\"display:none;\">\n",
              "\n",
              "<svg xmlns=\"http://www.w3.org/2000/svg\" height=\"24px\"viewBox=\"0 0 24 24\"\n",
              "     width=\"24px\">\n",
              "    <g>\n",
              "        <path d=\"M19 3H5c-1.1 0-2 .9-2 2v14c0 1.1.9 2 2 2h14c1.1 0 2-.9 2-2V5c0-1.1-.9-2-2-2zM9 17H7v-7h2v7zm4 0h-2V7h2v10zm4 0h-2v-4h2v4z\"/>\n",
              "    </g>\n",
              "</svg>\n",
              "  </button>\n",
              "\n",
              "<style>\n",
              "  .colab-df-quickchart {\n",
              "    background-color: #E8F0FE;\n",
              "    border: none;\n",
              "    border-radius: 50%;\n",
              "    cursor: pointer;\n",
              "    display: none;\n",
              "    fill: #1967D2;\n",
              "    height: 32px;\n",
              "    padding: 0 0 0 0;\n",
              "    width: 32px;\n",
              "  }\n",
              "\n",
              "  .colab-df-quickchart:hover {\n",
              "    background-color: #E2EBFA;\n",
              "    box-shadow: 0px 1px 2px rgba(60, 64, 67, 0.3), 0px 1px 3px 1px rgba(60, 64, 67, 0.15);\n",
              "    fill: #174EA6;\n",
              "  }\n",
              "\n",
              "  [theme=dark] .colab-df-quickchart {\n",
              "    background-color: #3B4455;\n",
              "    fill: #D2E3FC;\n",
              "  }\n",
              "\n",
              "  [theme=dark] .colab-df-quickchart:hover {\n",
              "    background-color: #434B5C;\n",
              "    box-shadow: 0px 1px 3px 1px rgba(0, 0, 0, 0.15);\n",
              "    filter: drop-shadow(0px 1px 2px rgba(0, 0, 0, 0.3));\n",
              "    fill: #FFFFFF;\n",
              "  }\n",
              "</style>\n",
              "\n",
              "  <script>\n",
              "    async function quickchart(key) {\n",
              "      const charts = await google.colab.kernel.invokeFunction(\n",
              "          'suggestCharts', [key], {});\n",
              "    }\n",
              "    (() => {\n",
              "      let quickchartButtonEl =\n",
              "        document.querySelector('#df-cd4eaf05-df1a-4438-816b-c97dae2b8ed2 button');\n",
              "      quickchartButtonEl.style.display =\n",
              "        google.colab.kernel.accessAllowed ? 'block' : 'none';\n",
              "    })();\n",
              "  </script>\n",
              "</div>\n",
              "    </div>\n",
              "  </div>\n"
            ]
          },
          "metadata": {},
          "execution_count": 53
        }
      ]
    },
    {
      "cell_type": "code",
      "source": [
        "print('11.',AnimeTV.aired_duration.max())"
      ],
      "metadata": {
        "colab": {
          "base_uri": "https://localhost:8080/"
        },
        "id": "B8BFAj9UNHY1",
        "outputId": "458d2a68-ce28-4a0e-d68e-aed8027059ff"
      },
      "execution_count": 50,
      "outputs": [
        {
          "output_type": "stream",
          "name": "stdout",
          "text": [
            "11. 1416.0\n"
          ]
        }
      ]
    },
    {
      "cell_type": "code",
      "source": [
        "print('12.',AnimeTV.score.corr(AnimeTV.aired_duration))"
      ],
      "metadata": {
        "colab": {
          "base_uri": "https://localhost:8080/"
        },
        "id": "Ryhe4x_sNHfl",
        "outputId": "5e50c62d-0db6-47cf-8dd0-3585e6b1ad2d"
      },
      "execution_count": 51,
      "outputs": [
        {
          "output_type": "stream",
          "name": "stdout",
          "text": [
            "12. -0.049872256815844965\n"
          ]
        }
      ]
    },
    {
      "cell_type": "markdown",
      "metadata": {
        "id": "RK6436Bfaior"
      },
      "source": [
        "**Câu 11**: Thực hiện các yêu cầu sau:\n",
        "1. Lấy ra những anime có `type` là 'Movie' và đặt tên là `movie`.\n",
        "2. Xóa các cột `type`, `episodes`, `duration_min`, `start` và `finish` khỏi `movie`."
      ]
    },
    {
      "cell_type": "code",
      "metadata": {
        "id": "K4qHQLNSa5pX",
        "colab": {
          "base_uri": "https://localhost:8080/",
          "height": 613
        },
        "outputId": "251d3fd9-99d5-4adc-9fc7-6d9a49a5a500"
      },
      "source": [
        "Movie = anime_data[anime_data['type'] == 'Movie']\n",
        "Movie = Movie.drop(['type','episodes','duration_min','start','finish'],1)\n",
        "Movie"
      ],
      "execution_count": 63,
      "outputs": [
        {
          "output_type": "stream",
          "name": "stderr",
          "text": [
            "<ipython-input-63-be1bc97a1853>:2: FutureWarning: In a future version of pandas all arguments of DataFrame.drop except for the argument 'labels' will be keyword-only.\n",
            "  Movie = Movie.drop(['type','episodes','duration_min','start','finish'],1)\n"
          ]
        },
        {
          "output_type": "execute_result",
          "data": {
            "text/plain": [
              "                                                      title        source  \\\n",
              "anime_id                                                                    \n",
              "14353                                       Death Billiards      Original   \n",
              "11009     Pokemon 3D Adventure 2: Pikachu no Kaitei Daib...          Game   \n",
              "15813                        Majokko Shimai no Yoyo to Nene         Manga   \n",
              "2199                                         Chirin no Suzu  Picture book   \n",
              "15771                                 Saint☆Oniisan (Movie)         Manga   \n",
              "...                                                     ...           ...   \n",
              "32153             Mahou Shoujo Madoka★Magica: Concept Movie      Original   \n",
              "23003                  Tanoshii Bunmeishi: Tetsu Monogatari      Original   \n",
              "37860       Free!: Take Your Marks: Character Butai Aisatsu      Original   \n",
              "37859     Free! Movie 2: Timeless Medley - Yakusoku: Cha...      Original   \n",
              "37858     Free! Movie 1: Timeless Medley - Kizuna: Chara...      Original   \n",
              "\n",
              "          score           studio  \\\n",
              "anime_id                           \n",
              "14353      8.01         Madhouse   \n",
              "11009      7.13              OLM   \n",
              "15813      7.57         ufotable   \n",
              "2199       7.17           Sanrio   \n",
              "15771      7.94     A-1 Pictures   \n",
              "...         ...              ...   \n",
              "32153      7.14            Shaft   \n",
              "23003      5.71   Toei Animation   \n",
              "37860      0.00  Kyoto Animation   \n",
              "37859      0.00  Kyoto Animation   \n",
              "37858      0.00  Kyoto Animation   \n",
              "\n",
              "                                                  genre decade         season  \n",
              "anime_id                                                                       \n",
              "14353     Game, Mystery, Psychological, Drama, Thriller  2010s  Winter-Spring  \n",
              "11009                  Adventure, Comedy, Fantasy, Kids  2000s         Spring  \n",
              "15813                                    Fantasy, Magic  2010s           Fall  \n",
              "2199                          Adventure, Drama, Fantasy  1970s  Winter-Spring  \n",
              "15771                     Comedy, Seinen, Slice of Life  2010s         Spring  \n",
              "...                                                 ...    ...            ...  \n",
              "32153             Drama, Magic, Psychological, Thriller  2010s           Fall  \n",
              "23003                         Historical, Slice of Life  1960s         Spring  \n",
              "37860                                            Comedy  2010s           Fall  \n",
              "37859                                            Comedy  2010s         Summer  \n",
              "37858                                            Comedy  2010s         Spring  \n",
              "\n",
              "[859 rows x 7 columns]"
            ],
            "text/html": [
              "\n",
              "  <div id=\"df-87a75606-8594-4b30-aade-be1f7aef3cb8\" class=\"colab-df-container\">\n",
              "    <div>\n",
              "<style scoped>\n",
              "    .dataframe tbody tr th:only-of-type {\n",
              "        vertical-align: middle;\n",
              "    }\n",
              "\n",
              "    .dataframe tbody tr th {\n",
              "        vertical-align: top;\n",
              "    }\n",
              "\n",
              "    .dataframe thead th {\n",
              "        text-align: right;\n",
              "    }\n",
              "</style>\n",
              "<table border=\"1\" class=\"dataframe\">\n",
              "  <thead>\n",
              "    <tr style=\"text-align: right;\">\n",
              "      <th></th>\n",
              "      <th>title</th>\n",
              "      <th>source</th>\n",
              "      <th>score</th>\n",
              "      <th>studio</th>\n",
              "      <th>genre</th>\n",
              "      <th>decade</th>\n",
              "      <th>season</th>\n",
              "    </tr>\n",
              "    <tr>\n",
              "      <th>anime_id</th>\n",
              "      <th></th>\n",
              "      <th></th>\n",
              "      <th></th>\n",
              "      <th></th>\n",
              "      <th></th>\n",
              "      <th></th>\n",
              "      <th></th>\n",
              "    </tr>\n",
              "  </thead>\n",
              "  <tbody>\n",
              "    <tr>\n",
              "      <th>14353</th>\n",
              "      <td>Death Billiards</td>\n",
              "      <td>Original</td>\n",
              "      <td>8.01</td>\n",
              "      <td>Madhouse</td>\n",
              "      <td>Game, Mystery, Psychological, Drama, Thriller</td>\n",
              "      <td>2010s</td>\n",
              "      <td>Winter-Spring</td>\n",
              "    </tr>\n",
              "    <tr>\n",
              "      <th>11009</th>\n",
              "      <td>Pokemon 3D Adventure 2: Pikachu no Kaitei Daib...</td>\n",
              "      <td>Game</td>\n",
              "      <td>7.13</td>\n",
              "      <td>OLM</td>\n",
              "      <td>Adventure, Comedy, Fantasy, Kids</td>\n",
              "      <td>2000s</td>\n",
              "      <td>Spring</td>\n",
              "    </tr>\n",
              "    <tr>\n",
              "      <th>15813</th>\n",
              "      <td>Majokko Shimai no Yoyo to Nene</td>\n",
              "      <td>Manga</td>\n",
              "      <td>7.57</td>\n",
              "      <td>ufotable</td>\n",
              "      <td>Fantasy, Magic</td>\n",
              "      <td>2010s</td>\n",
              "      <td>Fall</td>\n",
              "    </tr>\n",
              "    <tr>\n",
              "      <th>2199</th>\n",
              "      <td>Chirin no Suzu</td>\n",
              "      <td>Picture book</td>\n",
              "      <td>7.17</td>\n",
              "      <td>Sanrio</td>\n",
              "      <td>Adventure, Drama, Fantasy</td>\n",
              "      <td>1970s</td>\n",
              "      <td>Winter-Spring</td>\n",
              "    </tr>\n",
              "    <tr>\n",
              "      <th>15771</th>\n",
              "      <td>Saint☆Oniisan (Movie)</td>\n",
              "      <td>Manga</td>\n",
              "      <td>7.94</td>\n",
              "      <td>A-1 Pictures</td>\n",
              "      <td>Comedy, Seinen, Slice of Life</td>\n",
              "      <td>2010s</td>\n",
              "      <td>Spring</td>\n",
              "    </tr>\n",
              "    <tr>\n",
              "      <th>...</th>\n",
              "      <td>...</td>\n",
              "      <td>...</td>\n",
              "      <td>...</td>\n",
              "      <td>...</td>\n",
              "      <td>...</td>\n",
              "      <td>...</td>\n",
              "      <td>...</td>\n",
              "    </tr>\n",
              "    <tr>\n",
              "      <th>32153</th>\n",
              "      <td>Mahou Shoujo Madoka★Magica: Concept Movie</td>\n",
              "      <td>Original</td>\n",
              "      <td>7.14</td>\n",
              "      <td>Shaft</td>\n",
              "      <td>Drama, Magic, Psychological, Thriller</td>\n",
              "      <td>2010s</td>\n",
              "      <td>Fall</td>\n",
              "    </tr>\n",
              "    <tr>\n",
              "      <th>23003</th>\n",
              "      <td>Tanoshii Bunmeishi: Tetsu Monogatari</td>\n",
              "      <td>Original</td>\n",
              "      <td>5.71</td>\n",
              "      <td>Toei Animation</td>\n",
              "      <td>Historical, Slice of Life</td>\n",
              "      <td>1960s</td>\n",
              "      <td>Spring</td>\n",
              "    </tr>\n",
              "    <tr>\n",
              "      <th>37860</th>\n",
              "      <td>Free!: Take Your Marks: Character Butai Aisatsu</td>\n",
              "      <td>Original</td>\n",
              "      <td>0.00</td>\n",
              "      <td>Kyoto Animation</td>\n",
              "      <td>Comedy</td>\n",
              "      <td>2010s</td>\n",
              "      <td>Fall</td>\n",
              "    </tr>\n",
              "    <tr>\n",
              "      <th>37859</th>\n",
              "      <td>Free! Movie 2: Timeless Medley - Yakusoku: Cha...</td>\n",
              "      <td>Original</td>\n",
              "      <td>0.00</td>\n",
              "      <td>Kyoto Animation</td>\n",
              "      <td>Comedy</td>\n",
              "      <td>2010s</td>\n",
              "      <td>Summer</td>\n",
              "    </tr>\n",
              "    <tr>\n",
              "      <th>37858</th>\n",
              "      <td>Free! Movie 1: Timeless Medley - Kizuna: Chara...</td>\n",
              "      <td>Original</td>\n",
              "      <td>0.00</td>\n",
              "      <td>Kyoto Animation</td>\n",
              "      <td>Comedy</td>\n",
              "      <td>2010s</td>\n",
              "      <td>Spring</td>\n",
              "    </tr>\n",
              "  </tbody>\n",
              "</table>\n",
              "<p>859 rows × 7 columns</p>\n",
              "</div>\n",
              "    <div class=\"colab-df-buttons\">\n",
              "\n",
              "  <div class=\"colab-df-container\">\n",
              "    <button class=\"colab-df-convert\" onclick=\"convertToInteractive('df-87a75606-8594-4b30-aade-be1f7aef3cb8')\"\n",
              "            title=\"Convert this dataframe to an interactive table.\"\n",
              "            style=\"display:none;\">\n",
              "\n",
              "  <svg xmlns=\"http://www.w3.org/2000/svg\" height=\"24px\" viewBox=\"0 -960 960 960\">\n",
              "    <path d=\"M120-120v-720h720v720H120Zm60-500h600v-160H180v160Zm220 220h160v-160H400v160Zm0 220h160v-160H400v160ZM180-400h160v-160H180v160Zm440 0h160v-160H620v160ZM180-180h160v-160H180v160Zm440 0h160v-160H620v160Z\"/>\n",
              "  </svg>\n",
              "    </button>\n",
              "\n",
              "  <style>\n",
              "    .colab-df-container {\n",
              "      display:flex;\n",
              "      gap: 12px;\n",
              "    }\n",
              "\n",
              "    .colab-df-convert {\n",
              "      background-color: #E8F0FE;\n",
              "      border: none;\n",
              "      border-radius: 50%;\n",
              "      cursor: pointer;\n",
              "      display: none;\n",
              "      fill: #1967D2;\n",
              "      height: 32px;\n",
              "      padding: 0 0 0 0;\n",
              "      width: 32px;\n",
              "    }\n",
              "\n",
              "    .colab-df-convert:hover {\n",
              "      background-color: #E2EBFA;\n",
              "      box-shadow: 0px 1px 2px rgba(60, 64, 67, 0.3), 0px 1px 3px 1px rgba(60, 64, 67, 0.15);\n",
              "      fill: #174EA6;\n",
              "    }\n",
              "\n",
              "    .colab-df-buttons div {\n",
              "      margin-bottom: 4px;\n",
              "    }\n",
              "\n",
              "    [theme=dark] .colab-df-convert {\n",
              "      background-color: #3B4455;\n",
              "      fill: #D2E3FC;\n",
              "    }\n",
              "\n",
              "    [theme=dark] .colab-df-convert:hover {\n",
              "      background-color: #434B5C;\n",
              "      box-shadow: 0px 1px 3px 1px rgba(0, 0, 0, 0.15);\n",
              "      filter: drop-shadow(0px 1px 2px rgba(0, 0, 0, 0.3));\n",
              "      fill: #FFFFFF;\n",
              "    }\n",
              "  </style>\n",
              "\n",
              "    <script>\n",
              "      const buttonEl =\n",
              "        document.querySelector('#df-87a75606-8594-4b30-aade-be1f7aef3cb8 button.colab-df-convert');\n",
              "      buttonEl.style.display =\n",
              "        google.colab.kernel.accessAllowed ? 'block' : 'none';\n",
              "\n",
              "      async function convertToInteractive(key) {\n",
              "        const element = document.querySelector('#df-87a75606-8594-4b30-aade-be1f7aef3cb8');\n",
              "        const dataTable =\n",
              "          await google.colab.kernel.invokeFunction('convertToInteractive',\n",
              "                                                    [key], {});\n",
              "        if (!dataTable) return;\n",
              "\n",
              "        const docLinkHtml = 'Like what you see? Visit the ' +\n",
              "          '<a target=\"_blank\" href=https://colab.research.google.com/notebooks/data_table.ipynb>data table notebook</a>'\n",
              "          + ' to learn more about interactive tables.';\n",
              "        element.innerHTML = '';\n",
              "        dataTable['output_type'] = 'display_data';\n",
              "        await google.colab.output.renderOutput(dataTable, element);\n",
              "        const docLink = document.createElement('div');\n",
              "        docLink.innerHTML = docLinkHtml;\n",
              "        element.appendChild(docLink);\n",
              "      }\n",
              "    </script>\n",
              "  </div>\n",
              "\n",
              "\n",
              "<div id=\"df-5a7906cb-5203-4026-903c-a6bd0e7936b3\">\n",
              "  <button class=\"colab-df-quickchart\" onclick=\"quickchart('df-5a7906cb-5203-4026-903c-a6bd0e7936b3')\"\n",
              "            title=\"Suggest charts.\"\n",
              "            style=\"display:none;\">\n",
              "\n",
              "<svg xmlns=\"http://www.w3.org/2000/svg\" height=\"24px\"viewBox=\"0 0 24 24\"\n",
              "     width=\"24px\">\n",
              "    <g>\n",
              "        <path d=\"M19 3H5c-1.1 0-2 .9-2 2v14c0 1.1.9 2 2 2h14c1.1 0 2-.9 2-2V5c0-1.1-.9-2-2-2zM9 17H7v-7h2v7zm4 0h-2V7h2v10zm4 0h-2v-4h2v4z\"/>\n",
              "    </g>\n",
              "</svg>\n",
              "  </button>\n",
              "\n",
              "<style>\n",
              "  .colab-df-quickchart {\n",
              "    background-color: #E8F0FE;\n",
              "    border: none;\n",
              "    border-radius: 50%;\n",
              "    cursor: pointer;\n",
              "    display: none;\n",
              "    fill: #1967D2;\n",
              "    height: 32px;\n",
              "    padding: 0 0 0 0;\n",
              "    width: 32px;\n",
              "  }\n",
              "\n",
              "  .colab-df-quickchart:hover {\n",
              "    background-color: #E2EBFA;\n",
              "    box-shadow: 0px 1px 2px rgba(60, 64, 67, 0.3), 0px 1px 3px 1px rgba(60, 64, 67, 0.15);\n",
              "    fill: #174EA6;\n",
              "  }\n",
              "\n",
              "  [theme=dark] .colab-df-quickchart {\n",
              "    background-color: #3B4455;\n",
              "    fill: #D2E3FC;\n",
              "  }\n",
              "\n",
              "  [theme=dark] .colab-df-quickchart:hover {\n",
              "    background-color: #434B5C;\n",
              "    box-shadow: 0px 1px 3px 1px rgba(0, 0, 0, 0.15);\n",
              "    filter: drop-shadow(0px 1px 2px rgba(0, 0, 0, 0.3));\n",
              "    fill: #FFFFFF;\n",
              "  }\n",
              "</style>\n",
              "\n",
              "  <script>\n",
              "    async function quickchart(key) {\n",
              "      const charts = await google.colab.kernel.invokeFunction(\n",
              "          'suggestCharts', [key], {});\n",
              "    }\n",
              "    (() => {\n",
              "      let quickchartButtonEl =\n",
              "        document.querySelector('#df-5a7906cb-5203-4026-903c-a6bd0e7936b3 button');\n",
              "      quickchartButtonEl.style.display =\n",
              "        google.colab.kernel.accessAllowed ? 'block' : 'none';\n",
              "    })();\n",
              "  </script>\n",
              "</div>\n",
              "    </div>\n",
              "  </div>\n"
            ]
          },
          "metadata": {},
          "execution_count": 63
        }
      ]
    },
    {
      "cell_type": "markdown",
      "metadata": {
        "id": "PasDsfVKbfrs"
      },
      "source": [
        "Như có thể thấy, `genre` của những anime là một danh sách nhiều thể loại khác nhau. Điều này gây khó khăn cho việc tổng hợp thông tin theo từng `genre`. Vì vậy, phải phân rã cột `genre` sao cho mỗi dòng chỉ chứa 1 `genre` như minh họa:\n",
        "![Explode](https://www.w3resource.com/w3r_images/pandas-dataframe-explode-1.png)"
      ]
    },
    {
      "cell_type": "code",
      "metadata": {
        "id": "qZm11B8OcWUi",
        "colab": {
          "base_uri": "https://localhost:8080/",
          "height": 237
        },
        "outputId": "0e166cc7-2400-492f-ad51-1a6f61af1709"
      },
      "source": [
        "# thực hiện đoạn code sau đây để phân rã cột `genre`\n",
        "# chuyển đổi cột `genre` từ str sang list\n",
        "Movie = Movie.assign(genre = Movie.genre.str.split(', '))\n",
        "# phân rã cột genre\n",
        "Movie = Movie.explode('genre')\n",
        "Movie.head()"
      ],
      "execution_count": 66,
      "outputs": [
        {
          "output_type": "execute_result",
          "data": {
            "text/plain": [
              "                    title    source  score    studio          genre decade  \\\n",
              "anime_id                                                                     \n",
              "14353     Death Billiards  Original   8.01  Madhouse           Game  2010s   \n",
              "14353     Death Billiards  Original   8.01  Madhouse        Mystery  2010s   \n",
              "14353     Death Billiards  Original   8.01  Madhouse  Psychological  2010s   \n",
              "14353     Death Billiards  Original   8.01  Madhouse          Drama  2010s   \n",
              "14353     Death Billiards  Original   8.01  Madhouse       Thriller  2010s   \n",
              "\n",
              "                 season  \n",
              "anime_id                 \n",
              "14353     Winter-Spring  \n",
              "14353     Winter-Spring  \n",
              "14353     Winter-Spring  \n",
              "14353     Winter-Spring  \n",
              "14353     Winter-Spring  "
            ],
            "text/html": [
              "\n",
              "  <div id=\"df-bc7f8af7-ecc0-4e8b-9760-33670e795e94\" class=\"colab-df-container\">\n",
              "    <div>\n",
              "<style scoped>\n",
              "    .dataframe tbody tr th:only-of-type {\n",
              "        vertical-align: middle;\n",
              "    }\n",
              "\n",
              "    .dataframe tbody tr th {\n",
              "        vertical-align: top;\n",
              "    }\n",
              "\n",
              "    .dataframe thead th {\n",
              "        text-align: right;\n",
              "    }\n",
              "</style>\n",
              "<table border=\"1\" class=\"dataframe\">\n",
              "  <thead>\n",
              "    <tr style=\"text-align: right;\">\n",
              "      <th></th>\n",
              "      <th>title</th>\n",
              "      <th>source</th>\n",
              "      <th>score</th>\n",
              "      <th>studio</th>\n",
              "      <th>genre</th>\n",
              "      <th>decade</th>\n",
              "      <th>season</th>\n",
              "    </tr>\n",
              "    <tr>\n",
              "      <th>anime_id</th>\n",
              "      <th></th>\n",
              "      <th></th>\n",
              "      <th></th>\n",
              "      <th></th>\n",
              "      <th></th>\n",
              "      <th></th>\n",
              "      <th></th>\n",
              "    </tr>\n",
              "  </thead>\n",
              "  <tbody>\n",
              "    <tr>\n",
              "      <th>14353</th>\n",
              "      <td>Death Billiards</td>\n",
              "      <td>Original</td>\n",
              "      <td>8.01</td>\n",
              "      <td>Madhouse</td>\n",
              "      <td>Game</td>\n",
              "      <td>2010s</td>\n",
              "      <td>Winter-Spring</td>\n",
              "    </tr>\n",
              "    <tr>\n",
              "      <th>14353</th>\n",
              "      <td>Death Billiards</td>\n",
              "      <td>Original</td>\n",
              "      <td>8.01</td>\n",
              "      <td>Madhouse</td>\n",
              "      <td>Mystery</td>\n",
              "      <td>2010s</td>\n",
              "      <td>Winter-Spring</td>\n",
              "    </tr>\n",
              "    <tr>\n",
              "      <th>14353</th>\n",
              "      <td>Death Billiards</td>\n",
              "      <td>Original</td>\n",
              "      <td>8.01</td>\n",
              "      <td>Madhouse</td>\n",
              "      <td>Psychological</td>\n",
              "      <td>2010s</td>\n",
              "      <td>Winter-Spring</td>\n",
              "    </tr>\n",
              "    <tr>\n",
              "      <th>14353</th>\n",
              "      <td>Death Billiards</td>\n",
              "      <td>Original</td>\n",
              "      <td>8.01</td>\n",
              "      <td>Madhouse</td>\n",
              "      <td>Drama</td>\n",
              "      <td>2010s</td>\n",
              "      <td>Winter-Spring</td>\n",
              "    </tr>\n",
              "    <tr>\n",
              "      <th>14353</th>\n",
              "      <td>Death Billiards</td>\n",
              "      <td>Original</td>\n",
              "      <td>8.01</td>\n",
              "      <td>Madhouse</td>\n",
              "      <td>Thriller</td>\n",
              "      <td>2010s</td>\n",
              "      <td>Winter-Spring</td>\n",
              "    </tr>\n",
              "  </tbody>\n",
              "</table>\n",
              "</div>\n",
              "    <div class=\"colab-df-buttons\">\n",
              "\n",
              "  <div class=\"colab-df-container\">\n",
              "    <button class=\"colab-df-convert\" onclick=\"convertToInteractive('df-bc7f8af7-ecc0-4e8b-9760-33670e795e94')\"\n",
              "            title=\"Convert this dataframe to an interactive table.\"\n",
              "            style=\"display:none;\">\n",
              "\n",
              "  <svg xmlns=\"http://www.w3.org/2000/svg\" height=\"24px\" viewBox=\"0 -960 960 960\">\n",
              "    <path d=\"M120-120v-720h720v720H120Zm60-500h600v-160H180v160Zm220 220h160v-160H400v160Zm0 220h160v-160H400v160ZM180-400h160v-160H180v160Zm440 0h160v-160H620v160ZM180-180h160v-160H180v160Zm440 0h160v-160H620v160Z\"/>\n",
              "  </svg>\n",
              "    </button>\n",
              "\n",
              "  <style>\n",
              "    .colab-df-container {\n",
              "      display:flex;\n",
              "      gap: 12px;\n",
              "    }\n",
              "\n",
              "    .colab-df-convert {\n",
              "      background-color: #E8F0FE;\n",
              "      border: none;\n",
              "      border-radius: 50%;\n",
              "      cursor: pointer;\n",
              "      display: none;\n",
              "      fill: #1967D2;\n",
              "      height: 32px;\n",
              "      padding: 0 0 0 0;\n",
              "      width: 32px;\n",
              "    }\n",
              "\n",
              "    .colab-df-convert:hover {\n",
              "      background-color: #E2EBFA;\n",
              "      box-shadow: 0px 1px 2px rgba(60, 64, 67, 0.3), 0px 1px 3px 1px rgba(60, 64, 67, 0.15);\n",
              "      fill: #174EA6;\n",
              "    }\n",
              "\n",
              "    .colab-df-buttons div {\n",
              "      margin-bottom: 4px;\n",
              "    }\n",
              "\n",
              "    [theme=dark] .colab-df-convert {\n",
              "      background-color: #3B4455;\n",
              "      fill: #D2E3FC;\n",
              "    }\n",
              "\n",
              "    [theme=dark] .colab-df-convert:hover {\n",
              "      background-color: #434B5C;\n",
              "      box-shadow: 0px 1px 3px 1px rgba(0, 0, 0, 0.15);\n",
              "      filter: drop-shadow(0px 1px 2px rgba(0, 0, 0, 0.3));\n",
              "      fill: #FFFFFF;\n",
              "    }\n",
              "  </style>\n",
              "\n",
              "    <script>\n",
              "      const buttonEl =\n",
              "        document.querySelector('#df-bc7f8af7-ecc0-4e8b-9760-33670e795e94 button.colab-df-convert');\n",
              "      buttonEl.style.display =\n",
              "        google.colab.kernel.accessAllowed ? 'block' : 'none';\n",
              "\n",
              "      async function convertToInteractive(key) {\n",
              "        const element = document.querySelector('#df-bc7f8af7-ecc0-4e8b-9760-33670e795e94');\n",
              "        const dataTable =\n",
              "          await google.colab.kernel.invokeFunction('convertToInteractive',\n",
              "                                                    [key], {});\n",
              "        if (!dataTable) return;\n",
              "\n",
              "        const docLinkHtml = 'Like what you see? Visit the ' +\n",
              "          '<a target=\"_blank\" href=https://colab.research.google.com/notebooks/data_table.ipynb>data table notebook</a>'\n",
              "          + ' to learn more about interactive tables.';\n",
              "        element.innerHTML = '';\n",
              "        dataTable['output_type'] = 'display_data';\n",
              "        await google.colab.output.renderOutput(dataTable, element);\n",
              "        const docLink = document.createElement('div');\n",
              "        docLink.innerHTML = docLinkHtml;\n",
              "        element.appendChild(docLink);\n",
              "      }\n",
              "    </script>\n",
              "  </div>\n",
              "\n",
              "\n",
              "<div id=\"df-772fae77-417c-4702-9931-e76f0d207285\">\n",
              "  <button class=\"colab-df-quickchart\" onclick=\"quickchart('df-772fae77-417c-4702-9931-e76f0d207285')\"\n",
              "            title=\"Suggest charts.\"\n",
              "            style=\"display:none;\">\n",
              "\n",
              "<svg xmlns=\"http://www.w3.org/2000/svg\" height=\"24px\"viewBox=\"0 0 24 24\"\n",
              "     width=\"24px\">\n",
              "    <g>\n",
              "        <path d=\"M19 3H5c-1.1 0-2 .9-2 2v14c0 1.1.9 2 2 2h14c1.1 0 2-.9 2-2V5c0-1.1-.9-2-2-2zM9 17H7v-7h2v7zm4 0h-2V7h2v10zm4 0h-2v-4h2v4z\"/>\n",
              "    </g>\n",
              "</svg>\n",
              "  </button>\n",
              "\n",
              "<style>\n",
              "  .colab-df-quickchart {\n",
              "    background-color: #E8F0FE;\n",
              "    border: none;\n",
              "    border-radius: 50%;\n",
              "    cursor: pointer;\n",
              "    display: none;\n",
              "    fill: #1967D2;\n",
              "    height: 32px;\n",
              "    padding: 0 0 0 0;\n",
              "    width: 32px;\n",
              "  }\n",
              "\n",
              "  .colab-df-quickchart:hover {\n",
              "    background-color: #E2EBFA;\n",
              "    box-shadow: 0px 1px 2px rgba(60, 64, 67, 0.3), 0px 1px 3px 1px rgba(60, 64, 67, 0.15);\n",
              "    fill: #174EA6;\n",
              "  }\n",
              "\n",
              "  [theme=dark] .colab-df-quickchart {\n",
              "    background-color: #3B4455;\n",
              "    fill: #D2E3FC;\n",
              "  }\n",
              "\n",
              "  [theme=dark] .colab-df-quickchart:hover {\n",
              "    background-color: #434B5C;\n",
              "    box-shadow: 0px 1px 3px 1px rgba(0, 0, 0, 0.15);\n",
              "    filter: drop-shadow(0px 1px 2px rgba(0, 0, 0, 0.3));\n",
              "    fill: #FFFFFF;\n",
              "  }\n",
              "</style>\n",
              "\n",
              "  <script>\n",
              "    async function quickchart(key) {\n",
              "      const charts = await google.colab.kernel.invokeFunction(\n",
              "          'suggestCharts', [key], {});\n",
              "    }\n",
              "    (() => {\n",
              "      let quickchartButtonEl =\n",
              "        document.querySelector('#df-772fae77-417c-4702-9931-e76f0d207285 button');\n",
              "      quickchartButtonEl.style.display =\n",
              "        google.colab.kernel.accessAllowed ? 'block' : 'none';\n",
              "    })();\n",
              "  </script>\n",
              "</div>\n",
              "    </div>\n",
              "  </div>\n"
            ]
          },
          "metadata": {},
          "execution_count": 66
        }
      ]
    },
    {
      "cell_type": "markdown",
      "metadata": {
        "id": "S8qYWGMPdDOw"
      },
      "source": [
        "**Câu 12**: Thực hiện các yêu cầu sau:\n",
        "1. Thống kê số lượng `genre`.\n",
        "2. In ra điểm trung bình và số lượng anime từng `genre`.\n",
        "3. Thống kê điểm trung bình theo `studio` và `genre`.\n"
      ]
    },
    {
      "cell_type": "code",
      "metadata": {
        "id": "8PTiVuH7ekKk",
        "colab": {
          "base_uri": "https://localhost:8080/"
        },
        "outputId": "e9ab877f-137d-4932-bac8-1f8f454f1889"
      },
      "source": [
        "Movie.genre.nunique()"
      ],
      "execution_count": 69,
      "outputs": [
        {
          "output_type": "execute_result",
          "data": {
            "text/plain": [
              "40"
            ]
          },
          "metadata": {},
          "execution_count": 69
        }
      ]
    },
    {
      "cell_type": "code",
      "source": [
        "Movie.groupby('genre')['score'].mean() # Điểm trung bình theo genre"
      ],
      "metadata": {
        "colab": {
          "base_uri": "https://localhost:8080/"
        },
        "id": "kQaTj7GZQGcA",
        "outputId": "ca360404-b5d6-455e-c1d1-ff0ae53cc350"
      },
      "execution_count": 71,
      "outputs": [
        {
          "output_type": "execute_result",
          "data": {
            "text/plain": [
              "genre\n",
              "Action           7.328242\n",
              "Adventure        7.136109\n",
              "Cars             7.664286\n",
              "Comedy           7.104744\n",
              "Dementia         7.181818\n",
              "Demons           7.248571\n",
              "Drama            7.408453\n",
              "Ecchi            7.350000\n",
              "Fantasy          7.185396\n",
              "Game             7.358462\n",
              "Harem            7.072500\n",
              "Historical       7.266301\n",
              "Horror           7.233667\n",
              "Josei            7.910000\n",
              "Kids             6.830612\n",
              "Magic            7.280217\n",
              "Martial Arts     7.125000\n",
              "Mecha            7.356625\n",
              "Military         7.525625\n",
              "Music            7.217429\n",
              "Mystery          7.650959\n",
              "Parody           6.870000\n",
              "Police           7.814615\n",
              "Psychological    7.520638\n",
              "Romance          7.537778\n",
              "Samurai          7.861667\n",
              "School           7.488814\n",
              "Sci-Fi           7.154602\n",
              "Seinen           7.431579\n",
              "Shoujo           7.125893\n",
              "Shoujo Ai        7.600000\n",
              "Shounen          7.308725\n",
              "Shounen Ai       7.623333\n",
              "Slice of Life    7.207564\n",
              "Space            7.203261\n",
              "Sports           7.342045\n",
              "Super Power      7.264091\n",
              "Supernatural     7.579057\n",
              "Thriller         7.649500\n",
              "Vampire          7.795556\n",
              "Name: score, dtype: float64"
            ]
          },
          "metadata": {},
          "execution_count": 71
        }
      ]
    },
    {
      "cell_type": "code",
      "source": [
        "Movie.groupby('genre')['title'].nunique() # số lượng anime theo genre"
      ],
      "metadata": {
        "colab": {
          "base_uri": "https://localhost:8080/"
        },
        "id": "WBu4t9mpQUUr",
        "outputId": "2cc52b04-e845-4bdb-b7a6-74899277c6ac"
      },
      "execution_count": 74,
      "outputs": [
        {
          "output_type": "execute_result",
          "data": {
            "text/plain": [
              "genre\n",
              "Action           330\n",
              "Adventure        311\n",
              "Cars               7\n",
              "Comedy           312\n",
              "Dementia          11\n",
              "Demons            21\n",
              "Drama            265\n",
              "Ecchi             10\n",
              "Fantasy          278\n",
              "Game              13\n",
              "Harem              8\n",
              "Historical        73\n",
              "Horror            30\n",
              "Josei              2\n",
              "Kids              98\n",
              "Magic             92\n",
              "Martial Arts      22\n",
              "Mecha             80\n",
              "Military          64\n",
              "Music             35\n",
              "Mystery           73\n",
              "Parody            11\n",
              "Police            39\n",
              "Psychological     47\n",
              "Romance          108\n",
              "Samurai           12\n",
              "School            59\n",
              "Sci-Fi           226\n",
              "Seinen            57\n",
              "Shoujo            56\n",
              "Shoujo Ai          1\n",
              "Shounen          204\n",
              "Shounen Ai         3\n",
              "Slice of Life     78\n",
              "Space             46\n",
              "Sports            44\n",
              "Super Power       66\n",
              "Supernatural     106\n",
              "Thriller          20\n",
              "Vampire            9\n",
              "Name: title, dtype: int64"
            ]
          },
          "metadata": {},
          "execution_count": 74
        }
      ]
    },
    {
      "cell_type": "code",
      "source": [
        "Movie.groupby(['studio','genre'])['score'].mean()"
      ],
      "metadata": {
        "colab": {
          "base_uri": "https://localhost:8080/"
        },
        "id": "NWbqrcuzQI59",
        "outputId": "21a5d0fb-e28b-466e-9ca1-9fcd8b1b9d36"
      },
      "execution_count": 75,
      "outputs": [
        {
          "output_type": "execute_result",
          "data": {
            "text/plain": [
              "studio    genre        \n",
              "10Gauge   Music            6.550000\n",
              "          School           6.550000\n",
              "          Shoujo           6.550000\n",
              "          Slice of Life    6.550000\n",
              "8bit      Action           7.590000\n",
              "                             ...   \n",
              "ufotable  Romance          8.088000\n",
              "          Seinen           8.090000\n",
              "          Super Power      7.690000\n",
              "          Supernatural     8.135556\n",
              "          Thriller         8.043750\n",
              "Name: score, Length: 1105, dtype: float64"
            ]
          },
          "metadata": {},
          "execution_count": 75
        }
      ]
    }
  ]
}