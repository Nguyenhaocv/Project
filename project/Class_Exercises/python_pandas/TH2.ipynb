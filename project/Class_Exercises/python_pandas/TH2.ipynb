{
  "nbformat": 4,
  "nbformat_minor": 0,
  "metadata": {
    "colab": {
      "provenance": []
    },
    "kernelspec": {
      "display_name": "Python 3",
      "language": "python",
      "name": "python3"
    },
    "language_info": {
      "codemirror_mode": {
        "name": "ipython",
        "version": 3
      },
      "file_extension": ".py",
      "mimetype": "text/x-python",
      "name": "python",
      "nbconvert_exporter": "python",
      "pygments_lexer": "ipython3",
      "version": "3.7.6"
    }
  },
  "cells": [
    {
      "cell_type": "markdown",
      "metadata": {
        "id": "tw9URxpylcIK"
      },
      "source": [
        "## Giới thiệu\n",
        "Trong bài thực hành này, chúng ta sẽ thực hành kỹ năng đọc, chuyển đổi kiểu dữ liệu của `DataFrame` (kèm một số kỹ năng khác)."
      ]
    },
    {
      "cell_type": "markdown",
      "metadata": {
        "id": "v1THXEVkl99E"
      },
      "source": [
        "## Dữ liệu\n",
        "Dữ liệu của bài thực hành này được tổng hợp từ [trang wiki](https://leagueoflegends.fandom.com/wiki/League_of_Legends_Wiki) của trò chơi Liên minh Huyền thoại. (*cập nhật ngày 23-12-2020*)\n",
        "\n",
        "Dữ liệu này được lưu tại đường dẫn https://raw.githubusercontent.com/Levytan/mis_hutech/master/data/lol_champions.csv\n",
        "\n",
        "Dữ liệu bao gồm các cột:\n",
        "* `champion`: tên của tướng.\n",
        "* `title`: danh hiệu tướng.\n",
        "* `primary`: phân lớp chính.\n",
        "* `secondary`: phân lớp phụ.\n",
        "* `release_date`: ngày ra mắt.\n",
        "* `base_attack`: tấn công cơ bản.\n",
        "* `base_health`: máu cơ bản."
      ]
    },
    {
      "cell_type": "markdown",
      "metadata": {
        "id": "TYjZXrd1m_UM"
      },
      "source": [
        "## Phần 1: Đọc và chuyển đổi dữ liệu\n",
        "Phần này ôn lại cách dùng của:\n",
        "* Hàm `pd.read_csv()`, `pd.to_datetime()` và `pd.to_numeric()`.\n",
        "* Accessor `.str`.\n",
        "* Phương thức `.assign()` của `DataFrame`.\n",
        "* Cùng một số hàm và phương thức khác."
      ]
    },
    {
      "cell_type": "code",
      "metadata": {
        "id": "H37SSHgin1qT"
      },
      "source": [
        "import pandas as pd\n",
        "import numpy as np"
      ],
      "execution_count": null,
      "outputs": []
    },
    {
      "cell_type": "markdown",
      "metadata": {
        "id": "QoY6X8lPnEkS"
      },
      "source": [
        "**Câu 1**: Mở đường dẫn dữ liệu ở trên và xem xét cẩn thận. Sau đó, dùng `pd.read_csv()` với các tham số phù hợp để đọc dữ liệu. Lưu dữ liệu đọc được với tên `data`.\n",
        "\n",
        "*Gợi ý*\n",
        "- Xem documentation của pd.read_csv() tại https://pandas.pydata.org/docs/reference/api/pandas.read_csv.html\n",
        "- Tham số filepath_or_buffer chính là đường dẫn đến file csv.\n",
        "- Tuy nhiên file csv này có lỗi. Để bỏ qua lỗi, tham khảo các tham số có chứa từ \"error\" trong documentation.\n",
        "- Theo mặc định, pd.read_csv() cho rằng các cột của dữ liệu được phân chia bằng dấu \",\". Tên gọi của ký hiệu phân chia cột trong tiếng Anh là delimiter."
      ]
    },
    {
      "cell_type": "code",
      "metadata": {
        "id": "GuFimi73lN51",
        "colab": {
          "base_uri": "https://localhost:8080/",
          "height": 424
        },
        "outputId": "068d3c04-1771-4837-d1f7-36d98f177a67"
      },
      "source": [
        "data = pd.read_csv('https://raw.githubusercontent.com/Levytan/mis_hutech/master/data/lol_champions.csv', delimiter=';').drop(columns='Unnamed: 0')\n",
        "data"
      ],
      "execution_count": null,
      "outputs": [
        {
          "output_type": "execute_result",
          "data": {
            "text/html": [
              "<div>\n",
              "<style scoped>\n",
              "    .dataframe tbody tr th:only-of-type {\n",
              "        vertical-align: middle;\n",
              "    }\n",
              "\n",
              "    .dataframe tbody tr th {\n",
              "        vertical-align: top;\n",
              "    }\n",
              "\n",
              "    .dataframe thead th {\n",
              "        text-align: right;\n",
              "    }\n",
              "</style>\n",
              "<table border=\"1\" class=\"dataframe\">\n",
              "  <thead>\n",
              "    <tr style=\"text-align: right;\">\n",
              "      <th></th>\n",
              "      <th>champion</th>\n",
              "      <th>title</th>\n",
              "      <th>primary</th>\n",
              "      <th>secondary</th>\n",
              "      <th>release_date</th>\n",
              "      <th>base_attack</th>\n",
              "      <th>base_health</th>\n",
              "    </tr>\n",
              "  </thead>\n",
              "  <tbody>\n",
              "    <tr>\n",
              "      <th>0</th>\n",
              "      <td>Aatrox</td>\n",
              "      <td>the Darkin Blade</td>\n",
              "      <td>Juggernaut</td>\n",
              "      <td>NaN</td>\n",
              "      <td>2013-06-13</td>\n",
              "      <td>60,0</td>\n",
              "      <td>580,0</td>\n",
              "    </tr>\n",
              "    <tr>\n",
              "      <th>1</th>\n",
              "      <td>Ahri</td>\n",
              "      <td>the Nine-Tailed Fox</td>\n",
              "      <td>Burst</td>\n",
              "      <td>NaN</td>\n",
              "      <td>2011-12-14</td>\n",
              "      <td>53,04</td>\n",
              "      <td>526,0</td>\n",
              "    </tr>\n",
              "    <tr>\n",
              "      <th>2</th>\n",
              "      <td>Akali</td>\n",
              "      <td>the Rogue Assassin</td>\n",
              "      <td>Assassin</td>\n",
              "      <td>NaN</td>\n",
              "      <td>2010-05-11</td>\n",
              "      <td>62,4</td>\n",
              "      <td>575,0</td>\n",
              "    </tr>\n",
              "    <tr>\n",
              "      <th>3</th>\n",
              "      <td>Alistar</td>\n",
              "      <td>the Minotaur</td>\n",
              "      <td>Vanguard</td>\n",
              "      <td>NaN</td>\n",
              "      <td>2009-02-21</td>\n",
              "      <td>62,0</td>\n",
              "      <td>600,0</td>\n",
              "    </tr>\n",
              "    <tr>\n",
              "      <th>4</th>\n",
              "      <td>Amumu</td>\n",
              "      <td>the Sad Mummy</td>\n",
              "      <td>Vanguard</td>\n",
              "      <td>NaN</td>\n",
              "      <td>2009-06-26</td>\n",
              "      <td>53,38</td>\n",
              "      <td>615,0</td>\n",
              "    </tr>\n",
              "    <tr>\n",
              "      <th>...</th>\n",
              "      <td>...</td>\n",
              "      <td>...</td>\n",
              "      <td>...</td>\n",
              "      <td>...</td>\n",
              "      <td>...</td>\n",
              "      <td>...</td>\n",
              "      <td>...</td>\n",
              "    </tr>\n",
              "    <tr>\n",
              "      <th>148</th>\n",
              "      <td>Zed</td>\n",
              "      <td>the Master of Shadows</td>\n",
              "      <td>Assassin</td>\n",
              "      <td>NaN</td>\n",
              "      <td>2012-11-13</td>\n",
              "      <td>63,0</td>\n",
              "      <td>584,0</td>\n",
              "    </tr>\n",
              "    <tr>\n",
              "      <th>149</th>\n",
              "      <td>Ziggs</td>\n",
              "      <td>the Hexplosives Expert</td>\n",
              "      <td>Artillery</td>\n",
              "      <td>NaN</td>\n",
              "      <td>2012-02-01</td>\n",
              "      <td>54,208</td>\n",
              "      <td>536,0</td>\n",
              "    </tr>\n",
              "    <tr>\n",
              "      <th>150</th>\n",
              "      <td>Zilean</td>\n",
              "      <td>the Chronokeeper</td>\n",
              "      <td>Specialist</td>\n",
              "      <td>NaN</td>\n",
              "      <td>2009-04-18</td>\n",
              "      <td>51,64</td>\n",
              "      <td>504,0</td>\n",
              "    </tr>\n",
              "    <tr>\n",
              "      <th>151</th>\n",
              "      <td>Zoe</td>\n",
              "      <td>the Aspect of Twilight</td>\n",
              "      <td>Burst</td>\n",
              "      <td>NaN</td>\n",
              "      <td>2017-11-21</td>\n",
              "      <td>58,0</td>\n",
              "      <td>560,0</td>\n",
              "    </tr>\n",
              "    <tr>\n",
              "      <th>152</th>\n",
              "      <td>Zyra</td>\n",
              "      <td>Rise of the Thorns</td>\n",
              "      <td>Catcher</td>\n",
              "      <td>NaN</td>\n",
              "      <td>2012-07-24</td>\n",
              "      <td>53,376</td>\n",
              "      <td>504,0</td>\n",
              "    </tr>\n",
              "  </tbody>\n",
              "</table>\n",
              "<p>153 rows × 7 columns</p>\n",
              "</div>"
            ],
            "text/plain": [
              "    champion                   title  ... base_attack base_health\n",
              "0     Aatrox        the Darkin Blade  ...        60,0       580,0\n",
              "1       Ahri     the Nine-Tailed Fox  ...       53,04       526,0\n",
              "2      Akali      the Rogue Assassin  ...        62,4       575,0\n",
              "3    Alistar            the Minotaur  ...        62,0       600,0\n",
              "4      Amumu           the Sad Mummy  ...       53,38       615,0\n",
              "..       ...                     ...  ...         ...         ...\n",
              "148      Zed   the Master of Shadows  ...        63,0       584,0\n",
              "149    Ziggs  the Hexplosives Expert  ...      54,208       536,0\n",
              "150   Zilean        the Chronokeeper  ...       51,64       504,0\n",
              "151      Zoe  the Aspect of Twilight  ...        58,0       560,0\n",
              "152     Zyra      Rise of the Thorns  ...      53,376       504,0\n",
              "\n",
              "[153 rows x 7 columns]"
            ]
          },
          "metadata": {},
          "execution_count": 4
        }
      ]
    },
    {
      "cell_type": "markdown",
      "metadata": {
        "id": "nyTVbV47oB1m"
      },
      "source": [
        "**Câu 2**: In ra kiểu dữ liệu của các cột trong `data`.\n"
      ]
    },
    {
      "cell_type": "code",
      "metadata": {
        "id": "Q_kXA8ymoKE4",
        "colab": {
          "base_uri": "https://localhost:8080/"
        },
        "outputId": "27f0a287-ac23-471f-a97e-9bd362980a90"
      },
      "source": [
        "data.dtypes"
      ],
      "execution_count": null,
      "outputs": [
        {
          "output_type": "execute_result",
          "data": {
            "text/plain": [
              "champion        object\n",
              "title           object\n",
              "primary         object\n",
              "secondary       object\n",
              "release_date    object\n",
              "base_attack     object\n",
              "base_health     object\n",
              "dtype: object"
            ]
          },
          "metadata": {},
          "execution_count": 68
        }
      ]
    },
    {
      "cell_type": "markdown",
      "metadata": {
        "id": "mr5slj6JoKwZ"
      },
      "source": [
        "**Câu 3**: Thực hiện chuyển đổi kiểu dữ liệu (nếu cần) cho các cột `release_date`, `base_attack` và `base_health` về kiểu dữ liệu phù hợp."
      ]
    },
    {
      "cell_type": "code",
      "metadata": {
        "id": "XCTUuXMVodSI",
        "colab": {
          "base_uri": "https://localhost:8080/",
          "height": 424
        },
        "outputId": "be0e346d-8079-4ad8-bb46-b2c0309c51db"
      },
      "source": [
        "data = data.assign(base_attack = pd.to_numeric(data['base_attack'].str.replace(',','.')))\n",
        "data = data.assign(base_health = pd.to_numeric(data['base_health'].str.replace(',','.')))\n",
        "data = data.assign(release_date = pd.to_datetime(data['release_date']))\n",
        "data"
      ],
      "execution_count": null,
      "outputs": [
        {
          "output_type": "execute_result",
          "data": {
            "text/html": [
              "<div>\n",
              "<style scoped>\n",
              "    .dataframe tbody tr th:only-of-type {\n",
              "        vertical-align: middle;\n",
              "    }\n",
              "\n",
              "    .dataframe tbody tr th {\n",
              "        vertical-align: top;\n",
              "    }\n",
              "\n",
              "    .dataframe thead th {\n",
              "        text-align: right;\n",
              "    }\n",
              "</style>\n",
              "<table border=\"1\" class=\"dataframe\">\n",
              "  <thead>\n",
              "    <tr style=\"text-align: right;\">\n",
              "      <th></th>\n",
              "      <th>champion</th>\n",
              "      <th>title</th>\n",
              "      <th>primary</th>\n",
              "      <th>secondary</th>\n",
              "      <th>release_date</th>\n",
              "      <th>base_attack</th>\n",
              "      <th>base_health</th>\n",
              "    </tr>\n",
              "  </thead>\n",
              "  <tbody>\n",
              "    <tr>\n",
              "      <th>0</th>\n",
              "      <td>Aatrox</td>\n",
              "      <td>the Darkin Blade</td>\n",
              "      <td>Juggernaut</td>\n",
              "      <td>NaN</td>\n",
              "      <td>2013-06-13</td>\n",
              "      <td>60.000</td>\n",
              "      <td>580.0</td>\n",
              "    </tr>\n",
              "    <tr>\n",
              "      <th>1</th>\n",
              "      <td>Ahri</td>\n",
              "      <td>the Nine-Tailed Fox</td>\n",
              "      <td>Burst</td>\n",
              "      <td>NaN</td>\n",
              "      <td>2011-12-14</td>\n",
              "      <td>53.040</td>\n",
              "      <td>526.0</td>\n",
              "    </tr>\n",
              "    <tr>\n",
              "      <th>2</th>\n",
              "      <td>Akali</td>\n",
              "      <td>the Rogue Assassin</td>\n",
              "      <td>Assassin</td>\n",
              "      <td>NaN</td>\n",
              "      <td>2010-05-11</td>\n",
              "      <td>62.400</td>\n",
              "      <td>575.0</td>\n",
              "    </tr>\n",
              "    <tr>\n",
              "      <th>3</th>\n",
              "      <td>Alistar</td>\n",
              "      <td>the Minotaur</td>\n",
              "      <td>Vanguard</td>\n",
              "      <td>NaN</td>\n",
              "      <td>2009-02-21</td>\n",
              "      <td>62.000</td>\n",
              "      <td>600.0</td>\n",
              "    </tr>\n",
              "    <tr>\n",
              "      <th>4</th>\n",
              "      <td>Amumu</td>\n",
              "      <td>the Sad Mummy</td>\n",
              "      <td>Vanguard</td>\n",
              "      <td>NaN</td>\n",
              "      <td>2009-06-26</td>\n",
              "      <td>53.380</td>\n",
              "      <td>615.0</td>\n",
              "    </tr>\n",
              "    <tr>\n",
              "      <th>...</th>\n",
              "      <td>...</td>\n",
              "      <td>...</td>\n",
              "      <td>...</td>\n",
              "      <td>...</td>\n",
              "      <td>...</td>\n",
              "      <td>...</td>\n",
              "      <td>...</td>\n",
              "    </tr>\n",
              "    <tr>\n",
              "      <th>148</th>\n",
              "      <td>Zed</td>\n",
              "      <td>the Master of Shadows</td>\n",
              "      <td>Assassin</td>\n",
              "      <td>NaN</td>\n",
              "      <td>2012-11-13</td>\n",
              "      <td>63.000</td>\n",
              "      <td>584.0</td>\n",
              "    </tr>\n",
              "    <tr>\n",
              "      <th>149</th>\n",
              "      <td>Ziggs</td>\n",
              "      <td>the Hexplosives Expert</td>\n",
              "      <td>Artillery</td>\n",
              "      <td>NaN</td>\n",
              "      <td>2012-02-01</td>\n",
              "      <td>54.208</td>\n",
              "      <td>536.0</td>\n",
              "    </tr>\n",
              "    <tr>\n",
              "      <th>150</th>\n",
              "      <td>Zilean</td>\n",
              "      <td>the Chronokeeper</td>\n",
              "      <td>Specialist</td>\n",
              "      <td>NaN</td>\n",
              "      <td>2009-04-18</td>\n",
              "      <td>51.640</td>\n",
              "      <td>504.0</td>\n",
              "    </tr>\n",
              "    <tr>\n",
              "      <th>151</th>\n",
              "      <td>Zoe</td>\n",
              "      <td>the Aspect of Twilight</td>\n",
              "      <td>Burst</td>\n",
              "      <td>NaN</td>\n",
              "      <td>2017-11-21</td>\n",
              "      <td>58.000</td>\n",
              "      <td>560.0</td>\n",
              "    </tr>\n",
              "    <tr>\n",
              "      <th>152</th>\n",
              "      <td>Zyra</td>\n",
              "      <td>Rise of the Thorns</td>\n",
              "      <td>Catcher</td>\n",
              "      <td>NaN</td>\n",
              "      <td>2012-07-24</td>\n",
              "      <td>53.376</td>\n",
              "      <td>504.0</td>\n",
              "    </tr>\n",
              "  </tbody>\n",
              "</table>\n",
              "<p>153 rows × 7 columns</p>\n",
              "</div>"
            ],
            "text/plain": [
              "    champion                   title  ... base_attack base_health\n",
              "0     Aatrox        the Darkin Blade  ...      60.000       580.0\n",
              "1       Ahri     the Nine-Tailed Fox  ...      53.040       526.0\n",
              "2      Akali      the Rogue Assassin  ...      62.400       575.0\n",
              "3    Alistar            the Minotaur  ...      62.000       600.0\n",
              "4      Amumu           the Sad Mummy  ...      53.380       615.0\n",
              "..       ...                     ...  ...         ...         ...\n",
              "148      Zed   the Master of Shadows  ...      63.000       584.0\n",
              "149    Ziggs  the Hexplosives Expert  ...      54.208       536.0\n",
              "150   Zilean        the Chronokeeper  ...      51.640       504.0\n",
              "151      Zoe  the Aspect of Twilight  ...      58.000       560.0\n",
              "152     Zyra      Rise of the Thorns  ...      53.376       504.0\n",
              "\n",
              "[153 rows x 7 columns]"
            ]
          },
          "metadata": {},
          "execution_count": 5
        }
      ]
    },
    {
      "cell_type": "markdown",
      "metadata": {
        "id": "gjjAI21sohwq"
      },
      "source": [
        "**Câu 4**: In lại kiểu dữ liệu của các cột trong `data` để kiểm tra việc chuyển dữ liệu."
      ]
    },
    {
      "cell_type": "code",
      "metadata": {
        "id": "VmR6JExeozdv",
        "colab": {
          "base_uri": "https://localhost:8080/"
        },
        "outputId": "40031b06-1995-46c2-8ef0-35dc553d01ed"
      },
      "source": [
        "data.dtypes"
      ],
      "execution_count": null,
      "outputs": [
        {
          "output_type": "execute_result",
          "data": {
            "text/plain": [
              "champion                object\n",
              "title                   object\n",
              "primary                 object\n",
              "secondary               object\n",
              "release_date    datetime64[ns]\n",
              "base_attack            float64\n",
              "base_health            float64\n",
              "dtype: object"
            ]
          },
          "metadata": {},
          "execution_count": 184
        }
      ]
    },
    {
      "cell_type": "markdown",
      "metadata": {
        "id": "ZLCm8fxQp5Zi"
      },
      "source": [
        "## Phần 2: Một số thao tác với `DataFrame`.\n",
        "Phần này ôn lại các thao tác cơ bản trong `DataFrame`."
      ]
    },
    {
      "cell_type": "markdown",
      "metadata": {
        "id": "7yyW_Ruyqh2p"
      },
      "source": [
        "**Câu 5**: In ra số lượng tướng có trong `data`."
      ]
    },
    {
      "cell_type": "code",
      "metadata": {
        "id": "51WeydMiqFSy",
        "colab": {
          "base_uri": "https://localhost:8080/"
        },
        "outputId": "277773a8-5237-4820-99c4-64a4fe040ed1"
      },
      "source": [
        "data.champion.size"
      ],
      "execution_count": null,
      "outputs": [
        {
          "output_type": "execute_result",
          "data": {
            "text/plain": [
              "153"
            ]
          },
          "metadata": {},
          "execution_count": 81
        }
      ]
    },
    {
      "cell_type": "markdown",
      "metadata": {
        "id": "XW7Zw9Bhq3ZA"
      },
      "source": [
        "**Câu 6**: In ra các tướng ra mắt trong năm 2020.\n",
        "\n",
        "*Gợi ý*: có thể dùng accessor `.dt` và thuộc tính `.year` của kiểu thời gian."
      ]
    },
    {
      "cell_type": "code",
      "metadata": {
        "id": "JioRCrgorIJo",
        "colab": {
          "base_uri": "https://localhost:8080/",
          "height": 238
        },
        "outputId": "cdf46b6b-4b43-4ecb-d09b-b9a5bee0d536"
      },
      "source": [
        "data[data['release_date'].dt.year == 2020]"
      ],
      "execution_count": null,
      "outputs": [
        {
          "output_type": "execute_result",
          "data": {
            "text/html": [
              "<div>\n",
              "<style scoped>\n",
              "    .dataframe tbody tr th:only-of-type {\n",
              "        vertical-align: middle;\n",
              "    }\n",
              "\n",
              "    .dataframe tbody tr th {\n",
              "        vertical-align: top;\n",
              "    }\n",
              "\n",
              "    .dataframe thead th {\n",
              "        text-align: right;\n",
              "    }\n",
              "</style>\n",
              "<table border=\"1\" class=\"dataframe\">\n",
              "  <thead>\n",
              "    <tr style=\"text-align: right;\">\n",
              "      <th></th>\n",
              "      <th>champion</th>\n",
              "      <th>title</th>\n",
              "      <th>primary</th>\n",
              "      <th>secondary</th>\n",
              "      <th>release_date</th>\n",
              "      <th>base_attack</th>\n",
              "      <th>base_health</th>\n",
              "    </tr>\n",
              "  </thead>\n",
              "  <tbody>\n",
              "    <tr>\n",
              "      <th>64</th>\n",
              "      <td>Lillia</td>\n",
              "      <td>the Bashful Bloom</td>\n",
              "      <td>Skirmisher</td>\n",
              "      <td>NaN</td>\n",
              "      <td>2020-07-22</td>\n",
              "      <td>61.0</td>\n",
              "      <td>580.0</td>\n",
              "    </tr>\n",
              "    <tr>\n",
              "      <th>94</th>\n",
              "      <td>Rell</td>\n",
              "      <td>the Iron Maiden</td>\n",
              "      <td>Vanguard</td>\n",
              "      <td>NaN</td>\n",
              "      <td>2020-12-10</td>\n",
              "      <td>55.0</td>\n",
              "      <td>540.0</td>\n",
              "    </tr>\n",
              "    <tr>\n",
              "      <th>100</th>\n",
              "      <td>Samira</td>\n",
              "      <td>the Desert Rose</td>\n",
              "      <td>Marksman</td>\n",
              "      <td>NaN</td>\n",
              "      <td>2020-09-21</td>\n",
              "      <td>57.0</td>\n",
              "      <td>530.0</td>\n",
              "    </tr>\n",
              "    <tr>\n",
              "      <th>103</th>\n",
              "      <td>Seraphine</td>\n",
              "      <td>the Starry-Eyed Songstress</td>\n",
              "      <td>Burst</td>\n",
              "      <td>Enchanter</td>\n",
              "      <td>2020-10-29</td>\n",
              "      <td>50.0</td>\n",
              "      <td>500.0</td>\n",
              "    </tr>\n",
              "    <tr>\n",
              "      <th>104</th>\n",
              "      <td>Sett</td>\n",
              "      <td>the Boss</td>\n",
              "      <td>Juggernaut</td>\n",
              "      <td>NaN</td>\n",
              "      <td>2020-01-14</td>\n",
              "      <td>60.0</td>\n",
              "      <td>600.0</td>\n",
              "    </tr>\n",
              "    <tr>\n",
              "      <th>144</th>\n",
              "      <td>Yone</td>\n",
              "      <td>the Unforgotten</td>\n",
              "      <td>Assassin</td>\n",
              "      <td>Skirmisher</td>\n",
              "      <td>2020-08-06</td>\n",
              "      <td>60.0</td>\n",
              "      <td>550.0</td>\n",
              "    </tr>\n",
              "  </tbody>\n",
              "</table>\n",
              "</div>"
            ],
            "text/plain": [
              "      champion                       title  ... base_attack base_health\n",
              "64      Lillia           the Bashful Bloom  ...        61.0       580.0\n",
              "94        Rell             the Iron Maiden  ...        55.0       540.0\n",
              "100     Samira             the Desert Rose  ...        57.0       530.0\n",
              "103  Seraphine  the Starry-Eyed Songstress  ...        50.0       500.0\n",
              "104       Sett                    the Boss  ...        60.0       600.0\n",
              "144       Yone             the Unforgotten  ...        60.0       550.0\n",
              "\n",
              "[6 rows x 7 columns]"
            ]
          },
          "metadata": {},
          "execution_count": 150
        }
      ]
    },
    {
      "cell_type": "markdown",
      "metadata": {
        "id": "sQni6HPRrfff"
      },
      "source": [
        "**Câu 7**: In ra ngày ra mắt của các tướng có phân lớp chính là `'Marksman'`."
      ]
    },
    {
      "cell_type": "code",
      "metadata": {
        "id": "eRuDnmRjrxX_",
        "colab": {
          "base_uri": "https://localhost:8080/"
        },
        "outputId": "e9bb421f-33c1-459d-e6af-5ed93b92a801"
      },
      "source": [
        "data[data['primary']=='Marksman']['release_date']"
      ],
      "execution_count": null,
      "outputs": [
        {
          "output_type": "execute_result",
          "data": {
            "text/plain": [
              "7     2019-12-11\n",
              "8     2009-02-21\n",
              "15    2011-01-04\n",
              "19    2009-09-19\n",
              "23    2012-06-06\n",
              "27    2010-03-16\n",
              "46    2016-02-01\n",
              "47    2013-10-10\n",
              "48    2018-03-07\n",
              "49    2014-11-20\n",
              "58    2015-10-14\n",
              "60    2010-06-24\n",
              "66    2013-08-22\n",
              "73    2010-09-08\n",
              "100   2020-09-21\n",
              "102   2019-11-10\n",
              "110   2009-02-21\n",
              "123   2009-02-21\n",
              "127   2009-05-01\n",
              "130   2012-05-08\n",
              "131   2011-05-10\n",
              "140   2017-04-19\n",
              "Name: release_date, dtype: datetime64[ns]"
            ]
          },
          "metadata": {},
          "execution_count": 159
        }
      ]
    },
    {
      "cell_type": "markdown",
      "metadata": {
        "id": "kg9juPGSr0hf"
      },
      "source": [
        "**Câu 8**: In ra những tướng có tên bắt đầu bằng chữ `'N'`.\n",
        "\n",
        "*Gợi ý*: dùng `.str.startswith()`.\n"
      ]
    },
    {
      "cell_type": "code",
      "metadata": {
        "id": "_LqRLqohsow0",
        "colab": {
          "base_uri": "https://localhost:8080/"
        },
        "outputId": "04d599e4-5c9f-464b-eb02-6ba28aa0d8c9"
      },
      "source": [
        "data.champion[data.champion.str.startswith('N')]"
      ],
      "execution_count": null,
      "outputs": [
        {
          "output_type": "execute_result",
          "data": {
            "text/plain": [
              "76              Nami\n",
              "77             Nasus\n",
              "78          Nautilus\n",
              "79             Neeko\n",
              "80           Nidalee\n",
              "81          Nocturne\n",
              "82    Nunu & Willump\n",
              "Name: champion, dtype: object"
            ]
          },
          "metadata": {},
          "execution_count": 85
        }
      ]
    },
    {
      "cell_type": "markdown",
      "metadata": {
        "id": "wBtT7n74syVv"
      },
      "source": [
        "**Câu 9**: In ra những tướng có dấu nháy đơn `'` trong tên.\n",
        "\n",
        "*Gợi ý*: dùng `.str.find()`."
      ]
    },
    {
      "cell_type": "code",
      "metadata": {
        "id": "jSPWNjH1tyo2",
        "colab": {
          "base_uri": "https://localhost:8080/"
        },
        "outputId": "6fc01217-1f56-4f14-f862-5474b06f620c"
      },
      "source": [
        "data.champion[data.champion.str.find(\"'\")!=-1]"
      ],
      "execution_count": null,
      "outputs": [
        {
          "output_type": "execute_result",
          "data": {
            "text/plain": [
              "18     Cho'Gath\n",
              "48       Kai'Sa\n",
              "57      Kha'Zix\n",
              "60      Kog'Maw\n",
              "93      Rek'Sai\n",
              "133     Vel'Koz\n",
              "Name: champion, dtype: object"
            ]
          },
          "metadata": {},
          "execution_count": 163
        }
      ]
    },
    {
      "cell_type": "markdown",
      "metadata": {
        "id": "KXO7F6owtLNJ"
      },
      "source": [
        "**Câu 10**: In ra những tướng không có từ `'the'` trong danh hiệu."
      ]
    },
    {
      "cell_type": "code",
      "metadata": {
        "id": "DSQUkc8ttUEG",
        "colab": {
          "base_uri": "https://localhost:8080/"
        },
        "outputId": "de4dbb26-8e1a-4c01-eea2-ca89553bc77d"
      },
      "source": [
        "data.champion[data['title'].str.find('the')==-1]"
      ],
      "execution_count": null,
      "outputs": [
        {
          "output_type": "execute_result",
          "data": {
            "text/plain": [
              "26     Evelynn\n",
              "44         Jax\n",
              "90       Quinn\n",
              "145     Yorick\n",
              "Name: champion, dtype: object"
            ]
          },
          "metadata": {},
          "execution_count": 167
        }
      ]
    },
    {
      "cell_type": "markdown",
      "metadata": {
        "id": "GzEDPo58tXJm"
      },
      "source": [
        "**Câu 11**: Lấy ra những tướng có cùng phân loại chính với **Yasuo**."
      ]
    },
    {
      "cell_type": "code",
      "metadata": {
        "id": "K6p40DxItlHA",
        "colab": {
          "base_uri": "https://localhost:8080/",
          "height": 300
        },
        "outputId": "46eff7a0-a4fb-499d-b314-530c02f93b5b"
      },
      "source": [
        "\n",
        "data[data['primary']== data[data.champion == 'Yasuo' ].primary.array[0]]\n"
      ],
      "execution_count": null,
      "outputs": [
        {
          "output_type": "execute_result",
          "data": {
            "text/html": [
              "<div>\n",
              "<style scoped>\n",
              "    .dataframe tbody tr th:only-of-type {\n",
              "        vertical-align: middle;\n",
              "    }\n",
              "\n",
              "    .dataframe tbody tr th {\n",
              "        vertical-align: top;\n",
              "    }\n",
              "\n",
              "    .dataframe thead th {\n",
              "        text-align: right;\n",
              "    }\n",
              "</style>\n",
              "<table border=\"1\" class=\"dataframe\">\n",
              "  <thead>\n",
              "    <tr style=\"text-align: right;\">\n",
              "      <th></th>\n",
              "      <th>champion</th>\n",
              "      <th>title</th>\n",
              "      <th>primary</th>\n",
              "      <th>secondary</th>\n",
              "      <th>release_date</th>\n",
              "      <th>base_attack</th>\n",
              "      <th>base_health</th>\n",
              "    </tr>\n",
              "  </thead>\n",
              "  <tbody>\n",
              "    <tr>\n",
              "      <th>29</th>\n",
              "      <td>Fiora</td>\n",
              "      <td>the Grand Duelist</td>\n",
              "      <td>Skirmisher</td>\n",
              "      <td>NaN</td>\n",
              "      <td>2012-02-29</td>\n",
              "      <td>68.0</td>\n",
              "      <td>550.00</td>\n",
              "    </tr>\n",
              "    <tr>\n",
              "      <th>44</th>\n",
              "      <td>Jax</td>\n",
              "      <td>Grandmaster at Arms</td>\n",
              "      <td>Skirmisher</td>\n",
              "      <td>NaN</td>\n",
              "      <td>2009-02-21</td>\n",
              "      <td>68.0</td>\n",
              "      <td>592.80</td>\n",
              "    </tr>\n",
              "    <tr>\n",
              "      <th>55</th>\n",
              "      <td>Kayn</td>\n",
              "      <td>the Shadow Reaper</td>\n",
              "      <td>Skirmisher</td>\n",
              "      <td>NaN</td>\n",
              "      <td>2017-07-12</td>\n",
              "      <td>68.0</td>\n",
              "      <td>585.00</td>\n",
              "    </tr>\n",
              "    <tr>\n",
              "      <th>64</th>\n",
              "      <td>Lillia</td>\n",
              "      <td>the Bashful Bloom</td>\n",
              "      <td>Skirmisher</td>\n",
              "      <td>NaN</td>\n",
              "      <td>2020-07-22</td>\n",
              "      <td>61.0</td>\n",
              "      <td>580.00</td>\n",
              "    </tr>\n",
              "    <tr>\n",
              "      <th>72</th>\n",
              "      <td>Master Yi</td>\n",
              "      <td>the Wuju Bladesman</td>\n",
              "      <td>Skirmisher</td>\n",
              "      <td>NaN</td>\n",
              "      <td>2009-02-21</td>\n",
              "      <td>66.0</td>\n",
              "      <td>598.56</td>\n",
              "    </tr>\n",
              "    <tr>\n",
              "      <th>97</th>\n",
              "      <td>Riven</td>\n",
              "      <td>the Exile</td>\n",
              "      <td>Skirmisher</td>\n",
              "      <td>NaN</td>\n",
              "      <td>2011-09-14</td>\n",
              "      <td>64.0</td>\n",
              "      <td>560.00</td>\n",
              "    </tr>\n",
              "    <tr>\n",
              "      <th>125</th>\n",
              "      <td>Tryndamere</td>\n",
              "      <td>the Barbarian King</td>\n",
              "      <td>Skirmisher</td>\n",
              "      <td>NaN</td>\n",
              "      <td>2009-05-01</td>\n",
              "      <td>69.0</td>\n",
              "      <td>625.64</td>\n",
              "    </tr>\n",
              "    <tr>\n",
              "      <th>143</th>\n",
              "      <td>Yasuo</td>\n",
              "      <td>the Unforgiven</td>\n",
              "      <td>Skirmisher</td>\n",
              "      <td>NaN</td>\n",
              "      <td>2013-12-13</td>\n",
              "      <td>60.0</td>\n",
              "      <td>490.00</td>\n",
              "    </tr>\n",
              "  </tbody>\n",
              "</table>\n",
              "</div>"
            ],
            "text/plain": [
              "       champion                title  ... base_attack base_health\n",
              "29        Fiora    the Grand Duelist  ...        68.0      550.00\n",
              "44          Jax  Grandmaster at Arms  ...        68.0      592.80\n",
              "55         Kayn    the Shadow Reaper  ...        68.0      585.00\n",
              "64       Lillia    the Bashful Bloom  ...        61.0      580.00\n",
              "72    Master Yi   the Wuju Bladesman  ...        66.0      598.56\n",
              "97        Riven            the Exile  ...        64.0      560.00\n",
              "125  Tryndamere   the Barbarian King  ...        69.0      625.64\n",
              "143       Yasuo       the Unforgiven  ...        60.0      490.00\n",
              "\n",
              "[8 rows x 7 columns]"
            ]
          },
          "metadata": {},
          "execution_count": 6
        }
      ]
    },
    {
      "cell_type": "markdown",
      "metadata": {
        "id": "92t_adSHtoko"
      },
      "source": [
        "**Câu 12**: Lấy ra tướng `'Assassin'` mới nhất được ra mắt."
      ]
    },
    {
      "cell_type": "code",
      "metadata": {
        "id": "p_iDVjg_uJSh",
        "colab": {
          "base_uri": "https://localhost:8080/",
          "height": 81
        },
        "outputId": "ec4818d3-7298-4f0b-e534-d2b69ca7d29c"
      },
      "source": [
        "s = data[data['primary']=='Assassin']\n",
        "s[s['release_date']==max(s['release_date'])]"
      ],
      "execution_count": null,
      "outputs": [
        {
          "output_type": "execute_result",
          "data": {
            "text/html": [
              "<div>\n",
              "<style scoped>\n",
              "    .dataframe tbody tr th:only-of-type {\n",
              "        vertical-align: middle;\n",
              "    }\n",
              "\n",
              "    .dataframe tbody tr th {\n",
              "        vertical-align: top;\n",
              "    }\n",
              "\n",
              "    .dataframe thead th {\n",
              "        text-align: right;\n",
              "    }\n",
              "</style>\n",
              "<table border=\"1\" class=\"dataframe\">\n",
              "  <thead>\n",
              "    <tr style=\"text-align: right;\">\n",
              "      <th></th>\n",
              "      <th>champion</th>\n",
              "      <th>title</th>\n",
              "      <th>primary</th>\n",
              "      <th>secondary</th>\n",
              "      <th>release_date</th>\n",
              "      <th>base_attack</th>\n",
              "      <th>base_health</th>\n",
              "    </tr>\n",
              "  </thead>\n",
              "  <tbody>\n",
              "    <tr>\n",
              "      <th>144</th>\n",
              "      <td>Yone</td>\n",
              "      <td>the Unforgotten</td>\n",
              "      <td>Assassin</td>\n",
              "      <td>Skirmisher</td>\n",
              "      <td>2020-08-06</td>\n",
              "      <td>60.0</td>\n",
              "      <td>550.0</td>\n",
              "    </tr>\n",
              "  </tbody>\n",
              "</table>\n",
              "</div>"
            ],
            "text/plain": [
              "    champion            title   primary  ... release_date base_attack  base_health\n",
              "144     Yone  the Unforgotten  Assassin  ...   2020-08-06        60.0        550.0\n",
              "\n",
              "[1 rows x 7 columns]"
            ]
          },
          "metadata": {},
          "execution_count": 170
        }
      ]
    },
    {
      "cell_type": "markdown",
      "metadata": {
        "id": "ts_D4MO_uLM_"
      },
      "source": [
        "**Câu 13**: Có bao nhiêu phân loại chính?\n",
        "\n",
        "*Gợi ý*: dùng phương thức `.nunique()`."
      ]
    },
    {
      "cell_type": "code",
      "metadata": {
        "id": "fvm5ACazumxa",
        "colab": {
          "base_uri": "https://localhost:8080/"
        },
        "outputId": "c468759f-ec35-476b-ec87-46550a676be7"
      },
      "source": [
        "data.primary.nunique()"
      ],
      "execution_count": null,
      "outputs": [
        {
          "output_type": "execute_result",
          "data": {
            "text/plain": [
              "13"
            ]
          },
          "metadata": {},
          "execution_count": 171
        }
      ]
    },
    {
      "cell_type": "markdown",
      "metadata": {
        "id": "w8vPA98Wunr2"
      },
      "source": [
        "**Câu 14**: Có bao nhiêu tướng có phân loại phụ?\n",
        "\n",
        "*Gợi ý*: dùng phương thức `.count()`"
      ]
    },
    {
      "cell_type": "code",
      "metadata": {
        "id": "0hkB6USruuI-",
        "colab": {
          "base_uri": "https://localhost:8080/"
        },
        "outputId": "2de80628-42b3-43f9-b389-eca4f2c9678a"
      },
      "source": [
        "data.secondary.count()"
      ],
      "execution_count": null,
      "outputs": [
        {
          "output_type": "execute_result",
          "data": {
            "text/plain": [
              "13"
            ]
          },
          "metadata": {},
          "execution_count": 146
        }
      ]
    },
    {
      "cell_type": "markdown",
      "metadata": {
        "id": "1KeKqbYIvSLo"
      },
      "source": [
        "**Câu 15**: Sắp xếp `data` theo `base_attack` tăng dần."
      ]
    },
    {
      "cell_type": "code",
      "metadata": {
        "id": "gKHNEf4zw738",
        "colab": {
          "base_uri": "https://localhost:8080/",
          "height": 424
        },
        "outputId": "6f5ef9c6-a188-4538-cc1e-e31cc4466952"
      },
      "source": [
        "data.sort_values('base_attack')"
      ],
      "execution_count": null,
      "outputs": [
        {
          "output_type": "execute_result",
          "data": {
            "text/html": [
              "<div>\n",
              "<style scoped>\n",
              "    .dataframe tbody tr th:only-of-type {\n",
              "        vertical-align: middle;\n",
              "    }\n",
              "\n",
              "    .dataframe tbody tr th {\n",
              "        vertical-align: top;\n",
              "    }\n",
              "\n",
              "    .dataframe thead th {\n",
              "        text-align: right;\n",
              "    }\n",
              "</style>\n",
              "<table border=\"1\" class=\"dataframe\">\n",
              "  <thead>\n",
              "    <tr style=\"text-align: right;\">\n",
              "      <th></th>\n",
              "      <th>champion</th>\n",
              "      <th>title</th>\n",
              "      <th>primary</th>\n",
              "      <th>secondary</th>\n",
              "      <th>release_date</th>\n",
              "      <th>base_attack</th>\n",
              "      <th>base_health</th>\n",
              "    </tr>\n",
              "  </thead>\n",
              "  <tbody>\n",
              "    <tr>\n",
              "      <th>84</th>\n",
              "      <td>Orianna</td>\n",
              "      <td>the Lady of Clockwork</td>\n",
              "      <td>Burst</td>\n",
              "      <td>NaN</td>\n",
              "      <td>2011-06-01</td>\n",
              "      <td>40,368</td>\n",
              "      <td>530,0</td>\n",
              "    </tr>\n",
              "    <tr>\n",
              "      <th>51</th>\n",
              "      <td>Karthus</td>\n",
              "      <td>the Deathsinger</td>\n",
              "      <td>Battlemage</td>\n",
              "      <td>NaN</td>\n",
              "      <td>2009-06-12</td>\n",
              "      <td>45,66</td>\n",
              "      <td>550,0</td>\n",
              "    </tr>\n",
              "    <tr>\n",
              "      <th>42</th>\n",
              "      <td>Janna</td>\n",
              "      <td>the Storm's Fury</td>\n",
              "      <td>Enchanter</td>\n",
              "      <td>NaN</td>\n",
              "      <td>2009-09-02</td>\n",
              "      <td>46,0</td>\n",
              "      <td>500,0</td>\n",
              "    </tr>\n",
              "    <tr>\n",
              "      <th>67</th>\n",
              "      <td>Lulu</td>\n",
              "      <td>the Fae Sorceress</td>\n",
              "      <td>Enchanter</td>\n",
              "      <td>NaN</td>\n",
              "      <td>2012-03-20</td>\n",
              "      <td>47,0</td>\n",
              "      <td>525,0</td>\n",
              "    </tr>\n",
              "    <tr>\n",
              "      <th>56</th>\n",
              "      <td>Kennen</td>\n",
              "      <td>the Heart of the Tempest</td>\n",
              "      <td>Specialist</td>\n",
              "      <td>NaN</td>\n",
              "      <td>2010-04-08</td>\n",
              "      <td>48,0</td>\n",
              "      <td>541,0</td>\n",
              "    </tr>\n",
              "    <tr>\n",
              "      <th>...</th>\n",
              "      <td>...</td>\n",
              "      <td>...</td>\n",
              "      <td>...</td>\n",
              "      <td>...</td>\n",
              "      <td>...</td>\n",
              "      <td>...</td>\n",
              "      <td>...</td>\n",
              "    </tr>\n",
              "    <tr>\n",
              "      <th>18</th>\n",
              "      <td>Cho'Gath</td>\n",
              "      <td>the Terror of the Void</td>\n",
              "      <td>Specialist</td>\n",
              "      <td>NaN</td>\n",
              "      <td>2009-06-26</td>\n",
              "      <td>69,0</td>\n",
              "      <td>574,4</td>\n",
              "    </tr>\n",
              "    <tr>\n",
              "      <th>49</th>\n",
              "      <td>Kalista</td>\n",
              "      <td>the Spear of Vengeance</td>\n",
              "      <td>Marksman</td>\n",
              "      <td>NaN</td>\n",
              "      <td>2014-11-20</td>\n",
              "      <td>69,0</td>\n",
              "      <td>534,0</td>\n",
              "    </tr>\n",
              "    <tr>\n",
              "      <th>125</th>\n",
              "      <td>Tryndamere</td>\n",
              "      <td>the Barbarian King</td>\n",
              "      <td>Skirmisher</td>\n",
              "      <td>NaN</td>\n",
              "      <td>2009-05-01</td>\n",
              "      <td>69,0</td>\n",
              "      <td>625,64</td>\n",
              "    </tr>\n",
              "    <tr>\n",
              "      <th>95</th>\n",
              "      <td>Renekton</td>\n",
              "      <td>the Butcher of the Sands</td>\n",
              "      <td>Diver</td>\n",
              "      <td>NaN</td>\n",
              "      <td>2011-01-18</td>\n",
              "      <td>69,0</td>\n",
              "      <td>575,0</td>\n",
              "    </tr>\n",
              "    <tr>\n",
              "      <th>62</th>\n",
              "      <td>Lee Sin</td>\n",
              "      <td>the Blind Monk</td>\n",
              "      <td>Diver</td>\n",
              "      <td>NaN</td>\n",
              "      <td>2011-04-01</td>\n",
              "      <td>70,0</td>\n",
              "      <td>575,0</td>\n",
              "    </tr>\n",
              "  </tbody>\n",
              "</table>\n",
              "<p>153 rows × 7 columns</p>\n",
              "</div>"
            ],
            "text/plain": [
              "       champion                     title  ... base_attack base_health\n",
              "84      Orianna     the Lady of Clockwork  ...      40,368       530,0\n",
              "51      Karthus           the Deathsinger  ...       45,66       550,0\n",
              "42        Janna          the Storm's Fury  ...        46,0       500,0\n",
              "67         Lulu         the Fae Sorceress  ...        47,0       525,0\n",
              "56       Kennen  the Heart of the Tempest  ...        48,0       541,0\n",
              "..          ...                       ...  ...         ...         ...\n",
              "18     Cho'Gath    the Terror of the Void  ...        69,0       574,4\n",
              "49      Kalista    the Spear of Vengeance  ...        69,0       534,0\n",
              "125  Tryndamere        the Barbarian King  ...        69,0      625,64\n",
              "95     Renekton  the Butcher of the Sands  ...        69,0       575,0\n",
              "62      Lee Sin            the Blind Monk  ...        70,0       575,0\n",
              "\n",
              "[153 rows x 7 columns]"
            ]
          },
          "metadata": {},
          "execution_count": 101
        }
      ]
    },
    {
      "cell_type": "markdown",
      "metadata": {
        "id": "qVAsZk3gw7cG"
      },
      "source": [
        "**Câu 16**: In ra những tướng có `base_health` lớn hơn 600."
      ]
    },
    {
      "cell_type": "code",
      "metadata": {
        "id": "r_sxO5PlvQQg",
        "colab": {
          "base_uri": "https://localhost:8080/"
        },
        "outputId": "d371e430-7b9f-4d4f-edcf-0badd29daf51"
      },
      "source": [
        "data.champion[data['base_health'] > 600]"
      ],
      "execution_count": null,
      "outputs": [
        {
          "output_type": "execute_result",
          "data": {
            "text/plain": [
              "4           Amumu\n",
              "23         Draven\n",
              "33          Garen\n",
              "47           Jinx\n",
              "53       Katarina\n",
              "111       Skarner\n",
              "124       Trundle\n",
              "125    Tryndamere\n",
              "127        Twitch\n",
              "147           Zac\n",
              "Name: champion, dtype: object"
            ]
          },
          "metadata": {},
          "execution_count": 147
        }
      ]
    },
    {
      "cell_type": "markdown",
      "metadata": {
        "id": "YwADU43VvcN3"
      },
      "source": [
        "**Câu 17**: In ra tướng có `base_health` lớn nhất của phân lớp chính `'Juggernaut'`."
      ]
    },
    {
      "cell_type": "code",
      "metadata": {
        "id": "3GkpvZSnvbXs",
        "colab": {
          "base_uri": "https://localhost:8080/",
          "height": 81
        },
        "outputId": "1e051d8d-684b-4169-fc26-21ee7815be11"
      },
      "source": [
        "a = data[data['primary']== 'Juggernaut']\n",
        "a[a['base_health']==max(a['base_health'])]"
      ],
      "execution_count": null,
      "outputs": [
        {
          "output_type": "execute_result",
          "data": {
            "text/html": [
              "<div>\n",
              "<style scoped>\n",
              "    .dataframe tbody tr th:only-of-type {\n",
              "        vertical-align: middle;\n",
              "    }\n",
              "\n",
              "    .dataframe tbody tr th {\n",
              "        vertical-align: top;\n",
              "    }\n",
              "\n",
              "    .dataframe thead th {\n",
              "        text-align: right;\n",
              "    }\n",
              "</style>\n",
              "<table border=\"1\" class=\"dataframe\">\n",
              "  <thead>\n",
              "    <tr style=\"text-align: right;\">\n",
              "      <th></th>\n",
              "      <th>champion</th>\n",
              "      <th>title</th>\n",
              "      <th>primary</th>\n",
              "      <th>secondary</th>\n",
              "      <th>release_date</th>\n",
              "      <th>base_attack</th>\n",
              "      <th>base_health</th>\n",
              "    </tr>\n",
              "  </thead>\n",
              "  <tbody>\n",
              "    <tr>\n",
              "      <th>33</th>\n",
              "      <td>Garen</td>\n",
              "      <td>the Might of Demacia</td>\n",
              "      <td>Juggernaut</td>\n",
              "      <td>NaN</td>\n",
              "      <td>2010-04-27</td>\n",
              "      <td>66.0</td>\n",
              "      <td>620.0</td>\n",
              "    </tr>\n",
              "  </tbody>\n",
              "</table>\n",
              "</div>"
            ],
            "text/plain": [
              "   champion                 title  ... base_attack base_health\n",
              "33    Garen  the Might of Demacia  ...        66.0       620.0\n",
              "\n",
              "[1 rows x 7 columns]"
            ]
          },
          "metadata": {},
          "execution_count": 172
        }
      ]
    },
    {
      "cell_type": "markdown",
      "metadata": {
        "id": "hlAqJwpJv4Ju"
      },
      "source": [
        "**Câu 18**: In ra tướng có `base_attack` thấp nhất của phân lớp chính `'Marksman'`."
      ]
    },
    {
      "cell_type": "code",
      "metadata": {
        "id": "vVivRNTtwRqB",
        "colab": {
          "base_uri": "https://localhost:8080/",
          "height": 81
        },
        "outputId": "a5a3633f-6626-4a00-fd12-01cc1d5ac5c2"
      },
      "source": [
        "b = data[data['primary']== 'Marksman']\n",
        "b[b['base_attack']== min(b['base_attack'])]"
      ],
      "execution_count": null,
      "outputs": [
        {
          "output_type": "execute_result",
          "data": {
            "text/html": [
              "<div>\n",
              "<style scoped>\n",
              "    .dataframe tbody tr th:only-of-type {\n",
              "        vertical-align: middle;\n",
              "    }\n",
              "\n",
              "    .dataframe tbody tr th {\n",
              "        vertical-align: top;\n",
              "    }\n",
              "\n",
              "    .dataframe thead th {\n",
              "        text-align: right;\n",
              "    }\n",
              "</style>\n",
              "<table border=\"1\" class=\"dataframe\">\n",
              "  <thead>\n",
              "    <tr style=\"text-align: right;\">\n",
              "      <th></th>\n",
              "      <th>champion</th>\n",
              "      <th>title</th>\n",
              "      <th>primary</th>\n",
              "      <th>secondary</th>\n",
              "      <th>release_date</th>\n",
              "      <th>base_attack</th>\n",
              "      <th>base_health</th>\n",
              "    </tr>\n",
              "  </thead>\n",
              "  <tbody>\n",
              "    <tr>\n",
              "      <th>102</th>\n",
              "      <td>Senna</td>\n",
              "      <td>the Redeemer</td>\n",
              "      <td>Marksman</td>\n",
              "      <td>Enchanter</td>\n",
              "      <td>2019-11-10</td>\n",
              "      <td>50.0</td>\n",
              "      <td>520.0</td>\n",
              "    </tr>\n",
              "  </tbody>\n",
              "</table>\n",
              "</div>"
            ],
            "text/plain": [
              "    champion         title   primary  ... release_date base_attack  base_health\n",
              "102    Senna  the Redeemer  Marksman  ...   2019-11-10        50.0        520.0\n",
              "\n",
              "[1 rows x 7 columns]"
            ]
          },
          "metadata": {},
          "execution_count": 173
        }
      ]
    },
    {
      "cell_type": "markdown",
      "metadata": {
        "id": "jqmQKle_wRQm"
      },
      "source": [
        "**Câu 19**: In ra `base_attack` và `base_health` trung bình của các tướng thuộc phân lớp chính `'Skirmisher'`."
      ]
    },
    {
      "cell_type": "code",
      "metadata": {
        "id": "MTrjxfQGwrYd",
        "colab": {
          "base_uri": "https://localhost:8080/"
        },
        "outputId": "19792a91-b837-408d-bd83-4cd5ed0a396d"
      },
      "source": [
        "data.base_attack[data['primary']=='Skirmisher'].mean()"
      ],
      "execution_count": null,
      "outputs": [
        {
          "output_type": "execute_result",
          "data": {
            "text/plain": [
              "65.5"
            ]
          },
          "metadata": {},
          "execution_count": 174
        }
      ]
    },
    {
      "cell_type": "code",
      "metadata": {
        "colab": {
          "base_uri": "https://localhost:8080/"
        },
        "id": "xZx23WwFz9wH",
        "outputId": "f075be65-73b1-4ea0-ff78-7cbb2417afdb"
      },
      "source": [
        "data.base_health[data['primary']=='Skirmisher'].mean()"
      ],
      "execution_count": null,
      "outputs": [
        {
          "output_type": "execute_result",
          "data": {
            "text/plain": [
              "572.75"
            ]
          },
          "metadata": {},
          "execution_count": 175
        }
      ]
    },
    {
      "cell_type": "markdown",
      "metadata": {
        "id": "KUHKF8PVu4g-"
      },
      "source": [
        "**Câu 20**: Đổi kiểu dữ liệu cột `primary` và `secondary` sang kiểu `'category'`.\n",
        "\n",
        "*Gợi ý*: dùng `.astype('category')` và `.assign()`."
      ]
    },
    {
      "cell_type": "code",
      "metadata": {
        "id": "ZIwhGD2NxJh4",
        "colab": {
          "base_uri": "https://localhost:8080/"
        },
        "outputId": "c4bb6d47-b080-4495-bb7c-006e3dfb77bb"
      },
      "source": [
        "data = data.assign(primary = data['primary'].astype('category'))\n",
        "data = data.assign(secondary = data['secondary'].astype('category'))\n",
        "data.dtypes"
      ],
      "execution_count": null,
      "outputs": [
        {
          "output_type": "execute_result",
          "data": {
            "text/plain": [
              "champion                object\n",
              "title                   object\n",
              "primary               category\n",
              "secondary             category\n",
              "release_date    datetime64[ns]\n",
              "base_attack            float64\n",
              "base_health            float64\n",
              "dtype: object"
            ]
          },
          "metadata": {},
          "execution_count": 198
        }
      ]
    }
  ]
}