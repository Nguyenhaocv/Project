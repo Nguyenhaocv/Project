{
  "nbformat": 4,
  "nbformat_minor": 0,
  "metadata": {
    "colab": {
      "provenance": []
    },
    "kernelspec": {
      "name": "python3",
      "display_name": "Python 3"
    }
  },
  "cells": [
    {
      "cell_type": "markdown",
      "metadata": {
        "id": "e5GMlNdhoIJW"
      },
      "source": [
        "Thực hiện ô dưới đây để tạo ra một `DataFrame` có tên là `df`.\n",
        "\n",
        "*Thông tin thêm*: đây là dữ liệu thống kê của kỳ Euro 2012. Mỗi dòng là một đôi tham dự. Mỗi cột là một thông tin được ghi nhận lại."
      ]
    },
    {
      "cell_type": "code",
      "metadata": {
        "id": "Lb40gB--oHqg"
      },
      "source": [
        "import pandas as pd\n",
        "\n",
        "df = pd.read_csv('https://raw.githubusercontent.com/guipsamora/pandas_exercises/master/02_Filtering_%26_Sorting/Euro12/Euro_2012_stats_TEAM.csv')"
      ],
      "execution_count": null,
      "outputs": []
    },
    {
      "cell_type": "markdown",
      "metadata": {
        "id": "2FBRPQjgodNA"
      },
      "source": [
        "**Câu 1**: In ra số dòng và số cột của `df`."
      ]
    },
    {
      "cell_type": "code",
      "metadata": {
        "id": "fZEBb5G2oEXs",
        "colab": {
          "base_uri": "https://localhost:8080/"
        },
        "outputId": "21872f7c-67c6-43f3-aa03-5a7ae221dd45"
      },
      "source": [
        "df.shape"
      ],
      "execution_count": null,
      "outputs": [
        {
          "output_type": "execute_result",
          "data": {
            "text/plain": [
              "(16, 35)"
            ]
          },
          "metadata": {},
          "execution_count": 10
        }
      ]
    },
    {
      "cell_type": "markdown",
      "metadata": {
        "id": "5WqJCq_DpQm8"
      },
      "source": [
        "**Câu 2**: In ra tên các cột của `df`."
      ]
    },
    {
      "cell_type": "code",
      "metadata": {
        "id": "C00hkDybpWrG",
        "colab": {
          "base_uri": "https://localhost:8080/"
        },
        "outputId": "1714b082-3411-4715-97a4-a2dc5c81fa48"
      },
      "source": [
        "df.columns"
      ],
      "execution_count": null,
      "outputs": [
        {
          "output_type": "execute_result",
          "data": {
            "text/plain": [
              "Index(['Team', 'Goals', 'Shots on target', 'Shots off target',\n",
              "       'Shooting Accuracy', '% Goals-to-shots', 'Total shots (inc. Blocked)',\n",
              "       'Hit Woodwork', 'Penalty goals', 'Penalties not scored', 'Headed goals',\n",
              "       'Passes', 'Passes completed', 'Passing Accuracy', 'Touches', 'Crosses',\n",
              "       'Dribbles', 'Corners Taken', 'Tackles', 'Clearances', 'Interceptions',\n",
              "       'Clearances off line', 'Clean Sheets', 'Blocks', 'Goals conceded',\n",
              "       'Saves made', 'Saves-to-shots ratio', 'Fouls Won', 'Fouls Conceded',\n",
              "       'Offsides', 'Yellow Cards', 'Red Cards', 'Subs on', 'Subs off',\n",
              "       'Players Used'],\n",
              "      dtype='object')"
            ]
          },
          "metadata": {},
          "execution_count": 11
        }
      ]
    },
    {
      "cell_type": "markdown",
      "metadata": {
        "id": "yFxs3m8fpgJs"
      },
      "source": [
        "**Câu 3**: In ra kiểu dữ liệu của các cột."
      ]
    },
    {
      "cell_type": "code",
      "metadata": {
        "id": "HWO2GVxgplWj",
        "colab": {
          "base_uri": "https://localhost:8080/"
        },
        "outputId": "43092b1d-8ed9-4828-d73d-92586d231535"
      },
      "source": [
        "df.dtypes"
      ],
      "execution_count": null,
      "outputs": [
        {
          "output_type": "execute_result",
          "data": {
            "text/plain": [
              "Team                           object\n",
              "Goals                           int64\n",
              "Shots on target                 int64\n",
              "Shots off target                int64\n",
              "Shooting Accuracy              object\n",
              "% Goals-to-shots               object\n",
              "Total shots (inc. Blocked)      int64\n",
              "Hit Woodwork                    int64\n",
              "Penalty goals                   int64\n",
              "Penalties not scored            int64\n",
              "Headed goals                    int64\n",
              "Passes                          int64\n",
              "Passes completed                int64\n",
              "Passing Accuracy               object\n",
              "Touches                         int64\n",
              "Crosses                         int64\n",
              "Dribbles                        int64\n",
              "Corners Taken                   int64\n",
              "Tackles                         int64\n",
              "Clearances                      int64\n",
              "Interceptions                   int64\n",
              "Clearances off line           float64\n",
              "Clean Sheets                    int64\n",
              "Blocks                          int64\n",
              "Goals conceded                  int64\n",
              "Saves made                      int64\n",
              "Saves-to-shots ratio           object\n",
              "Fouls Won                       int64\n",
              "Fouls Conceded                  int64\n",
              "Offsides                        int64\n",
              "Yellow Cards                    int64\n",
              "Red Cards                       int64\n",
              "Subs on                         int64\n",
              "Subs off                        int64\n",
              "Players Used                    int64\n",
              "dtype: object"
            ]
          },
          "metadata": {},
          "execution_count": 12
        }
      ]
    },
    {
      "cell_type": "markdown",
      "metadata": {
        "id": "Lxj-ivlzpmNE"
      },
      "source": [
        "**Câu 4**: Lấy ra các cột `Team` (đội) và `Goals` (số bàn thắng) từ `df` và lưu vào biến `goals`."
      ]
    },
    {
      "cell_type": "code",
      "metadata": {
        "id": "Kgg9ADlvpl5n",
        "colab": {
          "base_uri": "https://localhost:8080/",
          "height": 551
        },
        "outputId": "1341d0a6-2da1-41bc-8cea-d54d1b7f740e"
      },
      "source": [
        "goals = df[['Team','Goals']]\n",
        "goals"
      ],
      "execution_count": null,
      "outputs": [
        {
          "output_type": "execute_result",
          "data": {
            "text/html": [
              "<div>\n",
              "<style scoped>\n",
              "    .dataframe tbody tr th:only-of-type {\n",
              "        vertical-align: middle;\n",
              "    }\n",
              "\n",
              "    .dataframe tbody tr th {\n",
              "        vertical-align: top;\n",
              "    }\n",
              "\n",
              "    .dataframe thead th {\n",
              "        text-align: right;\n",
              "    }\n",
              "</style>\n",
              "<table border=\"1\" class=\"dataframe\">\n",
              "  <thead>\n",
              "    <tr style=\"text-align: right;\">\n",
              "      <th></th>\n",
              "      <th>Team</th>\n",
              "      <th>Goals</th>\n",
              "    </tr>\n",
              "  </thead>\n",
              "  <tbody>\n",
              "    <tr>\n",
              "      <th>0</th>\n",
              "      <td>Croatia</td>\n",
              "      <td>4</td>\n",
              "    </tr>\n",
              "    <tr>\n",
              "      <th>1</th>\n",
              "      <td>Czech Republic</td>\n",
              "      <td>4</td>\n",
              "    </tr>\n",
              "    <tr>\n",
              "      <th>2</th>\n",
              "      <td>Denmark</td>\n",
              "      <td>4</td>\n",
              "    </tr>\n",
              "    <tr>\n",
              "      <th>3</th>\n",
              "      <td>England</td>\n",
              "      <td>5</td>\n",
              "    </tr>\n",
              "    <tr>\n",
              "      <th>4</th>\n",
              "      <td>France</td>\n",
              "      <td>3</td>\n",
              "    </tr>\n",
              "    <tr>\n",
              "      <th>5</th>\n",
              "      <td>Germany</td>\n",
              "      <td>10</td>\n",
              "    </tr>\n",
              "    <tr>\n",
              "      <th>6</th>\n",
              "      <td>Greece</td>\n",
              "      <td>5</td>\n",
              "    </tr>\n",
              "    <tr>\n",
              "      <th>7</th>\n",
              "      <td>Italy</td>\n",
              "      <td>6</td>\n",
              "    </tr>\n",
              "    <tr>\n",
              "      <th>8</th>\n",
              "      <td>Netherlands</td>\n",
              "      <td>2</td>\n",
              "    </tr>\n",
              "    <tr>\n",
              "      <th>9</th>\n",
              "      <td>Poland</td>\n",
              "      <td>2</td>\n",
              "    </tr>\n",
              "    <tr>\n",
              "      <th>10</th>\n",
              "      <td>Portugal</td>\n",
              "      <td>6</td>\n",
              "    </tr>\n",
              "    <tr>\n",
              "      <th>11</th>\n",
              "      <td>Republic of Ireland</td>\n",
              "      <td>1</td>\n",
              "    </tr>\n",
              "    <tr>\n",
              "      <th>12</th>\n",
              "      <td>Russia</td>\n",
              "      <td>5</td>\n",
              "    </tr>\n",
              "    <tr>\n",
              "      <th>13</th>\n",
              "      <td>Spain</td>\n",
              "      <td>12</td>\n",
              "    </tr>\n",
              "    <tr>\n",
              "      <th>14</th>\n",
              "      <td>Sweden</td>\n",
              "      <td>5</td>\n",
              "    </tr>\n",
              "    <tr>\n",
              "      <th>15</th>\n",
              "      <td>Ukraine</td>\n",
              "      <td>2</td>\n",
              "    </tr>\n",
              "  </tbody>\n",
              "</table>\n",
              "</div>"
            ],
            "text/plain": [
              "                   Team  Goals\n",
              "0               Croatia      4\n",
              "1        Czech Republic      4\n",
              "2               Denmark      4\n",
              "3               England      5\n",
              "4                France      3\n",
              "5               Germany     10\n",
              "6                Greece      5\n",
              "7                 Italy      6\n",
              "8           Netherlands      2\n",
              "9                Poland      2\n",
              "10             Portugal      6\n",
              "11  Republic of Ireland      1\n",
              "12               Russia      5\n",
              "13                Spain     12\n",
              "14               Sweden      5\n",
              "15              Ukraine      2"
            ]
          },
          "metadata": {},
          "execution_count": 16
        }
      ]
    },
    {
      "cell_type": "markdown",
      "metadata": {
        "id": "6nHLX537p8T1"
      },
      "source": [
        "**Câu 5**: In ra đội có nhiều bàn thắng nhất, ít bàn thắng nhất (dùng DataFrame `goals` ở câu 4)\n",
        "\n",
        "*Gợi ý*: dùng `.sort_values()` và `.iloc[]`."
      ]
    },
    {
      "cell_type": "code",
      "metadata": {
        "id": "I5l_EZ_7qWW3",
        "colab": {
          "base_uri": "https://localhost:8080/"
        },
        "outputId": "c09ab067-751f-49bb-b6dc-5257e4310891"
      },
      "source": [
        "goals.sort_values('Goals').iloc[-1]"
      ],
      "execution_count": null,
      "outputs": [
        {
          "output_type": "execute_result",
          "data": {
            "text/plain": [
              "Team     Spain\n",
              "Goals       12\n",
              "Name: 13, dtype: object"
            ]
          },
          "metadata": {},
          "execution_count": 38
        }
      ]
    },
    {
      "cell_type": "code",
      "metadata": {
        "id": "7qpN_XKqXwr8",
        "colab": {
          "base_uri": "https://localhost:8080/"
        },
        "outputId": "7c127bee-2307-477d-8da5-cad8a7fbb3a7"
      },
      "source": [
        "goals.sort_values('Goals').iloc[0]"
      ],
      "execution_count": null,
      "outputs": [
        {
          "output_type": "execute_result",
          "data": {
            "text/plain": [
              "Team     Republic of Ireland\n",
              "Goals                      1\n",
              "Name: 11, dtype: object"
            ]
          },
          "metadata": {},
          "execution_count": 41
        }
      ]
    },
    {
      "cell_type": "markdown",
      "metadata": {
        "id": "ohILl8Zbqe78"
      },
      "source": [
        "**Câu 5**: In ra số bàn thắng trung bình."
      ]
    },
    {
      "cell_type": "code",
      "metadata": {
        "id": "kgLzX3Nfqj8B",
        "colab": {
          "base_uri": "https://localhost:8080/"
        },
        "outputId": "a19e6732-2158-4069-cf72-3924bfee0cfa"
      },
      "source": [
        "goals['Goals'].mean()"
      ],
      "execution_count": null,
      "outputs": [
        {
          "output_type": "execute_result",
          "data": {
            "text/plain": [
              "4.75"
            ]
          },
          "metadata": {},
          "execution_count": 43
        }
      ]
    },
    {
      "cell_type": "markdown",
      "metadata": {
        "id": "lyqxVAkGqmzE"
      },
      "source": [
        "**Câu 6**: Lấy ra các cột `Team`, `Yellow Cards` và `Red Cards` từ `df` và lưu vào biến `cards`."
      ]
    },
    {
      "cell_type": "code",
      "metadata": {
        "id": "mjMD-EZArLLd",
        "colab": {
          "base_uri": "https://localhost:8080/",
          "height": 551
        },
        "outputId": "cfe18f5e-91df-4df1-a90f-ff2c6c3025ff"
      },
      "source": [
        "cards = df[['Team','Yellow Cards','Red Cards']]\n",
        "cards"
      ],
      "execution_count": null,
      "outputs": [
        {
          "output_type": "execute_result",
          "data": {
            "text/html": [
              "<div>\n",
              "<style scoped>\n",
              "    .dataframe tbody tr th:only-of-type {\n",
              "        vertical-align: middle;\n",
              "    }\n",
              "\n",
              "    .dataframe tbody tr th {\n",
              "        vertical-align: top;\n",
              "    }\n",
              "\n",
              "    .dataframe thead th {\n",
              "        text-align: right;\n",
              "    }\n",
              "</style>\n",
              "<table border=\"1\" class=\"dataframe\">\n",
              "  <thead>\n",
              "    <tr style=\"text-align: right;\">\n",
              "      <th></th>\n",
              "      <th>Team</th>\n",
              "      <th>Yellow Cards</th>\n",
              "      <th>Red Cards</th>\n",
              "    </tr>\n",
              "  </thead>\n",
              "  <tbody>\n",
              "    <tr>\n",
              "      <th>0</th>\n",
              "      <td>Croatia</td>\n",
              "      <td>9</td>\n",
              "      <td>0</td>\n",
              "    </tr>\n",
              "    <tr>\n",
              "      <th>1</th>\n",
              "      <td>Czech Republic</td>\n",
              "      <td>7</td>\n",
              "      <td>0</td>\n",
              "    </tr>\n",
              "    <tr>\n",
              "      <th>2</th>\n",
              "      <td>Denmark</td>\n",
              "      <td>4</td>\n",
              "      <td>0</td>\n",
              "    </tr>\n",
              "    <tr>\n",
              "      <th>3</th>\n",
              "      <td>England</td>\n",
              "      <td>5</td>\n",
              "      <td>0</td>\n",
              "    </tr>\n",
              "    <tr>\n",
              "      <th>4</th>\n",
              "      <td>France</td>\n",
              "      <td>6</td>\n",
              "      <td>0</td>\n",
              "    </tr>\n",
              "    <tr>\n",
              "      <th>5</th>\n",
              "      <td>Germany</td>\n",
              "      <td>4</td>\n",
              "      <td>0</td>\n",
              "    </tr>\n",
              "    <tr>\n",
              "      <th>6</th>\n",
              "      <td>Greece</td>\n",
              "      <td>9</td>\n",
              "      <td>1</td>\n",
              "    </tr>\n",
              "    <tr>\n",
              "      <th>7</th>\n",
              "      <td>Italy</td>\n",
              "      <td>16</td>\n",
              "      <td>0</td>\n",
              "    </tr>\n",
              "    <tr>\n",
              "      <th>8</th>\n",
              "      <td>Netherlands</td>\n",
              "      <td>5</td>\n",
              "      <td>0</td>\n",
              "    </tr>\n",
              "    <tr>\n",
              "      <th>9</th>\n",
              "      <td>Poland</td>\n",
              "      <td>7</td>\n",
              "      <td>1</td>\n",
              "    </tr>\n",
              "    <tr>\n",
              "      <th>10</th>\n",
              "      <td>Portugal</td>\n",
              "      <td>12</td>\n",
              "      <td>0</td>\n",
              "    </tr>\n",
              "    <tr>\n",
              "      <th>11</th>\n",
              "      <td>Republic of Ireland</td>\n",
              "      <td>6</td>\n",
              "      <td>1</td>\n",
              "    </tr>\n",
              "    <tr>\n",
              "      <th>12</th>\n",
              "      <td>Russia</td>\n",
              "      <td>6</td>\n",
              "      <td>0</td>\n",
              "    </tr>\n",
              "    <tr>\n",
              "      <th>13</th>\n",
              "      <td>Spain</td>\n",
              "      <td>11</td>\n",
              "      <td>0</td>\n",
              "    </tr>\n",
              "    <tr>\n",
              "      <th>14</th>\n",
              "      <td>Sweden</td>\n",
              "      <td>7</td>\n",
              "      <td>0</td>\n",
              "    </tr>\n",
              "    <tr>\n",
              "      <th>15</th>\n",
              "      <td>Ukraine</td>\n",
              "      <td>5</td>\n",
              "      <td>0</td>\n",
              "    </tr>\n",
              "  </tbody>\n",
              "</table>\n",
              "</div>"
            ],
            "text/plain": [
              "                   Team  Yellow Cards  Red Cards\n",
              "0               Croatia             9          0\n",
              "1        Czech Republic             7          0\n",
              "2               Denmark             4          0\n",
              "3               England             5          0\n",
              "4                France             6          0\n",
              "5               Germany             4          0\n",
              "6                Greece             9          1\n",
              "7                 Italy            16          0\n",
              "8           Netherlands             5          0\n",
              "9                Poland             7          1\n",
              "10             Portugal            12          0\n",
              "11  Republic of Ireland             6          1\n",
              "12               Russia             6          0\n",
              "13                Spain            11          0\n",
              "14               Sweden             7          0\n",
              "15              Ukraine             5          0"
            ]
          },
          "metadata": {},
          "execution_count": 45
        }
      ]
    },
    {
      "cell_type": "markdown",
      "metadata": {
        "id": "alM_2CB9rMC2"
      },
      "source": [
        "**Câu 7**: Đổi tên các cột của `cards` thành `'team'`, `'yellow_cards'` và `'red_cards'`."
      ]
    },
    {
      "cell_type": "code",
      "metadata": {
        "id": "u3C3itHBrfVp",
        "colab": {
          "base_uri": "https://localhost:8080/",
          "height": 551
        },
        "outputId": "cf96adfc-ea5f-4489-861f-5a409685aff2"
      },
      "source": [
        "cards.columns = ['team','yellow_cards','read_cards']\n",
        "cards"
      ],
      "execution_count": null,
      "outputs": [
        {
          "output_type": "execute_result",
          "data": {
            "text/html": [
              "<div>\n",
              "<style scoped>\n",
              "    .dataframe tbody tr th:only-of-type {\n",
              "        vertical-align: middle;\n",
              "    }\n",
              "\n",
              "    .dataframe tbody tr th {\n",
              "        vertical-align: top;\n",
              "    }\n",
              "\n",
              "    .dataframe thead th {\n",
              "        text-align: right;\n",
              "    }\n",
              "</style>\n",
              "<table border=\"1\" class=\"dataframe\">\n",
              "  <thead>\n",
              "    <tr style=\"text-align: right;\">\n",
              "      <th></th>\n",
              "      <th>team</th>\n",
              "      <th>yellow_cards</th>\n",
              "      <th>read_cards</th>\n",
              "    </tr>\n",
              "  </thead>\n",
              "  <tbody>\n",
              "    <tr>\n",
              "      <th>0</th>\n",
              "      <td>Croatia</td>\n",
              "      <td>9</td>\n",
              "      <td>0</td>\n",
              "    </tr>\n",
              "    <tr>\n",
              "      <th>1</th>\n",
              "      <td>Czech Republic</td>\n",
              "      <td>7</td>\n",
              "      <td>0</td>\n",
              "    </tr>\n",
              "    <tr>\n",
              "      <th>2</th>\n",
              "      <td>Denmark</td>\n",
              "      <td>4</td>\n",
              "      <td>0</td>\n",
              "    </tr>\n",
              "    <tr>\n",
              "      <th>3</th>\n",
              "      <td>England</td>\n",
              "      <td>5</td>\n",
              "      <td>0</td>\n",
              "    </tr>\n",
              "    <tr>\n",
              "      <th>4</th>\n",
              "      <td>France</td>\n",
              "      <td>6</td>\n",
              "      <td>0</td>\n",
              "    </tr>\n",
              "    <tr>\n",
              "      <th>5</th>\n",
              "      <td>Germany</td>\n",
              "      <td>4</td>\n",
              "      <td>0</td>\n",
              "    </tr>\n",
              "    <tr>\n",
              "      <th>6</th>\n",
              "      <td>Greece</td>\n",
              "      <td>9</td>\n",
              "      <td>1</td>\n",
              "    </tr>\n",
              "    <tr>\n",
              "      <th>7</th>\n",
              "      <td>Italy</td>\n",
              "      <td>16</td>\n",
              "      <td>0</td>\n",
              "    </tr>\n",
              "    <tr>\n",
              "      <th>8</th>\n",
              "      <td>Netherlands</td>\n",
              "      <td>5</td>\n",
              "      <td>0</td>\n",
              "    </tr>\n",
              "    <tr>\n",
              "      <th>9</th>\n",
              "      <td>Poland</td>\n",
              "      <td>7</td>\n",
              "      <td>1</td>\n",
              "    </tr>\n",
              "    <tr>\n",
              "      <th>10</th>\n",
              "      <td>Portugal</td>\n",
              "      <td>12</td>\n",
              "      <td>0</td>\n",
              "    </tr>\n",
              "    <tr>\n",
              "      <th>11</th>\n",
              "      <td>Republic of Ireland</td>\n",
              "      <td>6</td>\n",
              "      <td>1</td>\n",
              "    </tr>\n",
              "    <tr>\n",
              "      <th>12</th>\n",
              "      <td>Russia</td>\n",
              "      <td>6</td>\n",
              "      <td>0</td>\n",
              "    </tr>\n",
              "    <tr>\n",
              "      <th>13</th>\n",
              "      <td>Spain</td>\n",
              "      <td>11</td>\n",
              "      <td>0</td>\n",
              "    </tr>\n",
              "    <tr>\n",
              "      <th>14</th>\n",
              "      <td>Sweden</td>\n",
              "      <td>7</td>\n",
              "      <td>0</td>\n",
              "    </tr>\n",
              "    <tr>\n",
              "      <th>15</th>\n",
              "      <td>Ukraine</td>\n",
              "      <td>5</td>\n",
              "      <td>0</td>\n",
              "    </tr>\n",
              "  </tbody>\n",
              "</table>\n",
              "</div>"
            ],
            "text/plain": [
              "                   team  yellow_cards  read_cards\n",
              "0               Croatia             9           0\n",
              "1        Czech Republic             7           0\n",
              "2               Denmark             4           0\n",
              "3               England             5           0\n",
              "4                France             6           0\n",
              "5               Germany             4           0\n",
              "6                Greece             9           1\n",
              "7                 Italy            16           0\n",
              "8           Netherlands             5           0\n",
              "9                Poland             7           1\n",
              "10             Portugal            12           0\n",
              "11  Republic of Ireland             6           1\n",
              "12               Russia             6           0\n",
              "13                Spain            11           0\n",
              "14               Sweden             7           0\n",
              "15              Ukraine             5           0"
            ]
          },
          "metadata": {},
          "execution_count": 46
        }
      ]
    },
    {
      "cell_type": "markdown",
      "metadata": {
        "id": "FU8Y6m3ZrgWc"
      },
      "source": [
        "**Câu 8**: In ra đội nhận nhiều thẻ vàng nhất."
      ]
    },
    {
      "cell_type": "code",
      "metadata": {
        "id": "DsTilWpDrmB5",
        "colab": {
          "base_uri": "https://localhost:8080/"
        },
        "outputId": "22800fe9-bbb3-422d-e5a5-67293b3183da"
      },
      "source": [
        "cards.sort_values('yellow_cards').iloc[-1]"
      ],
      "execution_count": null,
      "outputs": [
        {
          "output_type": "execute_result",
          "data": {
            "text/plain": [
              "team            Italy\n",
              "yellow_cards       16\n",
              "read_cards          0\n",
              "Name: 7, dtype: object"
            ]
          },
          "metadata": {},
          "execution_count": 47
        }
      ]
    },
    {
      "cell_type": "markdown",
      "metadata": {
        "id": "LNJtiR3BrnIO"
      },
      "source": [
        "**Câu 9**: In ra số lượng thẻ vàng trung bình."
      ]
    },
    {
      "cell_type": "code",
      "metadata": {
        "id": "K6qQRuxnrr_j",
        "colab": {
          "base_uri": "https://localhost:8080/"
        },
        "outputId": "06bd353d-f499-4f97-dcd5-673018f5f14d"
      },
      "source": [
        "cards['yellow_cards'].mean()"
      ],
      "execution_count": null,
      "outputs": [
        {
          "output_type": "execute_result",
          "data": {
            "text/plain": [
              "7.4375"
            ]
          },
          "metadata": {},
          "execution_count": 48
        }
      ]
    },
    {
      "cell_type": "markdown",
      "metadata": {
        "id": "JcGF1m77rss9"
      },
      "source": [
        "**Câu 10**: In ra các đội bị nhận thẻ đỏ."
      ]
    },
    {
      "cell_type": "code",
      "metadata": {
        "id": "_eIXkBLDrxNc",
        "colab": {
          "base_uri": "https://localhost:8080/"
        },
        "outputId": "1ee85861-cbca-4e23-858d-b7340427bd05"
      },
      "source": [
        "cards.team[cards.read_cards >= 1]"
      ],
      "execution_count": null,
      "outputs": [
        {
          "output_type": "execute_result",
          "data": {
            "text/plain": [
              "6                  Greece\n",
              "9                  Poland\n",
              "11    Republic of Ireland\n",
              "Name: team, dtype: object"
            ]
          },
          "metadata": {},
          "execution_count": 50
        }
      ]
    },
    {
      "cell_type": "markdown",
      "metadata": {
        "id": "PplD-7hirxxe"
      },
      "source": [
        "**Câu 11**: In ra các đội có số lượng thẻ vàng nhiều hơn số thẻ vàng trung bình (mà các đội phải nhận)."
      ]
    },
    {
      "cell_type": "code",
      "metadata": {
        "id": "HfO-4piSr-U0",
        "colab": {
          "base_uri": "https://localhost:8080/"
        },
        "outputId": "72ed7c26-59e9-4934-e464-f72a0f119882"
      },
      "source": [
        "cards.team[cards.yellow_cards > cards.yellow_cards.mean()]"
      ],
      "execution_count": null,
      "outputs": [
        {
          "output_type": "execute_result",
          "data": {
            "text/plain": [
              "0      Croatia\n",
              "6       Greece\n",
              "7        Italy\n",
              "10    Portugal\n",
              "13       Spain\n",
              "Name: team, dtype: object"
            ]
          },
          "metadata": {},
          "execution_count": 53
        }
      ]
    },
    {
      "cell_type": "markdown",
      "metadata": {
        "id": "RD5ki2RlsOhW"
      },
      "source": [
        "**Câu 12**: Sắp xếp `df` theo `'Shooting Accuracy'` tăng dần."
      ]
    },
    {
      "cell_type": "code",
      "metadata": {
        "id": "SRD_sUnbsYsI",
        "colab": {
          "base_uri": "https://localhost:8080/"
        },
        "outputId": "ccb3cde9-c878-4d73-afc5-c709c6c20e44"
      },
      "source": [
        "df['Shooting Accuracy'].sort_values(ascending= True)"
      ],
      "execution_count": null,
      "outputs": [
        {
          "output_type": "execute_result",
          "data": {
            "text/plain": [
              "15    21.2%\n",
              "12    22.5%\n",
              "8     25.0%\n",
              "6     30.7%\n",
              "10    34.3%\n",
              "11    36.8%\n",
              "4     37.9%\n",
              "9     39.4%\n",
              "1     41.9%\n",
              "7     43.0%\n",
              "14    47.2%\n",
              "5     47.8%\n",
              "2     50.0%\n",
              "3     50.0%\n",
              "0     51.9%\n",
              "13    55.9%\n",
              "Name: Shooting Accuracy, dtype: object"
            ]
          },
          "metadata": {},
          "execution_count": 63
        }
      ]
    },
    {
      "cell_type": "markdown",
      "metadata": {
        "id": "W9lPMGPoseGM"
      },
      "source": [
        "**Câu 13**: In ra các đội có bàn thắng được ghi từ chấm phạt đền (thông tin về số bàn thắng ghi từ chấm phạt đền được ghi trong cột `'Penalty goals'`)"
      ]
    },
    {
      "cell_type": "code",
      "metadata": {
        "id": "c2s464CCs0rr",
        "colab": {
          "base_uri": "https://localhost:8080/"
        },
        "outputId": "6646ea32-7341-42bf-8387-c7cc54d593cc"
      },
      "source": [
        "df.Team[df['Penalty goals'] >= 1]"
      ],
      "execution_count": null,
      "outputs": [
        {
          "output_type": "execute_result",
          "data": {
            "text/plain": [
              "5     Germany\n",
              "6      Greece\n",
              "13      Spain\n",
              "Name: Team, dtype: object"
            ]
          },
          "metadata": {},
          "execution_count": 67
        }
      ]
    },
    {
      "cell_type": "markdown",
      "metadata": {
        "id": "QngPYxN_tYA8"
      },
      "source": [
        "**Câu 14**: Trong số những đội có ít nhất 5 bàn thắng, đội nào có `'Shots on target'` lớn nhất, đội nào có `'Shots off target'` nhỏ nhất."
      ]
    },
    {
      "cell_type": "code",
      "metadata": {
        "id": "vHB3d6mlt5Q-",
        "colab": {
          "base_uri": "https://localhost:8080/"
        },
        "outputId": "4b1e3b4b-2cea-4810-81ea-b261acd4cf5e"
      },
      "source": [
        "df[df.Goals >= 5].Team[df['Shots on target'] == df['Shots on target'].max()]"
      ],
      "execution_count": null,
      "outputs": [
        {
          "output_type": "execute_result",
          "data": {
            "text/plain": [
              "13    Spain\n",
              "Name: Team, dtype: object"
            ]
          },
          "metadata": {},
          "execution_count": 135
        }
      ]
    },
    {
      "cell_type": "code",
      "metadata": {
        "id": "Mq1eVlGHlrKr",
        "colab": {
          "base_uri": "https://localhost:8080/"
        },
        "outputId": "479335ee-3d22-4f4c-a2a3-7986e0ee4c8f"
      },
      "source": [
        "mini = df[df.Goals >= 5]\n",
        "mini.Team[mini['Shots off target'] == mini['Shots off target'].min() ]"
      ],
      "execution_count": null,
      "outputs": [
        {
          "output_type": "execute_result",
          "data": {
            "text/plain": [
              "3    England\n",
              "6     Greece\n",
              "Name: Team, dtype: object"
            ]
          },
          "metadata": {},
          "execution_count": 140
        }
      ]
    }
  ]
}