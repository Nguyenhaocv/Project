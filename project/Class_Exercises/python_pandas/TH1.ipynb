{
  "nbformat": 4,
  "nbformat_minor": 0,
  "metadata": {
    "kernelspec": {
      "display_name": "Python 3",
      "language": "python",
      "name": "python3"
    },
    "language_info": {
      "codemirror_mode": {
        "name": "ipython",
        "version": 3
      },
      "file_extension": ".py",
      "mimetype": "text/x-python",
      "name": "python",
      "nbconvert_exporter": "python",
      "pygments_lexer": "ipython3",
      "version": "3.7.6"
    },
    "colab": {
      "provenance": []
    }
  },
  "cells": [
    {
      "cell_type": "markdown",
      "metadata": {
        "id": "f7dC0Ld1gdTH"
      },
      "source": [
        "Nội dung thực hành: Các bài lý thuyết 1, 2, 3."
      ]
    },
    {
      "cell_type": "code",
      "metadata": {
        "id": "QCJzTznfgdXL"
      },
      "source": [
        "# import các thư viện cần thiết\n",
        "\n",
        "import pandas as pd\n",
        "import numpy as np"
      ],
      "execution_count": 3,
      "outputs": []
    },
    {
      "cell_type": "markdown",
      "metadata": {
        "id": "uEWZiU2cgdXQ"
      },
      "source": [
        "Câu 1. Tạo series s1 từ list các chữ cái từ a đến f như sau: \\['a', 'b', ... , 'f'\\]. In s1."
      ]
    },
    {
      "cell_type": "code",
      "metadata": {
        "colab": {
          "base_uri": "https://localhost:8080/"
        },
        "id": "ybXHoHf2gdXm",
        "outputId": "2811995e-fb68-4e1a-a72f-f21d318aa02d"
      },
      "source": [
        "s1 = pd.Series(['a','b','c','d','e','f'])\n",
        "s1"
      ],
      "execution_count": 4,
      "outputs": [
        {
          "output_type": "execute_result",
          "data": {
            "text/plain": [
              "0    a\n",
              "1    b\n",
              "2    c\n",
              "3    d\n",
              "4    e\n",
              "5    f\n",
              "dtype: object"
            ]
          },
          "metadata": {},
          "execution_count": 4
        }
      ]
    },
    {
      "cell_type": "markdown",
      "metadata": {
        "id": "RGOK62ZcgdXn"
      },
      "source": [
        "Câu 2. Tạo lại series s1 như trên, nhưng lần này đặt index là chữ cái in hoa tương ứng của các chữ cái. In s1."
      ]
    },
    {
      "cell_type": "code",
      "metadata": {
        "colab": {
          "base_uri": "https://localhost:8080/"
        },
        "id": "SefJSHFngdXn",
        "outputId": "4703e050-45fd-47fe-a415-f65151dadd6f"
      },
      "source": [
        "s1 = pd.Series(['a','b','c','d','e','f'],['A','B','C','D','E','F'])\n",
        "s1"
      ],
      "execution_count": 5,
      "outputs": [
        {
          "output_type": "execute_result",
          "data": {
            "text/plain": [
              "A    a\n",
              "B    b\n",
              "C    c\n",
              "D    d\n",
              "E    e\n",
              "F    f\n",
              "dtype: object"
            ]
          },
          "metadata": {},
          "execution_count": 5
        }
      ]
    },
    {
      "cell_type": "markdown",
      "metadata": {
        "id": "yi0Nk4fVgdXo"
      },
      "source": [
        "Câu 3. Tạo một dictionary với key là \\['JP', 'KR', 'PL', 'RU' 'UK', 'US'\\] tương ứng với các giá trị \\['Japan', 'Korea', 'Poland', 'Russia', 'United Kingdom', 'United States'\\].\n",
        "\n",
        "Từ dictionary này tạo series s2. In s2."
      ]
    },
    {
      "cell_type": "code",
      "metadata": {
        "colab": {
          "base_uri": "https://localhost:8080/"
        },
        "id": "vWk94yZOgdYH",
        "outputId": "bfa51d13-dc94-4267-9971-e72301ec5d97"
      },
      "source": [
        "dic ={'JP':'Japan','KR':'KOREA','PL':\"POLAND\",'RU':\"RUSSIA\",'UK':\"United Kingdom\", 'US':'United States'}\n",
        "s2 = pd.Series(dic)\n",
        "s2"
      ],
      "execution_count": 6,
      "outputs": [
        {
          "output_type": "execute_result",
          "data": {
            "text/plain": [
              "JP             Japan\n",
              "KR             KOREA\n",
              "PL            POLAND\n",
              "RU            RUSSIA\n",
              "UK    United Kingdom\n",
              "US     United States\n",
              "dtype: object"
            ]
          },
          "metadata": {},
          "execution_count": 6
        }
      ]
    },
    {
      "cell_type": "markdown",
      "metadata": {
        "id": "Yt2IdpTPitac"
      },
      "source": []
    },
    {
      "cell_type": "markdown",
      "metadata": {
        "id": "lHj9RjeegdYI"
      },
      "source": [
        "Câu 4. Truy xuất phần tử thứ 3 của s2.\n",
        "\n",
        "Truy xuất phần tử có nhãn là 'KR'.\n",
        "\n",
        "In các kết quả truy xuất."
      ]
    },
    {
      "cell_type": "code",
      "metadata": {
        "colab": {
          "base_uri": "https://localhost:8080/",
          "height": 35
        },
        "id": "9EKRQOkGgdYK",
        "outputId": "c0ddb499-bcb3-404f-e8d6-62f305ffc543"
      },
      "source": [
        "s2[2]"
      ],
      "execution_count": 7,
      "outputs": [
        {
          "output_type": "execute_result",
          "data": {
            "text/plain": [
              "'POLAND'"
            ],
            "application/vnd.google.colaboratory.intrinsic+json": {
              "type": "string"
            }
          },
          "metadata": {},
          "execution_count": 7
        }
      ]
    },
    {
      "cell_type": "code",
      "source": [
        "s2['KR']"
      ],
      "metadata": {
        "colab": {
          "base_uri": "https://localhost:8080/",
          "height": 35
        },
        "id": "g1SG2y6aDvHp",
        "outputId": "ddd10348-2799-4004-8566-8f0e9a27a044"
      },
      "execution_count": 8,
      "outputs": [
        {
          "output_type": "execute_result",
          "data": {
            "text/plain": [
              "'KOREA'"
            ],
            "application/vnd.google.colaboratory.intrinsic+json": {
              "type": "string"
            }
          },
          "metadata": {},
          "execution_count": 8
        }
      ]
    },
    {
      "cell_type": "markdown",
      "metadata": {
        "id": "6j2gSQghgdYL"
      },
      "source": [
        "Câu 5. Lấy phần tử kế cuối của s2.\n",
        "\n",
        "Gợi ý: iloc có thể nhận giá trị âm, ví dụ iloc\\[-1\\]."
      ]
    },
    {
      "cell_type": "code",
      "metadata": {
        "colab": {
          "base_uri": "https://localhost:8080/",
          "height": 35
        },
        "id": "EWkFsr7RgdYM",
        "outputId": "a341d382-2151-419f-e5f4-3cde8298d0c8"
      },
      "source": [
        "s2[-2]"
      ],
      "execution_count": 9,
      "outputs": [
        {
          "output_type": "execute_result",
          "data": {
            "text/plain": [
              "'United Kingdom'"
            ],
            "application/vnd.google.colaboratory.intrinsic+json": {
              "type": "string"
            }
          },
          "metadata": {},
          "execution_count": 9
        }
      ]
    },
    {
      "cell_type": "markdown",
      "metadata": {
        "id": "ScGOhqm7gdYN"
      },
      "source": [
        "Câu 6. Dùng hàm datetime để tạo thời điểm 6 giờ 30 phút 17 giây ngày 15 tháng 9 năm 2001. Lưu thời điểm vào biến t1 và in t1."
      ]
    },
    {
      "cell_type": "code",
      "metadata": {
        "colab": {
          "base_uri": "https://localhost:8080/"
        },
        "id": "H8dAfhpKgdYO",
        "outputId": "a09434d9-f05b-43a8-8e44-b1a8654ab17f"
      },
      "source": [
        "t1 = pd.Timestamp(2001,9,15,6,30,17)\n",
        "t1"
      ],
      "execution_count": 10,
      "outputs": [
        {
          "output_type": "execute_result",
          "data": {
            "text/plain": [
              "Timestamp('2001-09-15 06:30:17')"
            ]
          },
          "metadata": {},
          "execution_count": 10
        }
      ]
    },
    {
      "cell_type": "markdown",
      "metadata": {
        "id": "eqG9FXLEgdYP"
      },
      "source": [
        "Câu 7. Dùng strftime để in ra tháng đầy đủ của t1, ở đây là September."
      ]
    },
    {
      "cell_type": "code",
      "metadata": {
        "colab": {
          "base_uri": "https://localhost:8080/",
          "height": 35
        },
        "id": "u8pXYg8HgdYQ",
        "outputId": "24517f4f-1030-4750-f440-56fd1af00da8"
      },
      "source": [
        "t1.strftime('%B,%m')"
      ],
      "execution_count": 11,
      "outputs": [
        {
          "output_type": "execute_result",
          "data": {
            "text/plain": [
              "'September,09'"
            ],
            "application/vnd.google.colaboratory.intrinsic+json": {
              "type": "string"
            }
          },
          "metadata": {},
          "execution_count": 11
        }
      ]
    },
    {
      "cell_type": "markdown",
      "metadata": {
        "id": "S4CrGUBcgdYQ"
      },
      "source": [
        "Câu 8. Dùng hàm date_range của pandas để tạo mảng các ngày cuối cùng của các tháng trong năm 2021. Lưu mảng vào biến d1.\n",
        "\n",
        "Tham khảo https://pandas.pydata.org/docs/user_guide/timeseries.html#timeseries-offset-aliases để chọn được freq phù hợp."
      ]
    },
    {
      "cell_type": "code",
      "metadata": {
        "colab": {
          "base_uri": "https://localhost:8080/"
        },
        "id": "3wgtrk02gdYR",
        "outputId": "53493aea-7046-4f34-ce65-25ce7774f1f7"
      },
      "source": [
        "d1 = pd.date_range('1/2021','1/2022',freq=\"M\")\n",
        "d1"
      ],
      "execution_count": 12,
      "outputs": [
        {
          "output_type": "execute_result",
          "data": {
            "text/plain": [
              "DatetimeIndex(['2021-01-31', '2021-02-28', '2021-03-31', '2021-04-30',\n",
              "               '2021-05-31', '2021-06-30', '2021-07-31', '2021-08-31',\n",
              "               '2021-09-30', '2021-10-31', '2021-11-30', '2021-12-31'],\n",
              "              dtype='datetime64[ns]', freq='M')"
            ]
          },
          "metadata": {},
          "execution_count": 12
        }
      ]
    },
    {
      "cell_type": "markdown",
      "metadata": {
        "id": "vGmljl0GgdYS"
      },
      "source": [
        "Câu 9. Dùng hàm randint của numpy để tạo một mảng gồm 12 số nguyên có giá trị ngẫu nhiên từ 100 đến 1000 và lưu vào biến rand. Gợi ý: Thực hiện các phép tính +-*/ với biến rand và xem thử kết quả.\n",
        "\n",
        "Tạo timeseries từ mảng d1 ở câu 8 và mảng số nguyên vừa tạo, lưu vào biến ts1. In ts1."
      ]
    },
    {
      "cell_type": "code",
      "metadata": {
        "colab": {
          "base_uri": "https://localhost:8080/"
        },
        "id": "icfXVnv6gdYT",
        "outputId": "4ed782b8-a529-43ac-d978-606e6401962e"
      },
      "source": [
        "rand = np.random.randint(100,1000,12)\n",
        "ts1 = pd.Series(rand,d1)\n",
        "ts1"
      ],
      "execution_count": 13,
      "outputs": [
        {
          "output_type": "execute_result",
          "data": {
            "text/plain": [
              "2021-01-31    335\n",
              "2021-02-28    347\n",
              "2021-03-31    107\n",
              "2021-04-30    996\n",
              "2021-05-31    508\n",
              "2021-06-30    669\n",
              "2021-07-31    393\n",
              "2021-08-31    867\n",
              "2021-09-30    776\n",
              "2021-10-31    607\n",
              "2021-11-30    252\n",
              "2021-12-31    359\n",
              "Freq: M, dtype: int64"
            ]
          },
          "metadata": {},
          "execution_count": 13
        }
      ]
    },
    {
      "cell_type": "markdown",
      "metadata": {
        "id": "SZIJya_xgdYU"
      },
      "source": [
        "Câu 10. Tìm trung bình, trung vị và độ lệch chuẩn của ts1. In các kết quả."
      ]
    },
    {
      "cell_type": "code",
      "metadata": {
        "colab": {
          "base_uri": "https://localhost:8080/"
        },
        "id": "gM_kWieTgdYV",
        "outputId": "852b6caf-a28e-423e-af33-b809bfd74a5a"
      },
      "source": [
        "ts1.mean()"
      ],
      "execution_count": 14,
      "outputs": [
        {
          "output_type": "execute_result",
          "data": {
            "text/plain": [
              "518.0"
            ]
          },
          "metadata": {},
          "execution_count": 14
        }
      ]
    },
    {
      "cell_type": "code",
      "metadata": {
        "colab": {
          "base_uri": "https://localhost:8080/"
        },
        "id": "tekVkBnUxD9k",
        "outputId": "f2dc0e45-91d1-40b4-c758-87c2f4ff517d"
      },
      "source": [
        "ts1.median()"
      ],
      "execution_count": 15,
      "outputs": [
        {
          "output_type": "execute_result",
          "data": {
            "text/plain": [
              "450.5"
            ]
          },
          "metadata": {},
          "execution_count": 15
        }
      ]
    },
    {
      "cell_type": "code",
      "metadata": {
        "colab": {
          "base_uri": "https://localhost:8080/"
        },
        "id": "rWAr3ldyxTcD",
        "outputId": "c33960b8-e01d-42cf-9f3c-64da67f27003"
      },
      "source": [
        "ts1.std()"
      ],
      "execution_count": 16,
      "outputs": [
        {
          "output_type": "execute_result",
          "data": {
            "text/plain": [
              "268.15599259318515"
            ]
          },
          "metadata": {},
          "execution_count": 16
        }
      ]
    },
    {
      "cell_type": "markdown",
      "metadata": {
        "id": "smI2dI3KgdYW"
      },
      "source": [
        "Câu 11. Tạo dictionary với các cặp key-value như sau:\n",
        "- Month: \\[1, 2, 3, 4, 5, 6, 7, 8, 9, 10, 11, 12\\]\n",
        "- Customers: \\[341, 243, 223, 464, 534, 543, 356, 378, 289, 330, 254, 285\\]\n",
        "- Profit: \\[3218, 2238, 2038, 4448, 5148, 5238, 3368, 3588, 2698, 3108, 2348, 2658\\]\n",
        "\n",
        "Tạo dataframe từ dictionary này, lưu thành df1. In df1."
      ]
    },
    {
      "cell_type": "code",
      "metadata": {
        "colab": {
          "base_uri": "https://localhost:8080/",
          "height": 425
        },
        "id": "14KXI-cYgdYX",
        "outputId": "4049ab72-41cc-4cf4-cbaf-205f39b361c8"
      },
      "source": [
        "dic= {\n",
        "    'Month': [1, 2, 3, 4, 5, 6, 7, 8, 9, 10, 11, 12],\n",
        "    'Customers': [341, 243, 223, 464, 534, 543, 356, 378, 289, 330, 254, 285],\n",
        "    'Profit': [3218, 2238, 2038, 4448, 5148, 5238, 3368, 3588, 2698, 3108, 2348, 2658]\n",
        "}\n",
        "df1 = pd.DataFrame(dic)\n",
        "df1"
      ],
      "execution_count": 17,
      "outputs": [
        {
          "output_type": "execute_result",
          "data": {
            "text/plain": [
              "    Month  Customers  Profit\n",
              "0       1        341    3218\n",
              "1       2        243    2238\n",
              "2       3        223    2038\n",
              "3       4        464    4448\n",
              "4       5        534    5148\n",
              "5       6        543    5238\n",
              "6       7        356    3368\n",
              "7       8        378    3588\n",
              "8       9        289    2698\n",
              "9      10        330    3108\n",
              "10     11        254    2348\n",
              "11     12        285    2658"
            ],
            "text/html": [
              "\n",
              "  <div id=\"df-d0065991-7140-4ba1-8a5f-9c001122eadb\" class=\"colab-df-container\">\n",
              "    <div>\n",
              "<style scoped>\n",
              "    .dataframe tbody tr th:only-of-type {\n",
              "        vertical-align: middle;\n",
              "    }\n",
              "\n",
              "    .dataframe tbody tr th {\n",
              "        vertical-align: top;\n",
              "    }\n",
              "\n",
              "    .dataframe thead th {\n",
              "        text-align: right;\n",
              "    }\n",
              "</style>\n",
              "<table border=\"1\" class=\"dataframe\">\n",
              "  <thead>\n",
              "    <tr style=\"text-align: right;\">\n",
              "      <th></th>\n",
              "      <th>Month</th>\n",
              "      <th>Customers</th>\n",
              "      <th>Profit</th>\n",
              "    </tr>\n",
              "  </thead>\n",
              "  <tbody>\n",
              "    <tr>\n",
              "      <th>0</th>\n",
              "      <td>1</td>\n",
              "      <td>341</td>\n",
              "      <td>3218</td>\n",
              "    </tr>\n",
              "    <tr>\n",
              "      <th>1</th>\n",
              "      <td>2</td>\n",
              "      <td>243</td>\n",
              "      <td>2238</td>\n",
              "    </tr>\n",
              "    <tr>\n",
              "      <th>2</th>\n",
              "      <td>3</td>\n",
              "      <td>223</td>\n",
              "      <td>2038</td>\n",
              "    </tr>\n",
              "    <tr>\n",
              "      <th>3</th>\n",
              "      <td>4</td>\n",
              "      <td>464</td>\n",
              "      <td>4448</td>\n",
              "    </tr>\n",
              "    <tr>\n",
              "      <th>4</th>\n",
              "      <td>5</td>\n",
              "      <td>534</td>\n",
              "      <td>5148</td>\n",
              "    </tr>\n",
              "    <tr>\n",
              "      <th>5</th>\n",
              "      <td>6</td>\n",
              "      <td>543</td>\n",
              "      <td>5238</td>\n",
              "    </tr>\n",
              "    <tr>\n",
              "      <th>6</th>\n",
              "      <td>7</td>\n",
              "      <td>356</td>\n",
              "      <td>3368</td>\n",
              "    </tr>\n",
              "    <tr>\n",
              "      <th>7</th>\n",
              "      <td>8</td>\n",
              "      <td>378</td>\n",
              "      <td>3588</td>\n",
              "    </tr>\n",
              "    <tr>\n",
              "      <th>8</th>\n",
              "      <td>9</td>\n",
              "      <td>289</td>\n",
              "      <td>2698</td>\n",
              "    </tr>\n",
              "    <tr>\n",
              "      <th>9</th>\n",
              "      <td>10</td>\n",
              "      <td>330</td>\n",
              "      <td>3108</td>\n",
              "    </tr>\n",
              "    <tr>\n",
              "      <th>10</th>\n",
              "      <td>11</td>\n",
              "      <td>254</td>\n",
              "      <td>2348</td>\n",
              "    </tr>\n",
              "    <tr>\n",
              "      <th>11</th>\n",
              "      <td>12</td>\n",
              "      <td>285</td>\n",
              "      <td>2658</td>\n",
              "    </tr>\n",
              "  </tbody>\n",
              "</table>\n",
              "</div>\n",
              "    <div class=\"colab-df-buttons\">\n",
              "\n",
              "  <div class=\"colab-df-container\">\n",
              "    <button class=\"colab-df-convert\" onclick=\"convertToInteractive('df-d0065991-7140-4ba1-8a5f-9c001122eadb')\"\n",
              "            title=\"Convert this dataframe to an interactive table.\"\n",
              "            style=\"display:none;\">\n",
              "\n",
              "  <svg xmlns=\"http://www.w3.org/2000/svg\" height=\"24px\" viewBox=\"0 -960 960 960\">\n",
              "    <path d=\"M120-120v-720h720v720H120Zm60-500h600v-160H180v160Zm220 220h160v-160H400v160Zm0 220h160v-160H400v160ZM180-400h160v-160H180v160Zm440 0h160v-160H620v160ZM180-180h160v-160H180v160Zm440 0h160v-160H620v160Z\"/>\n",
              "  </svg>\n",
              "    </button>\n",
              "\n",
              "  <style>\n",
              "    .colab-df-container {\n",
              "      display:flex;\n",
              "      gap: 12px;\n",
              "    }\n",
              "\n",
              "    .colab-df-convert {\n",
              "      background-color: #E8F0FE;\n",
              "      border: none;\n",
              "      border-radius: 50%;\n",
              "      cursor: pointer;\n",
              "      display: none;\n",
              "      fill: #1967D2;\n",
              "      height: 32px;\n",
              "      padding: 0 0 0 0;\n",
              "      width: 32px;\n",
              "    }\n",
              "\n",
              "    .colab-df-convert:hover {\n",
              "      background-color: #E2EBFA;\n",
              "      box-shadow: 0px 1px 2px rgba(60, 64, 67, 0.3), 0px 1px 3px 1px rgba(60, 64, 67, 0.15);\n",
              "      fill: #174EA6;\n",
              "    }\n",
              "\n",
              "    .colab-df-buttons div {\n",
              "      margin-bottom: 4px;\n",
              "    }\n",
              "\n",
              "    [theme=dark] .colab-df-convert {\n",
              "      background-color: #3B4455;\n",
              "      fill: #D2E3FC;\n",
              "    }\n",
              "\n",
              "    [theme=dark] .colab-df-convert:hover {\n",
              "      background-color: #434B5C;\n",
              "      box-shadow: 0px 1px 3px 1px rgba(0, 0, 0, 0.15);\n",
              "      filter: drop-shadow(0px 1px 2px rgba(0, 0, 0, 0.3));\n",
              "      fill: #FFFFFF;\n",
              "    }\n",
              "  </style>\n",
              "\n",
              "    <script>\n",
              "      const buttonEl =\n",
              "        document.querySelector('#df-d0065991-7140-4ba1-8a5f-9c001122eadb button.colab-df-convert');\n",
              "      buttonEl.style.display =\n",
              "        google.colab.kernel.accessAllowed ? 'block' : 'none';\n",
              "\n",
              "      async function convertToInteractive(key) {\n",
              "        const element = document.querySelector('#df-d0065991-7140-4ba1-8a5f-9c001122eadb');\n",
              "        const dataTable =\n",
              "          await google.colab.kernel.invokeFunction('convertToInteractive',\n",
              "                                                    [key], {});\n",
              "        if (!dataTable) return;\n",
              "\n",
              "        const docLinkHtml = 'Like what you see? Visit the ' +\n",
              "          '<a target=\"_blank\" href=https://colab.research.google.com/notebooks/data_table.ipynb>data table notebook</a>'\n",
              "          + ' to learn more about interactive tables.';\n",
              "        element.innerHTML = '';\n",
              "        dataTable['output_type'] = 'display_data';\n",
              "        await google.colab.output.renderOutput(dataTable, element);\n",
              "        const docLink = document.createElement('div');\n",
              "        docLink.innerHTML = docLinkHtml;\n",
              "        element.appendChild(docLink);\n",
              "      }\n",
              "    </script>\n",
              "  </div>\n",
              "\n",
              "\n",
              "<div id=\"df-e15253d3-7d92-475f-9d40-574bdc1cd3e5\">\n",
              "  <button class=\"colab-df-quickchart\" onclick=\"quickchart('df-e15253d3-7d92-475f-9d40-574bdc1cd3e5')\"\n",
              "            title=\"Suggest charts.\"\n",
              "            style=\"display:none;\">\n",
              "\n",
              "<svg xmlns=\"http://www.w3.org/2000/svg\" height=\"24px\"viewBox=\"0 0 24 24\"\n",
              "     width=\"24px\">\n",
              "    <g>\n",
              "        <path d=\"M19 3H5c-1.1 0-2 .9-2 2v14c0 1.1.9 2 2 2h14c1.1 0 2-.9 2-2V5c0-1.1-.9-2-2-2zM9 17H7v-7h2v7zm4 0h-2V7h2v10zm4 0h-2v-4h2v4z\"/>\n",
              "    </g>\n",
              "</svg>\n",
              "  </button>\n",
              "\n",
              "<style>\n",
              "  .colab-df-quickchart {\n",
              "    background-color: #E8F0FE;\n",
              "    border: none;\n",
              "    border-radius: 50%;\n",
              "    cursor: pointer;\n",
              "    display: none;\n",
              "    fill: #1967D2;\n",
              "    height: 32px;\n",
              "    padding: 0 0 0 0;\n",
              "    width: 32px;\n",
              "  }\n",
              "\n",
              "  .colab-df-quickchart:hover {\n",
              "    background-color: #E2EBFA;\n",
              "    box-shadow: 0px 1px 2px rgba(60, 64, 67, 0.3), 0px 1px 3px 1px rgba(60, 64, 67, 0.15);\n",
              "    fill: #174EA6;\n",
              "  }\n",
              "\n",
              "  [theme=dark] .colab-df-quickchart {\n",
              "    background-color: #3B4455;\n",
              "    fill: #D2E3FC;\n",
              "  }\n",
              "\n",
              "  [theme=dark] .colab-df-quickchart:hover {\n",
              "    background-color: #434B5C;\n",
              "    box-shadow: 0px 1px 3px 1px rgba(0, 0, 0, 0.15);\n",
              "    filter: drop-shadow(0px 1px 2px rgba(0, 0, 0, 0.3));\n",
              "    fill: #FFFFFF;\n",
              "  }\n",
              "</style>\n",
              "\n",
              "  <script>\n",
              "    async function quickchart(key) {\n",
              "      const charts = await google.colab.kernel.invokeFunction(\n",
              "          'suggestCharts', [key], {});\n",
              "    }\n",
              "    (() => {\n",
              "      let quickchartButtonEl =\n",
              "        document.querySelector('#df-e15253d3-7d92-475f-9d40-574bdc1cd3e5 button');\n",
              "      quickchartButtonEl.style.display =\n",
              "        google.colab.kernel.accessAllowed ? 'block' : 'none';\n",
              "    })();\n",
              "  </script>\n",
              "</div>\n",
              "    </div>\n",
              "  </div>\n"
            ]
          },
          "metadata": {},
          "execution_count": 17
        }
      ]
    },
    {
      "cell_type": "markdown",
      "metadata": {
        "id": "5Xzd1rUkgdYY"
      },
      "source": [
        "Câu 12. Đổi index của df1 thành các ngày cuối tháng của năm 2021. In df1."
      ]
    },
    {
      "cell_type": "code",
      "metadata": {
        "colab": {
          "base_uri": "https://localhost:8080/",
          "height": 425
        },
        "id": "saQP9ud5gdYd",
        "outputId": "631b14fa-000a-40f1-bc87-ec06f2f067ce"
      },
      "source": [
        "df1.index = d1\n",
        "df1"
      ],
      "execution_count": 18,
      "outputs": [
        {
          "output_type": "execute_result",
          "data": {
            "text/plain": [
              "            Month  Customers  Profit\n",
              "2021-01-31      1        341    3218\n",
              "2021-02-28      2        243    2238\n",
              "2021-03-31      3        223    2038\n",
              "2021-04-30      4        464    4448\n",
              "2021-05-31      5        534    5148\n",
              "2021-06-30      6        543    5238\n",
              "2021-07-31      7        356    3368\n",
              "2021-08-31      8        378    3588\n",
              "2021-09-30      9        289    2698\n",
              "2021-10-31     10        330    3108\n",
              "2021-11-30     11        254    2348\n",
              "2021-12-31     12        285    2658"
            ],
            "text/html": [
              "\n",
              "  <div id=\"df-beb7f258-c0cd-427c-8dc2-dbf62db39937\" class=\"colab-df-container\">\n",
              "    <div>\n",
              "<style scoped>\n",
              "    .dataframe tbody tr th:only-of-type {\n",
              "        vertical-align: middle;\n",
              "    }\n",
              "\n",
              "    .dataframe tbody tr th {\n",
              "        vertical-align: top;\n",
              "    }\n",
              "\n",
              "    .dataframe thead th {\n",
              "        text-align: right;\n",
              "    }\n",
              "</style>\n",
              "<table border=\"1\" class=\"dataframe\">\n",
              "  <thead>\n",
              "    <tr style=\"text-align: right;\">\n",
              "      <th></th>\n",
              "      <th>Month</th>\n",
              "      <th>Customers</th>\n",
              "      <th>Profit</th>\n",
              "    </tr>\n",
              "  </thead>\n",
              "  <tbody>\n",
              "    <tr>\n",
              "      <th>2021-01-31</th>\n",
              "      <td>1</td>\n",
              "      <td>341</td>\n",
              "      <td>3218</td>\n",
              "    </tr>\n",
              "    <tr>\n",
              "      <th>2021-02-28</th>\n",
              "      <td>2</td>\n",
              "      <td>243</td>\n",
              "      <td>2238</td>\n",
              "    </tr>\n",
              "    <tr>\n",
              "      <th>2021-03-31</th>\n",
              "      <td>3</td>\n",
              "      <td>223</td>\n",
              "      <td>2038</td>\n",
              "    </tr>\n",
              "    <tr>\n",
              "      <th>2021-04-30</th>\n",
              "      <td>4</td>\n",
              "      <td>464</td>\n",
              "      <td>4448</td>\n",
              "    </tr>\n",
              "    <tr>\n",
              "      <th>2021-05-31</th>\n",
              "      <td>5</td>\n",
              "      <td>534</td>\n",
              "      <td>5148</td>\n",
              "    </tr>\n",
              "    <tr>\n",
              "      <th>2021-06-30</th>\n",
              "      <td>6</td>\n",
              "      <td>543</td>\n",
              "      <td>5238</td>\n",
              "    </tr>\n",
              "    <tr>\n",
              "      <th>2021-07-31</th>\n",
              "      <td>7</td>\n",
              "      <td>356</td>\n",
              "      <td>3368</td>\n",
              "    </tr>\n",
              "    <tr>\n",
              "      <th>2021-08-31</th>\n",
              "      <td>8</td>\n",
              "      <td>378</td>\n",
              "      <td>3588</td>\n",
              "    </tr>\n",
              "    <tr>\n",
              "      <th>2021-09-30</th>\n",
              "      <td>9</td>\n",
              "      <td>289</td>\n",
              "      <td>2698</td>\n",
              "    </tr>\n",
              "    <tr>\n",
              "      <th>2021-10-31</th>\n",
              "      <td>10</td>\n",
              "      <td>330</td>\n",
              "      <td>3108</td>\n",
              "    </tr>\n",
              "    <tr>\n",
              "      <th>2021-11-30</th>\n",
              "      <td>11</td>\n",
              "      <td>254</td>\n",
              "      <td>2348</td>\n",
              "    </tr>\n",
              "    <tr>\n",
              "      <th>2021-12-31</th>\n",
              "      <td>12</td>\n",
              "      <td>285</td>\n",
              "      <td>2658</td>\n",
              "    </tr>\n",
              "  </tbody>\n",
              "</table>\n",
              "</div>\n",
              "    <div class=\"colab-df-buttons\">\n",
              "\n",
              "  <div class=\"colab-df-container\">\n",
              "    <button class=\"colab-df-convert\" onclick=\"convertToInteractive('df-beb7f258-c0cd-427c-8dc2-dbf62db39937')\"\n",
              "            title=\"Convert this dataframe to an interactive table.\"\n",
              "            style=\"display:none;\">\n",
              "\n",
              "  <svg xmlns=\"http://www.w3.org/2000/svg\" height=\"24px\" viewBox=\"0 -960 960 960\">\n",
              "    <path d=\"M120-120v-720h720v720H120Zm60-500h600v-160H180v160Zm220 220h160v-160H400v160Zm0 220h160v-160H400v160ZM180-400h160v-160H180v160Zm440 0h160v-160H620v160ZM180-180h160v-160H180v160Zm440 0h160v-160H620v160Z\"/>\n",
              "  </svg>\n",
              "    </button>\n",
              "\n",
              "  <style>\n",
              "    .colab-df-container {\n",
              "      display:flex;\n",
              "      gap: 12px;\n",
              "    }\n",
              "\n",
              "    .colab-df-convert {\n",
              "      background-color: #E8F0FE;\n",
              "      border: none;\n",
              "      border-radius: 50%;\n",
              "      cursor: pointer;\n",
              "      display: none;\n",
              "      fill: #1967D2;\n",
              "      height: 32px;\n",
              "      padding: 0 0 0 0;\n",
              "      width: 32px;\n",
              "    }\n",
              "\n",
              "    .colab-df-convert:hover {\n",
              "      background-color: #E2EBFA;\n",
              "      box-shadow: 0px 1px 2px rgba(60, 64, 67, 0.3), 0px 1px 3px 1px rgba(60, 64, 67, 0.15);\n",
              "      fill: #174EA6;\n",
              "    }\n",
              "\n",
              "    .colab-df-buttons div {\n",
              "      margin-bottom: 4px;\n",
              "    }\n",
              "\n",
              "    [theme=dark] .colab-df-convert {\n",
              "      background-color: #3B4455;\n",
              "      fill: #D2E3FC;\n",
              "    }\n",
              "\n",
              "    [theme=dark] .colab-df-convert:hover {\n",
              "      background-color: #434B5C;\n",
              "      box-shadow: 0px 1px 3px 1px rgba(0, 0, 0, 0.15);\n",
              "      filter: drop-shadow(0px 1px 2px rgba(0, 0, 0, 0.3));\n",
              "      fill: #FFFFFF;\n",
              "    }\n",
              "  </style>\n",
              "\n",
              "    <script>\n",
              "      const buttonEl =\n",
              "        document.querySelector('#df-beb7f258-c0cd-427c-8dc2-dbf62db39937 button.colab-df-convert');\n",
              "      buttonEl.style.display =\n",
              "        google.colab.kernel.accessAllowed ? 'block' : 'none';\n",
              "\n",
              "      async function convertToInteractive(key) {\n",
              "        const element = document.querySelector('#df-beb7f258-c0cd-427c-8dc2-dbf62db39937');\n",
              "        const dataTable =\n",
              "          await google.colab.kernel.invokeFunction('convertToInteractive',\n",
              "                                                    [key], {});\n",
              "        if (!dataTable) return;\n",
              "\n",
              "        const docLinkHtml = 'Like what you see? Visit the ' +\n",
              "          '<a target=\"_blank\" href=https://colab.research.google.com/notebooks/data_table.ipynb>data table notebook</a>'\n",
              "          + ' to learn more about interactive tables.';\n",
              "        element.innerHTML = '';\n",
              "        dataTable['output_type'] = 'display_data';\n",
              "        await google.colab.output.renderOutput(dataTable, element);\n",
              "        const docLink = document.createElement('div');\n",
              "        docLink.innerHTML = docLinkHtml;\n",
              "        element.appendChild(docLink);\n",
              "      }\n",
              "    </script>\n",
              "  </div>\n",
              "\n",
              "\n",
              "<div id=\"df-7afa0857-fb5b-4089-9d7c-c06d6329dbbe\">\n",
              "  <button class=\"colab-df-quickchart\" onclick=\"quickchart('df-7afa0857-fb5b-4089-9d7c-c06d6329dbbe')\"\n",
              "            title=\"Suggest charts.\"\n",
              "            style=\"display:none;\">\n",
              "\n",
              "<svg xmlns=\"http://www.w3.org/2000/svg\" height=\"24px\"viewBox=\"0 0 24 24\"\n",
              "     width=\"24px\">\n",
              "    <g>\n",
              "        <path d=\"M19 3H5c-1.1 0-2 .9-2 2v14c0 1.1.9 2 2 2h14c1.1 0 2-.9 2-2V5c0-1.1-.9-2-2-2zM9 17H7v-7h2v7zm4 0h-2V7h2v10zm4 0h-2v-4h2v4z\"/>\n",
              "    </g>\n",
              "</svg>\n",
              "  </button>\n",
              "\n",
              "<style>\n",
              "  .colab-df-quickchart {\n",
              "    background-color: #E8F0FE;\n",
              "    border: none;\n",
              "    border-radius: 50%;\n",
              "    cursor: pointer;\n",
              "    display: none;\n",
              "    fill: #1967D2;\n",
              "    height: 32px;\n",
              "    padding: 0 0 0 0;\n",
              "    width: 32px;\n",
              "  }\n",
              "\n",
              "  .colab-df-quickchart:hover {\n",
              "    background-color: #E2EBFA;\n",
              "    box-shadow: 0px 1px 2px rgba(60, 64, 67, 0.3), 0px 1px 3px 1px rgba(60, 64, 67, 0.15);\n",
              "    fill: #174EA6;\n",
              "  }\n",
              "\n",
              "  [theme=dark] .colab-df-quickchart {\n",
              "    background-color: #3B4455;\n",
              "    fill: #D2E3FC;\n",
              "  }\n",
              "\n",
              "  [theme=dark] .colab-df-quickchart:hover {\n",
              "    background-color: #434B5C;\n",
              "    box-shadow: 0px 1px 3px 1px rgba(0, 0, 0, 0.15);\n",
              "    filter: drop-shadow(0px 1px 2px rgba(0, 0, 0, 0.3));\n",
              "    fill: #FFFFFF;\n",
              "  }\n",
              "</style>\n",
              "\n",
              "  <script>\n",
              "    async function quickchart(key) {\n",
              "      const charts = await google.colab.kernel.invokeFunction(\n",
              "          'suggestCharts', [key], {});\n",
              "    }\n",
              "    (() => {\n",
              "      let quickchartButtonEl =\n",
              "        document.querySelector('#df-7afa0857-fb5b-4089-9d7c-c06d6329dbbe button');\n",
              "      quickchartButtonEl.style.display =\n",
              "        google.colab.kernel.accessAllowed ? 'block' : 'none';\n",
              "    })();\n",
              "  </script>\n",
              "</div>\n",
              "    </div>\n",
              "  </div>\n"
            ]
          },
          "metadata": {},
          "execution_count": 18
        }
      ]
    },
    {
      "cell_type": "markdown",
      "metadata": {
        "id": "8kL-8cgkgdYf"
      },
      "source": [
        "Câu 13. Đổi cột Month thành viết tắt của các tháng: 'Jan', 'Feb', 'Mar', 'Apr', 'May', 'Jun', 'Jul', 'Aug', 'Sep', 'Oct', 'Nov', 'Dec'.\n",
        "\n",
        "Dùng hàm .loc của dataframe để truy xuất dòng dữ liệu của tháng 2. In ra dòng này. Gợi ý: Hàm Timestamp của pd."
      ]
    },
    {
      "cell_type": "code",
      "metadata": {
        "colab": {
          "base_uri": "https://localhost:8080/",
          "height": 426
        },
        "id": "YtJbZ1r2gdYh",
        "outputId": "86a53524-38d6-4767-ed08-34be41993ac3"
      },
      "source": [
        "df1['Month']= ['Jan', 'Feb', 'Mar', 'Apr', 'May', 'Jun', 'Jul', 'Aug', 'Sep', 'Oct', 'Nov', 'Dec']\n",
        "\n",
        "df1"
      ],
      "execution_count": null,
      "outputs": [
        {
          "output_type": "execute_result",
          "data": {
            "text/html": [
              "<div>\n",
              "<style scoped>\n",
              "    .dataframe tbody tr th:only-of-type {\n",
              "        vertical-align: middle;\n",
              "    }\n",
              "\n",
              "    .dataframe tbody tr th {\n",
              "        vertical-align: top;\n",
              "    }\n",
              "\n",
              "    .dataframe thead th {\n",
              "        text-align: right;\n",
              "    }\n",
              "</style>\n",
              "<table border=\"1\" class=\"dataframe\">\n",
              "  <thead>\n",
              "    <tr style=\"text-align: right;\">\n",
              "      <th></th>\n",
              "      <th>Month</th>\n",
              "      <th>Customers</th>\n",
              "      <th>Profit</th>\n",
              "    </tr>\n",
              "  </thead>\n",
              "  <tbody>\n",
              "    <tr>\n",
              "      <th>2021-01-31</th>\n",
              "      <td>Jan</td>\n",
              "      <td>341</td>\n",
              "      <td>3218</td>\n",
              "    </tr>\n",
              "    <tr>\n",
              "      <th>2021-02-28</th>\n",
              "      <td>Feb</td>\n",
              "      <td>243</td>\n",
              "      <td>2238</td>\n",
              "    </tr>\n",
              "    <tr>\n",
              "      <th>2021-03-31</th>\n",
              "      <td>Mar</td>\n",
              "      <td>223</td>\n",
              "      <td>2038</td>\n",
              "    </tr>\n",
              "    <tr>\n",
              "      <th>2021-04-30</th>\n",
              "      <td>Apr</td>\n",
              "      <td>464</td>\n",
              "      <td>4448</td>\n",
              "    </tr>\n",
              "    <tr>\n",
              "      <th>2021-05-31</th>\n",
              "      <td>May</td>\n",
              "      <td>534</td>\n",
              "      <td>5148</td>\n",
              "    </tr>\n",
              "    <tr>\n",
              "      <th>2021-06-30</th>\n",
              "      <td>Jun</td>\n",
              "      <td>543</td>\n",
              "      <td>5238</td>\n",
              "    </tr>\n",
              "    <tr>\n",
              "      <th>2021-07-31</th>\n",
              "      <td>Jul</td>\n",
              "      <td>356</td>\n",
              "      <td>3368</td>\n",
              "    </tr>\n",
              "    <tr>\n",
              "      <th>2021-08-31</th>\n",
              "      <td>Aug</td>\n",
              "      <td>378</td>\n",
              "      <td>3588</td>\n",
              "    </tr>\n",
              "    <tr>\n",
              "      <th>2021-09-30</th>\n",
              "      <td>Sep</td>\n",
              "      <td>289</td>\n",
              "      <td>2698</td>\n",
              "    </tr>\n",
              "    <tr>\n",
              "      <th>2021-10-31</th>\n",
              "      <td>Oct</td>\n",
              "      <td>330</td>\n",
              "      <td>3108</td>\n",
              "    </tr>\n",
              "    <tr>\n",
              "      <th>2021-11-30</th>\n",
              "      <td>Nov</td>\n",
              "      <td>254</td>\n",
              "      <td>2348</td>\n",
              "    </tr>\n",
              "    <tr>\n",
              "      <th>2021-12-31</th>\n",
              "      <td>Dec</td>\n",
              "      <td>285</td>\n",
              "      <td>2658</td>\n",
              "    </tr>\n",
              "  </tbody>\n",
              "</table>\n",
              "</div>"
            ],
            "text/plain": [
              "           Month  Customers  Profit\n",
              "2021-01-31   Jan        341    3218\n",
              "2021-02-28   Feb        243    2238\n",
              "2021-03-31   Mar        223    2038\n",
              "2021-04-30   Apr        464    4448\n",
              "2021-05-31   May        534    5148\n",
              "2021-06-30   Jun        543    5238\n",
              "2021-07-31   Jul        356    3368\n",
              "2021-08-31   Aug        378    3588\n",
              "2021-09-30   Sep        289    2698\n",
              "2021-10-31   Oct        330    3108\n",
              "2021-11-30   Nov        254    2348\n",
              "2021-12-31   Dec        285    2658"
            ]
          },
          "metadata": {},
          "execution_count": 97
        }
      ]
    },
    {
      "cell_type": "code",
      "metadata": {
        "colab": {
          "base_uri": "https://localhost:8080/"
        },
        "id": "dWOIspXw_Qw5",
        "outputId": "f7ae5491-dc19-4f75-d9d0-68dcb6e52c99"
      },
      "source": [
        "t = pd.Timestamp(2021,2,28)\n",
        "print(df1.loc[t])"
      ],
      "execution_count": null,
      "outputs": [
        {
          "output_type": "stream",
          "name": "stdout",
          "text": [
            "Month         Feb\n",
            "Customers     243\n",
            "Profit       2238\n",
            "Name: 2021-02-28 00:00:00, dtype: object\n"
          ]
        }
      ]
    },
    {
      "cell_type": "markdown",
      "metadata": {
        "id": "88FdbmqFgdYh"
      },
      "source": [
        "Câu 14. Lọc ra dữ liệu các tháng có profit đạt nhiều hơn 3000 và lưu vào biến df2. In df2.\n",
        "\n",
        "Tính số lượng khách hàng trung bình của các dòng dữ liệu này và chuyển về dạng số nguyên. In kết quả. Gợi ý: Mỗi cột của dataframe là một series. Tham khảo https://docs.python.org/3/library/functions.html để tìm hàm làm tròn."
      ]
    },
    {
      "cell_type": "code",
      "metadata": {
        "colab": {
          "base_uri": "https://localhost:8080/",
          "height": 269
        },
        "id": "g2zivhyzgdYj",
        "outputId": "ef02cc54-89d9-47c4-962e-d5a26204a504"
      },
      "source": [
        "df2 =  df1[df1.Profit>3000]\n",
        "df2"
      ],
      "execution_count": null,
      "outputs": [
        {
          "output_type": "execute_result",
          "data": {
            "text/html": [
              "<div>\n",
              "<style scoped>\n",
              "    .dataframe tbody tr th:only-of-type {\n",
              "        vertical-align: middle;\n",
              "    }\n",
              "\n",
              "    .dataframe tbody tr th {\n",
              "        vertical-align: top;\n",
              "    }\n",
              "\n",
              "    .dataframe thead th {\n",
              "        text-align: right;\n",
              "    }\n",
              "</style>\n",
              "<table border=\"1\" class=\"dataframe\">\n",
              "  <thead>\n",
              "    <tr style=\"text-align: right;\">\n",
              "      <th></th>\n",
              "      <th>Month</th>\n",
              "      <th>Customers</th>\n",
              "      <th>Profit</th>\n",
              "    </tr>\n",
              "  </thead>\n",
              "  <tbody>\n",
              "    <tr>\n",
              "      <th>2021-01-31</th>\n",
              "      <td>Jan</td>\n",
              "      <td>341</td>\n",
              "      <td>3218</td>\n",
              "    </tr>\n",
              "    <tr>\n",
              "      <th>2021-04-30</th>\n",
              "      <td>Apr</td>\n",
              "      <td>464</td>\n",
              "      <td>4448</td>\n",
              "    </tr>\n",
              "    <tr>\n",
              "      <th>2021-05-31</th>\n",
              "      <td>May</td>\n",
              "      <td>534</td>\n",
              "      <td>5148</td>\n",
              "    </tr>\n",
              "    <tr>\n",
              "      <th>2021-06-30</th>\n",
              "      <td>Jun</td>\n",
              "      <td>543</td>\n",
              "      <td>5238</td>\n",
              "    </tr>\n",
              "    <tr>\n",
              "      <th>2021-07-31</th>\n",
              "      <td>Jul</td>\n",
              "      <td>356</td>\n",
              "      <td>3368</td>\n",
              "    </tr>\n",
              "    <tr>\n",
              "      <th>2021-08-31</th>\n",
              "      <td>Aug</td>\n",
              "      <td>378</td>\n",
              "      <td>3588</td>\n",
              "    </tr>\n",
              "    <tr>\n",
              "      <th>2021-10-31</th>\n",
              "      <td>Oct</td>\n",
              "      <td>330</td>\n",
              "      <td>3108</td>\n",
              "    </tr>\n",
              "  </tbody>\n",
              "</table>\n",
              "</div>"
            ],
            "text/plain": [
              "           Month  Customers  Profit\n",
              "2021-01-31   Jan        341    3218\n",
              "2021-04-30   Apr        464    4448\n",
              "2021-05-31   May        534    5148\n",
              "2021-06-30   Jun        543    5238\n",
              "2021-07-31   Jul        356    3368\n",
              "2021-08-31   Aug        378    3588\n",
              "2021-10-31   Oct        330    3108"
            ]
          },
          "metadata": {},
          "execution_count": 156
        }
      ]
    },
    {
      "cell_type": "code",
      "metadata": {
        "colab": {
          "base_uri": "https://localhost:8080/"
        },
        "id": "q7zMJY2y-_cP",
        "outputId": "9f1b1f0f-bd64-4090-84df-7431f96c1306"
      },
      "source": [
        "a = int(round(df1['Customers'].mean()))\n",
        "print(a)"
      ],
      "execution_count": null,
      "outputs": [
        {
          "output_type": "stream",
          "name": "stdout",
          "text": [
            "353\n"
          ]
        }
      ]
    },
    {
      "cell_type": "markdown",
      "metadata": {
        "id": "lERQJR8FgdYj"
      },
      "source": [
        "Câu 15. In dữ liệu các tháng có profit cao hơn trung bình."
      ]
    },
    {
      "cell_type": "code",
      "metadata": {
        "colab": {
          "base_uri": "https://localhost:8080/",
          "height": 206
        },
        "id": "DVXvKer9gdYq",
        "outputId": "1e1049d1-e072-4dd7-8a5c-5731b7e6be6d"
      },
      "source": [
        "b = int(round(df1['Profit'].mean()))\n",
        "df3 = df1[df1.Profit > b]\n",
        "df3"
      ],
      "execution_count": null,
      "outputs": [
        {
          "output_type": "execute_result",
          "data": {
            "text/html": [
              "<div>\n",
              "<style scoped>\n",
              "    .dataframe tbody tr th:only-of-type {\n",
              "        vertical-align: middle;\n",
              "    }\n",
              "\n",
              "    .dataframe tbody tr th {\n",
              "        vertical-align: top;\n",
              "    }\n",
              "\n",
              "    .dataframe thead th {\n",
              "        text-align: right;\n",
              "    }\n",
              "</style>\n",
              "<table border=\"1\" class=\"dataframe\">\n",
              "  <thead>\n",
              "    <tr style=\"text-align: right;\">\n",
              "      <th></th>\n",
              "      <th>Month</th>\n",
              "      <th>Customers</th>\n",
              "      <th>Profit</th>\n",
              "    </tr>\n",
              "  </thead>\n",
              "  <tbody>\n",
              "    <tr>\n",
              "      <th>2021-04-30</th>\n",
              "      <td>Apr</td>\n",
              "      <td>464</td>\n",
              "      <td>4448</td>\n",
              "    </tr>\n",
              "    <tr>\n",
              "      <th>2021-05-31</th>\n",
              "      <td>May</td>\n",
              "      <td>534</td>\n",
              "      <td>5148</td>\n",
              "    </tr>\n",
              "    <tr>\n",
              "      <th>2021-06-30</th>\n",
              "      <td>Jun</td>\n",
              "      <td>543</td>\n",
              "      <td>5238</td>\n",
              "    </tr>\n",
              "    <tr>\n",
              "      <th>2021-07-31</th>\n",
              "      <td>Jul</td>\n",
              "      <td>356</td>\n",
              "      <td>3368</td>\n",
              "    </tr>\n",
              "    <tr>\n",
              "      <th>2021-08-31</th>\n",
              "      <td>Aug</td>\n",
              "      <td>378</td>\n",
              "      <td>3588</td>\n",
              "    </tr>\n",
              "  </tbody>\n",
              "</table>\n",
              "</div>"
            ],
            "text/plain": [
              "           Month  Customers  Profit\n",
              "2021-04-30   Apr        464    4448\n",
              "2021-05-31   May        534    5148\n",
              "2021-06-30   Jun        543    5238\n",
              "2021-07-31   Jul        356    3368\n",
              "2021-08-31   Aug        378    3588"
            ]
          },
          "metadata": {},
          "execution_count": 164
        }
      ]
    }
  ]
}